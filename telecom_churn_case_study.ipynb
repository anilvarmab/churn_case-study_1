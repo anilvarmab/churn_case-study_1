{
 "cells": [
  {
   "cell_type": "markdown",
   "metadata": {},
   "source": [
    "## Understanding and Defining Churn:\n",
    "1. Definitions of Churn: This project is based on the Indian and Southeast Asian market. i.e. Prepaid plan\n",
    "2. Usage-based churn: Customers who have not done any usage, either incoming or outgoing - in terms of calls, internet etc. over a period of time. In this project, you will use the usage-based definition to define churn.\n",
    "3. High-value Churn: In the Indian and the southeast Asian market, approximately 80% of revenue comes from the top 20% customers (called high-value customers). Thus, if we can reduce churn of the high-value customers, we will be able to reduce significant revenue leakage. In this project, you will define high-value customers based on a certain metric (mentioned later below) and predict churn only on high-value customers."
   ]
  },
  {
   "cell_type": "markdown",
   "metadata": {},
   "source": [
    "## Understanding the Data:\n",
    "The dataset contains customer-level information for a span of four consecutive months - June, July, August and September. The months are encoded as 6, 7, 8 and 9, respectively. "
   ]
  },
  {
   "cell_type": "markdown",
   "metadata": {},
   "source": [
    "## Understanding the Business Objective:\n",
    "The business objective is to predict the churn in the last (i.e. the ninth) month using the data (features) from the first three months. To do this task well, understanding the typical customer behaviour during churn will be helpful."
   ]
  },
  {
   "cell_type": "code",
   "execution_count": 307,
   "metadata": {},
   "outputs": [],
   "source": [
    "import pandas as pd\n",
    "import numpy as np\n",
    "import matplotlib.pyplot as plt\n",
    "import seaborn as sns\n",
    "from sklearn.preprocessing import StandardScaler\n",
    "from sklearn.decomposition import PCA\n",
    "from sklearn.linear_model import LogisticRegression\n",
    "\n",
    "%matplotlib inline"
   ]
  },
  {
   "cell_type": "code",
   "execution_count": 308,
   "metadata": {},
   "outputs": [],
   "source": [
    "np.random.seed(0)"
   ]
  },
  {
   "cell_type": "code",
   "execution_count": 309,
   "metadata": {},
   "outputs": [
    {
     "data": {
      "text/html": [
       "<div>\n",
       "<style scoped>\n",
       "    .dataframe tbody tr th:only-of-type {\n",
       "        vertical-align: middle;\n",
       "    }\n",
       "\n",
       "    .dataframe tbody tr th {\n",
       "        vertical-align: top;\n",
       "    }\n",
       "\n",
       "    .dataframe thead th {\n",
       "        text-align: right;\n",
       "    }\n",
       "</style>\n",
       "<table border=\"1\" class=\"dataframe\">\n",
       "  <thead>\n",
       "    <tr style=\"text-align: right;\">\n",
       "      <th></th>\n",
       "      <th>Acronyms</th>\n",
       "      <th>Descriptions</th>\n",
       "    </tr>\n",
       "  </thead>\n",
       "  <tbody>\n",
       "    <tr>\n",
       "      <th>0</th>\n",
       "      <td>MOBILE_NUMBER</td>\n",
       "      <td>Customer phone number</td>\n",
       "    </tr>\n",
       "    <tr>\n",
       "      <th>1</th>\n",
       "      <td>CIRCLE_ID</td>\n",
       "      <td>Telecom circle area to which the customer belo...</td>\n",
       "    </tr>\n",
       "    <tr>\n",
       "      <th>2</th>\n",
       "      <td>LOC</td>\n",
       "      <td>Local calls - within same telecom circle</td>\n",
       "    </tr>\n",
       "    <tr>\n",
       "      <th>3</th>\n",
       "      <td>STD</td>\n",
       "      <td>STD calls - outside the calling circle</td>\n",
       "    </tr>\n",
       "    <tr>\n",
       "      <th>4</th>\n",
       "      <td>IC</td>\n",
       "      <td>Incoming calls</td>\n",
       "    </tr>\n",
       "  </tbody>\n",
       "</table>\n",
       "</div>"
      ],
      "text/plain": [
       "    Acronyms                                           Descriptions\n",
       "0  MOBILE_NUMBER                              Customer phone number\n",
       "1      CIRCLE_ID  Telecom circle area to which the customer belo...\n",
       "2            LOC           Local calls - within same telecom circle\n",
       "3            STD             STD calls - outside the calling circle\n",
       "4             IC                                     Incoming calls"
      ]
     },
     "execution_count": 309,
     "metadata": {},
     "output_type": "execute_result"
    }
   ],
   "source": [
    "data_dict=pd.read_excel('Data+Dictionary-+Telecom+Churn+Case+Study.xlsx')\n",
    "\n",
    "data_dict.head()"
   ]
  },
  {
   "cell_type": "markdown",
   "metadata": {},
   "source": [
    "### Step 1: Importing Data"
   ]
  },
  {
   "cell_type": "code",
   "execution_count": 310,
   "metadata": {},
   "outputs": [
    {
     "data": {
      "text/html": [
       "<div>\n",
       "<style scoped>\n",
       "    .dataframe tbody tr th:only-of-type {\n",
       "        vertical-align: middle;\n",
       "    }\n",
       "\n",
       "    .dataframe tbody tr th {\n",
       "        vertical-align: top;\n",
       "    }\n",
       "\n",
       "    .dataframe thead th {\n",
       "        text-align: right;\n",
       "    }\n",
       "</style>\n",
       "<table border=\"1\" class=\"dataframe\">\n",
       "  <thead>\n",
       "    <tr style=\"text-align: right;\">\n",
       "      <th></th>\n",
       "      <th>mobile_number</th>\n",
       "      <th>circle_id</th>\n",
       "      <th>loc_og_t2o_mou</th>\n",
       "      <th>std_og_t2o_mou</th>\n",
       "      <th>loc_ic_t2o_mou</th>\n",
       "      <th>last_date_of_month_6</th>\n",
       "      <th>last_date_of_month_7</th>\n",
       "      <th>last_date_of_month_8</th>\n",
       "      <th>last_date_of_month_9</th>\n",
       "      <th>arpu_6</th>\n",
       "      <th>...</th>\n",
       "      <th>sachet_3g_9</th>\n",
       "      <th>fb_user_6</th>\n",
       "      <th>fb_user_7</th>\n",
       "      <th>fb_user_8</th>\n",
       "      <th>fb_user_9</th>\n",
       "      <th>aon</th>\n",
       "      <th>aug_vbc_3g</th>\n",
       "      <th>jul_vbc_3g</th>\n",
       "      <th>jun_vbc_3g</th>\n",
       "      <th>sep_vbc_3g</th>\n",
       "    </tr>\n",
       "  </thead>\n",
       "  <tbody>\n",
       "    <tr>\n",
       "      <th>0</th>\n",
       "      <td>7000842753</td>\n",
       "      <td>109</td>\n",
       "      <td>0.0</td>\n",
       "      <td>0.0</td>\n",
       "      <td>0.0</td>\n",
       "      <td>6/30/2014</td>\n",
       "      <td>7/31/2014</td>\n",
       "      <td>8/31/2014</td>\n",
       "      <td>9/30/2014</td>\n",
       "      <td>197.385</td>\n",
       "      <td>...</td>\n",
       "      <td>0</td>\n",
       "      <td>1.0</td>\n",
       "      <td>1.0</td>\n",
       "      <td>1.0</td>\n",
       "      <td>NaN</td>\n",
       "      <td>968</td>\n",
       "      <td>30.4</td>\n",
       "      <td>0.0</td>\n",
       "      <td>101.20</td>\n",
       "      <td>3.58</td>\n",
       "    </tr>\n",
       "    <tr>\n",
       "      <th>1</th>\n",
       "      <td>7001865778</td>\n",
       "      <td>109</td>\n",
       "      <td>0.0</td>\n",
       "      <td>0.0</td>\n",
       "      <td>0.0</td>\n",
       "      <td>6/30/2014</td>\n",
       "      <td>7/31/2014</td>\n",
       "      <td>8/31/2014</td>\n",
       "      <td>9/30/2014</td>\n",
       "      <td>34.047</td>\n",
       "      <td>...</td>\n",
       "      <td>0</td>\n",
       "      <td>NaN</td>\n",
       "      <td>1.0</td>\n",
       "      <td>1.0</td>\n",
       "      <td>NaN</td>\n",
       "      <td>1006</td>\n",
       "      <td>0.0</td>\n",
       "      <td>0.0</td>\n",
       "      <td>0.00</td>\n",
       "      <td>0.00</td>\n",
       "    </tr>\n",
       "    <tr>\n",
       "      <th>2</th>\n",
       "      <td>7001625959</td>\n",
       "      <td>109</td>\n",
       "      <td>0.0</td>\n",
       "      <td>0.0</td>\n",
       "      <td>0.0</td>\n",
       "      <td>6/30/2014</td>\n",
       "      <td>7/31/2014</td>\n",
       "      <td>8/31/2014</td>\n",
       "      <td>9/30/2014</td>\n",
       "      <td>167.690</td>\n",
       "      <td>...</td>\n",
       "      <td>0</td>\n",
       "      <td>NaN</td>\n",
       "      <td>NaN</td>\n",
       "      <td>NaN</td>\n",
       "      <td>1.0</td>\n",
       "      <td>1103</td>\n",
       "      <td>0.0</td>\n",
       "      <td>0.0</td>\n",
       "      <td>4.17</td>\n",
       "      <td>0.00</td>\n",
       "    </tr>\n",
       "    <tr>\n",
       "      <th>3</th>\n",
       "      <td>7001204172</td>\n",
       "      <td>109</td>\n",
       "      <td>0.0</td>\n",
       "      <td>0.0</td>\n",
       "      <td>0.0</td>\n",
       "      <td>6/30/2014</td>\n",
       "      <td>7/31/2014</td>\n",
       "      <td>8/31/2014</td>\n",
       "      <td>9/30/2014</td>\n",
       "      <td>221.338</td>\n",
       "      <td>...</td>\n",
       "      <td>0</td>\n",
       "      <td>NaN</td>\n",
       "      <td>NaN</td>\n",
       "      <td>NaN</td>\n",
       "      <td>NaN</td>\n",
       "      <td>2491</td>\n",
       "      <td>0.0</td>\n",
       "      <td>0.0</td>\n",
       "      <td>0.00</td>\n",
       "      <td>0.00</td>\n",
       "    </tr>\n",
       "    <tr>\n",
       "      <th>4</th>\n",
       "      <td>7000142493</td>\n",
       "      <td>109</td>\n",
       "      <td>0.0</td>\n",
       "      <td>0.0</td>\n",
       "      <td>0.0</td>\n",
       "      <td>6/30/2014</td>\n",
       "      <td>7/31/2014</td>\n",
       "      <td>8/31/2014</td>\n",
       "      <td>9/30/2014</td>\n",
       "      <td>261.636</td>\n",
       "      <td>...</td>\n",
       "      <td>0</td>\n",
       "      <td>0.0</td>\n",
       "      <td>NaN</td>\n",
       "      <td>NaN</td>\n",
       "      <td>NaN</td>\n",
       "      <td>1526</td>\n",
       "      <td>0.0</td>\n",
       "      <td>0.0</td>\n",
       "      <td>0.00</td>\n",
       "      <td>0.00</td>\n",
       "    </tr>\n",
       "  </tbody>\n",
       "</table>\n",
       "<p>5 rows × 226 columns</p>\n",
       "</div>"
      ],
      "text/plain": [
       "   mobile_number  circle_id  loc_og_t2o_mou  std_og_t2o_mou  loc_ic_t2o_mou  \\\n",
       "0     7000842753        109             0.0             0.0             0.0   \n",
       "1     7001865778        109             0.0             0.0             0.0   \n",
       "2     7001625959        109             0.0             0.0             0.0   \n",
       "3     7001204172        109             0.0             0.0             0.0   \n",
       "4     7000142493        109             0.0             0.0             0.0   \n",
       "\n",
       "  last_date_of_month_6 last_date_of_month_7 last_date_of_month_8  \\\n",
       "0            6/30/2014            7/31/2014            8/31/2014   \n",
       "1            6/30/2014            7/31/2014            8/31/2014   \n",
       "2            6/30/2014            7/31/2014            8/31/2014   \n",
       "3            6/30/2014            7/31/2014            8/31/2014   \n",
       "4            6/30/2014            7/31/2014            8/31/2014   \n",
       "\n",
       "  last_date_of_month_9   arpu_6  ...  sachet_3g_9  fb_user_6  fb_user_7  \\\n",
       "0            9/30/2014  197.385  ...            0        1.0        1.0   \n",
       "1            9/30/2014   34.047  ...            0        NaN        1.0   \n",
       "2            9/30/2014  167.690  ...            0        NaN        NaN   \n",
       "3            9/30/2014  221.338  ...            0        NaN        NaN   \n",
       "4            9/30/2014  261.636  ...            0        0.0        NaN   \n",
       "\n",
       "   fb_user_8  fb_user_9   aon  aug_vbc_3g  jul_vbc_3g  jun_vbc_3g  sep_vbc_3g  \n",
       "0        1.0        NaN   968        30.4         0.0      101.20        3.58  \n",
       "1        1.0        NaN  1006         0.0         0.0        0.00        0.00  \n",
       "2        NaN        1.0  1103         0.0         0.0        4.17        0.00  \n",
       "3        NaN        NaN  2491         0.0         0.0        0.00        0.00  \n",
       "4        NaN        NaN  1526         0.0         0.0        0.00        0.00  \n",
       "\n",
       "[5 rows x 226 columns]"
      ]
     },
     "execution_count": 310,
     "metadata": {},
     "output_type": "execute_result"
    }
   ],
   "source": [
    "df=pd.read_csv(r'telecom_churn_data.csv',encoding='ISO-8859-1')\n",
    "df.head()"
   ]
  },
  {
   "cell_type": "markdown",
   "metadata": {},
   "source": [
    "### Step 2: Understanding the Data"
   ]
  },
  {
   "cell_type": "code",
   "execution_count": 314,
   "metadata": {},
   "outputs": [
    {
     "name": "stdout",
     "output_type": "stream",
     "text": [
      "(99999, 226)\n",
      "<class 'pandas.core.frame.DataFrame'>\n",
      "RangeIndex: 99999 entries, 0 to 99998\n",
      "Columns: 226 entries, mobile_number to sep_vbc_3g\n",
      "dtypes: float64(179), int64(35), object(12)\n",
      "memory usage: 172.4+ MB\n",
      "None\n"
     ]
    }
   ],
   "source": [
    "print(df.shape)\n",
    "print(df.info())"
   ]
  },
  {
   "cell_type": "code",
   "execution_count": 315,
   "metadata": {},
   "outputs": [
    {
     "data": {
      "text/plain": [
       "array(['mobile_number', 'circle_id', 'loc_og_t2o_mou', 'std_og_t2o_mou',\n",
       "       'loc_ic_t2o_mou', 'last_date_of_month_6', 'last_date_of_month_7',\n",
       "       'last_date_of_month_8', 'last_date_of_month_9', 'arpu_6', 'arpu_7',\n",
       "       'arpu_8', 'arpu_9', 'onnet_mou_6', 'onnet_mou_7', 'onnet_mou_8',\n",
       "       'onnet_mou_9', 'offnet_mou_6', 'offnet_mou_7', 'offnet_mou_8',\n",
       "       'offnet_mou_9', 'roam_ic_mou_6', 'roam_ic_mou_7', 'roam_ic_mou_8',\n",
       "       'roam_ic_mou_9', 'roam_og_mou_6', 'roam_og_mou_7', 'roam_og_mou_8',\n",
       "       'roam_og_mou_9', 'loc_og_t2t_mou_6', 'loc_og_t2t_mou_7',\n",
       "       'loc_og_t2t_mou_8', 'loc_og_t2t_mou_9', 'loc_og_t2m_mou_6',\n",
       "       'loc_og_t2m_mou_7', 'loc_og_t2m_mou_8', 'loc_og_t2m_mou_9',\n",
       "       'loc_og_t2f_mou_6', 'loc_og_t2f_mou_7', 'loc_og_t2f_mou_8',\n",
       "       'loc_og_t2f_mou_9', 'loc_og_t2c_mou_6', 'loc_og_t2c_mou_7',\n",
       "       'loc_og_t2c_mou_8', 'loc_og_t2c_mou_9', 'loc_og_mou_6',\n",
       "       'loc_og_mou_7', 'loc_og_mou_8', 'loc_og_mou_9', 'std_og_t2t_mou_6',\n",
       "       'std_og_t2t_mou_7', 'std_og_t2t_mou_8', 'std_og_t2t_mou_9',\n",
       "       'std_og_t2m_mou_6', 'std_og_t2m_mou_7', 'std_og_t2m_mou_8',\n",
       "       'std_og_t2m_mou_9', 'std_og_t2f_mou_6', 'std_og_t2f_mou_7',\n",
       "       'std_og_t2f_mou_8', 'std_og_t2f_mou_9', 'std_og_t2c_mou_6',\n",
       "       'std_og_t2c_mou_7', 'std_og_t2c_mou_8', 'std_og_t2c_mou_9',\n",
       "       'std_og_mou_6', 'std_og_mou_7', 'std_og_mou_8', 'std_og_mou_9',\n",
       "       'isd_og_mou_6', 'isd_og_mou_7', 'isd_og_mou_8', 'isd_og_mou_9',\n",
       "       'spl_og_mou_6', 'spl_og_mou_7', 'spl_og_mou_8', 'spl_og_mou_9',\n",
       "       'og_others_6', 'og_others_7', 'og_others_8', 'og_others_9',\n",
       "       'total_og_mou_6', 'total_og_mou_7', 'total_og_mou_8',\n",
       "       'total_og_mou_9', 'loc_ic_t2t_mou_6', 'loc_ic_t2t_mou_7',\n",
       "       'loc_ic_t2t_mou_8', 'loc_ic_t2t_mou_9', 'loc_ic_t2m_mou_6',\n",
       "       'loc_ic_t2m_mou_7', 'loc_ic_t2m_mou_8', 'loc_ic_t2m_mou_9',\n",
       "       'loc_ic_t2f_mou_6', 'loc_ic_t2f_mou_7', 'loc_ic_t2f_mou_8',\n",
       "       'loc_ic_t2f_mou_9', 'loc_ic_mou_6', 'loc_ic_mou_7', 'loc_ic_mou_8',\n",
       "       'loc_ic_mou_9', 'std_ic_t2t_mou_6', 'std_ic_t2t_mou_7',\n",
       "       'std_ic_t2t_mou_8', 'std_ic_t2t_mou_9', 'std_ic_t2m_mou_6',\n",
       "       'std_ic_t2m_mou_7', 'std_ic_t2m_mou_8', 'std_ic_t2m_mou_9',\n",
       "       'std_ic_t2f_mou_6', 'std_ic_t2f_mou_7', 'std_ic_t2f_mou_8',\n",
       "       'std_ic_t2f_mou_9', 'std_ic_t2o_mou_6', 'std_ic_t2o_mou_7',\n",
       "       'std_ic_t2o_mou_8', 'std_ic_t2o_mou_9', 'std_ic_mou_6',\n",
       "       'std_ic_mou_7', 'std_ic_mou_8', 'std_ic_mou_9', 'total_ic_mou_6',\n",
       "       'total_ic_mou_7', 'total_ic_mou_8', 'total_ic_mou_9',\n",
       "       'spl_ic_mou_6', 'spl_ic_mou_7', 'spl_ic_mou_8', 'spl_ic_mou_9',\n",
       "       'isd_ic_mou_6', 'isd_ic_mou_7', 'isd_ic_mou_8', 'isd_ic_mou_9',\n",
       "       'ic_others_6', 'ic_others_7', 'ic_others_8', 'ic_others_9',\n",
       "       'total_rech_num_6', 'total_rech_num_7', 'total_rech_num_8',\n",
       "       'total_rech_num_9', 'total_rech_amt_6', 'total_rech_amt_7',\n",
       "       'total_rech_amt_8', 'total_rech_amt_9', 'max_rech_amt_6',\n",
       "       'max_rech_amt_7', 'max_rech_amt_8', 'max_rech_amt_9',\n",
       "       'date_of_last_rech_6', 'date_of_last_rech_7',\n",
       "       'date_of_last_rech_8', 'date_of_last_rech_9', 'last_day_rch_amt_6',\n",
       "       'last_day_rch_amt_7', 'last_day_rch_amt_8', 'last_day_rch_amt_9',\n",
       "       'date_of_last_rech_data_6', 'date_of_last_rech_data_7',\n",
       "       'date_of_last_rech_data_8', 'date_of_last_rech_data_9',\n",
       "       'total_rech_data_6', 'total_rech_data_7', 'total_rech_data_8',\n",
       "       'total_rech_data_9', 'max_rech_data_6', 'max_rech_data_7',\n",
       "       'max_rech_data_8', 'max_rech_data_9', 'count_rech_2g_6',\n",
       "       'count_rech_2g_7', 'count_rech_2g_8', 'count_rech_2g_9',\n",
       "       'count_rech_3g_6', 'count_rech_3g_7', 'count_rech_3g_8',\n",
       "       'count_rech_3g_9', 'av_rech_amt_data_6', 'av_rech_amt_data_7',\n",
       "       'av_rech_amt_data_8', 'av_rech_amt_data_9', 'vol_2g_mb_6',\n",
       "       'vol_2g_mb_7', 'vol_2g_mb_8', 'vol_2g_mb_9', 'vol_3g_mb_6',\n",
       "       'vol_3g_mb_7', 'vol_3g_mb_8', 'vol_3g_mb_9', 'arpu_3g_6',\n",
       "       'arpu_3g_7', 'arpu_3g_8', 'arpu_3g_9', 'arpu_2g_6', 'arpu_2g_7',\n",
       "       'arpu_2g_8', 'arpu_2g_9', 'night_pck_user_6', 'night_pck_user_7',\n",
       "       'night_pck_user_8', 'night_pck_user_9', 'monthly_2g_6',\n",
       "       'monthly_2g_7', 'monthly_2g_8', 'monthly_2g_9', 'sachet_2g_6',\n",
       "       'sachet_2g_7', 'sachet_2g_8', 'sachet_2g_9', 'monthly_3g_6',\n",
       "       'monthly_3g_7', 'monthly_3g_8', 'monthly_3g_9', 'sachet_3g_6',\n",
       "       'sachet_3g_7', 'sachet_3g_8', 'sachet_3g_9', 'fb_user_6',\n",
       "       'fb_user_7', 'fb_user_8', 'fb_user_9', 'aon', 'aug_vbc_3g',\n",
       "       'jul_vbc_3g', 'jun_vbc_3g', 'sep_vbc_3g'], dtype=object)"
      ]
     },
     "execution_count": 315,
     "metadata": {},
     "output_type": "execute_result"
    }
   ],
   "source": [
    "# Listing the Column Names for readability\n",
    "df.columns.values\n",
    "#list(df.columns)"
   ]
  },
  {
   "cell_type": "markdown",
   "metadata": {},
   "source": [
    "### Step 3: Dividing the Columns according to different data types in the dataframe for ease of access"
   ]
  },
  {
   "cell_type": "code",
   "execution_count": 316,
   "metadata": {},
   "outputs": [
    {
     "data": {
      "text/plain": [
       "{dtype('int64'): Index(['mobile_number', 'circle_id', 'total_rech_num_6', 'total_rech_num_7',\n",
       "        'total_rech_num_8', 'total_rech_num_9', 'total_rech_amt_6',\n",
       "        'total_rech_amt_7', 'total_rech_amt_8', 'total_rech_amt_9',\n",
       "        'max_rech_amt_6', 'max_rech_amt_7', 'max_rech_amt_8', 'max_rech_amt_9',\n",
       "        'last_day_rch_amt_6', 'last_day_rch_amt_7', 'last_day_rch_amt_8',\n",
       "        'last_day_rch_amt_9', 'monthly_2g_6', 'monthly_2g_7', 'monthly_2g_8',\n",
       "        'monthly_2g_9', 'sachet_2g_6', 'sachet_2g_7', 'sachet_2g_8',\n",
       "        'sachet_2g_9', 'monthly_3g_6', 'monthly_3g_7', 'monthly_3g_8',\n",
       "        'monthly_3g_9', 'sachet_3g_6', 'sachet_3g_7', 'sachet_3g_8',\n",
       "        'sachet_3g_9', 'aon'],\n",
       "       dtype='object'),\n",
       " dtype('float64'): Index(['loc_og_t2o_mou', 'std_og_t2o_mou', 'loc_ic_t2o_mou', 'arpu_6',\n",
       "        'arpu_7', 'arpu_8', 'arpu_9', 'onnet_mou_6', 'onnet_mou_7',\n",
       "        'onnet_mou_8',\n",
       "        ...\n",
       "        'night_pck_user_8', 'night_pck_user_9', 'fb_user_6', 'fb_user_7',\n",
       "        'fb_user_8', 'fb_user_9', 'aug_vbc_3g', 'jul_vbc_3g', 'jun_vbc_3g',\n",
       "        'sep_vbc_3g'],\n",
       "       dtype='object', length=179),\n",
       " dtype('O'): Index(['last_date_of_month_6', 'last_date_of_month_7', 'last_date_of_month_8',\n",
       "        'last_date_of_month_9', 'date_of_last_rech_6', 'date_of_last_rech_7',\n",
       "        'date_of_last_rech_8', 'date_of_last_rech_9',\n",
       "        'date_of_last_rech_data_6', 'date_of_last_rech_data_7',\n",
       "        'date_of_last_rech_data_8', 'date_of_last_rech_data_9'],\n",
       "       dtype='object')}"
      ]
     },
     "execution_count": 316,
     "metadata": {},
     "output_type": "execute_result"
    }
   ],
   "source": [
    "#grouping columns based on datatypes\n",
    "df.columns.to_series().groupby(df.dtypes).groups"
   ]
  },
  {
   "cell_type": "markdown",
   "metadata": {},
   "source": [
    "### Three differnt data type groups are available - Date, int and float"
   ]
  },
  {
   "cell_type": "markdown",
   "metadata": {},
   "source": [
    "## ************************************ Data Preparation ************************************ "
   ]
  },
  {
   "cell_type": "markdown",
   "metadata": {},
   "source": [
    "### Date Group Columns"
   ]
  },
  {
   "cell_type": "code",
   "execution_count": 317,
   "metadata": {},
   "outputs": [
    {
     "data": {
      "text/html": [
       "<div>\n",
       "<style scoped>\n",
       "    .dataframe tbody tr th:only-of-type {\n",
       "        vertical-align: middle;\n",
       "    }\n",
       "\n",
       "    .dataframe tbody tr th {\n",
       "        vertical-align: top;\n",
       "    }\n",
       "\n",
       "    .dataframe thead th {\n",
       "        text-align: right;\n",
       "    }\n",
       "</style>\n",
       "<table border=\"1\" class=\"dataframe\">\n",
       "  <thead>\n",
       "    <tr style=\"text-align: right;\">\n",
       "      <th></th>\n",
       "      <th>last_date_of_month_6</th>\n",
       "      <th>last_date_of_month_7</th>\n",
       "      <th>last_date_of_month_8</th>\n",
       "      <th>last_date_of_month_9</th>\n",
       "      <th>date_of_last_rech_6</th>\n",
       "      <th>date_of_last_rech_7</th>\n",
       "      <th>date_of_last_rech_8</th>\n",
       "      <th>date_of_last_rech_9</th>\n",
       "      <th>date_of_last_rech_data_6</th>\n",
       "      <th>date_of_last_rech_data_7</th>\n",
       "      <th>date_of_last_rech_data_8</th>\n",
       "      <th>date_of_last_rech_data_9</th>\n",
       "    </tr>\n",
       "  </thead>\n",
       "  <tbody>\n",
       "    <tr>\n",
       "      <th>0</th>\n",
       "      <td>6/30/2014</td>\n",
       "      <td>7/31/2014</td>\n",
       "      <td>8/31/2014</td>\n",
       "      <td>9/30/2014</td>\n",
       "      <td>6/21/2014</td>\n",
       "      <td>7/16/2014</td>\n",
       "      <td>8/8/2014</td>\n",
       "      <td>9/28/2014</td>\n",
       "      <td>6/21/2014</td>\n",
       "      <td>7/16/2014</td>\n",
       "      <td>8/8/2014</td>\n",
       "      <td>NaN</td>\n",
       "    </tr>\n",
       "    <tr>\n",
       "      <th>1</th>\n",
       "      <td>6/30/2014</td>\n",
       "      <td>7/31/2014</td>\n",
       "      <td>8/31/2014</td>\n",
       "      <td>9/30/2014</td>\n",
       "      <td>6/29/2014</td>\n",
       "      <td>7/31/2014</td>\n",
       "      <td>8/28/2014</td>\n",
       "      <td>9/30/2014</td>\n",
       "      <td>NaN</td>\n",
       "      <td>7/25/2014</td>\n",
       "      <td>8/10/2014</td>\n",
       "      <td>NaN</td>\n",
       "    </tr>\n",
       "    <tr>\n",
       "      <th>2</th>\n",
       "      <td>6/30/2014</td>\n",
       "      <td>7/31/2014</td>\n",
       "      <td>8/31/2014</td>\n",
       "      <td>9/30/2014</td>\n",
       "      <td>6/17/2014</td>\n",
       "      <td>7/24/2014</td>\n",
       "      <td>8/14/2014</td>\n",
       "      <td>9/29/2014</td>\n",
       "      <td>NaN</td>\n",
       "      <td>NaN</td>\n",
       "      <td>NaN</td>\n",
       "      <td>9/17/2014</td>\n",
       "    </tr>\n",
       "    <tr>\n",
       "      <th>3</th>\n",
       "      <td>6/30/2014</td>\n",
       "      <td>7/31/2014</td>\n",
       "      <td>8/31/2014</td>\n",
       "      <td>9/30/2014</td>\n",
       "      <td>6/28/2014</td>\n",
       "      <td>7/31/2014</td>\n",
       "      <td>8/31/2014</td>\n",
       "      <td>9/30/2014</td>\n",
       "      <td>NaN</td>\n",
       "      <td>NaN</td>\n",
       "      <td>NaN</td>\n",
       "      <td>NaN</td>\n",
       "    </tr>\n",
       "    <tr>\n",
       "      <th>4</th>\n",
       "      <td>6/30/2014</td>\n",
       "      <td>7/31/2014</td>\n",
       "      <td>8/31/2014</td>\n",
       "      <td>9/30/2014</td>\n",
       "      <td>6/26/2014</td>\n",
       "      <td>7/28/2014</td>\n",
       "      <td>8/9/2014</td>\n",
       "      <td>9/28/2014</td>\n",
       "      <td>6/4/2014</td>\n",
       "      <td>NaN</td>\n",
       "      <td>NaN</td>\n",
       "      <td>NaN</td>\n",
       "    </tr>\n",
       "  </tbody>\n",
       "</table>\n",
       "</div>"
      ],
      "text/plain": [
       "  last_date_of_month_6 last_date_of_month_7 last_date_of_month_8  \\\n",
       "0            6/30/2014            7/31/2014            8/31/2014   \n",
       "1            6/30/2014            7/31/2014            8/31/2014   \n",
       "2            6/30/2014            7/31/2014            8/31/2014   \n",
       "3            6/30/2014            7/31/2014            8/31/2014   \n",
       "4            6/30/2014            7/31/2014            8/31/2014   \n",
       "\n",
       "  last_date_of_month_9 date_of_last_rech_6 date_of_last_rech_7  \\\n",
       "0            9/30/2014           6/21/2014           7/16/2014   \n",
       "1            9/30/2014           6/29/2014           7/31/2014   \n",
       "2            9/30/2014           6/17/2014           7/24/2014   \n",
       "3            9/30/2014           6/28/2014           7/31/2014   \n",
       "4            9/30/2014           6/26/2014           7/28/2014   \n",
       "\n",
       "  date_of_last_rech_8 date_of_last_rech_9 date_of_last_rech_data_6  \\\n",
       "0            8/8/2014           9/28/2014                6/21/2014   \n",
       "1           8/28/2014           9/30/2014                      NaN   \n",
       "2           8/14/2014           9/29/2014                      NaN   \n",
       "3           8/31/2014           9/30/2014                      NaN   \n",
       "4            8/9/2014           9/28/2014                 6/4/2014   \n",
       "\n",
       "  date_of_last_rech_data_7 date_of_last_rech_data_8 date_of_last_rech_data_9  \n",
       "0                7/16/2014                 8/8/2014                      NaN  \n",
       "1                7/25/2014                8/10/2014                      NaN  \n",
       "2                      NaN                      NaN                9/17/2014  \n",
       "3                      NaN                      NaN                      NaN  \n",
       "4                      NaN                      NaN                      NaN  "
      ]
     },
     "execution_count": 317,
     "metadata": {},
     "output_type": "execute_result"
    }
   ],
   "source": [
    "#Converting date columns from object to datetime\n",
    "\n",
    "date_columns=df[['last_date_of_month_6', 'last_date_of_month_7', 'last_date_of_month_8',\n",
    "        'last_date_of_month_9', 'date_of_last_rech_6', 'date_of_last_rech_7',\n",
    "        'date_of_last_rech_8', 'date_of_last_rech_9',\n",
    "        'date_of_last_rech_data_6', 'date_of_last_rech_data_7',\n",
    "        'date_of_last_rech_data_8', 'date_of_last_rech_data_9']]\n",
    "\n",
    "date_columns.head()\n"
   ]
  },
  {
   "cell_type": "code",
   "execution_count": 318,
   "metadata": {},
   "outputs": [
    {
     "name": "stdout",
     "output_type": "stream",
     "text": [
      "last_date_of_month_6         1\n",
      "last_date_of_month_7         1\n",
      "last_date_of_month_8         1\n",
      "last_date_of_month_9         1\n",
      "date_of_last_rech_6         30\n",
      "date_of_last_rech_7         31\n",
      "date_of_last_rech_8         31\n",
      "date_of_last_rech_9         30\n",
      "date_of_last_rech_data_6    30\n",
      "date_of_last_rech_data_7    31\n",
      "date_of_last_rech_data_8    31\n",
      "date_of_last_rech_data_9    30\n",
      "dtype: int64\n"
     ]
    }
   ],
   "source": [
    "# unique values in date columns\n",
    "print(date_columns.nunique())\n",
    "\n",
    "#converting date columns to datetype format\n",
    "date_columns=date_columns.astype('datetime64[ns]')"
   ]
  },
  {
   "cell_type": "code",
   "execution_count": 319,
   "metadata": {},
   "outputs": [
    {
     "name": "stdout",
     "output_type": "stream",
     "text": [
      "<class 'pandas.core.frame.DataFrame'>\n",
      "RangeIndex: 99999 entries, 0 to 99998\n",
      "Data columns (total 12 columns):\n",
      "last_date_of_month_6        99999 non-null datetime64[ns]\n",
      "last_date_of_month_7        99398 non-null datetime64[ns]\n",
      "last_date_of_month_8        98899 non-null datetime64[ns]\n",
      "last_date_of_month_9        98340 non-null datetime64[ns]\n",
      "date_of_last_rech_6         98392 non-null datetime64[ns]\n",
      "date_of_last_rech_7         98232 non-null datetime64[ns]\n",
      "date_of_last_rech_8         96377 non-null datetime64[ns]\n",
      "date_of_last_rech_9         95239 non-null datetime64[ns]\n",
      "date_of_last_rech_data_6    25153 non-null datetime64[ns]\n",
      "date_of_last_rech_data_7    25571 non-null datetime64[ns]\n",
      "date_of_last_rech_data_8    26339 non-null datetime64[ns]\n",
      "date_of_last_rech_data_9    25922 non-null datetime64[ns]\n",
      "dtypes: datetime64[ns](12)\n",
      "memory usage: 9.2 MB\n",
      "None\n"
     ]
    }
   ],
   "source": [
    "print(date_columns.info())"
   ]
  },
  {
   "cell_type": "code",
   "execution_count": 320,
   "metadata": {},
   "outputs": [],
   "source": [
    "#Filtering Day from date of recharge columns\n",
    "date_columns['day_of_last_rech_6'] =  date_columns.date_of_last_rech_6.dt.day\n",
    "date_columns['day_of_last_rech_7'] =  date_columns.date_of_last_rech_7.dt.day\n",
    "date_columns['day_of_last_rech_8'] =  date_columns.date_of_last_rech_8.dt.day\n",
    "\n",
    "#Imputing missing day fields with 0\n",
    "date_columns.loc[:,'day_of_last_rech_6']=date_columns['day_of_last_rech_6'].fillna('0')\n",
    "date_columns.loc[:,'day_of_last_rech_7']=date_columns['day_of_last_rech_7'].fillna('0')\n",
    "date_columns.loc[:,'day_of_last_rech_8']=date_columns['day_of_last_rech_8'].fillna('0')\n"
   ]
  },
  {
   "cell_type": "code",
   "execution_count": 321,
   "metadata": {},
   "outputs": [],
   "source": [
    "#Dropping last date of month columns as it contains only one value and variance is low\n",
    "#Dropping Date of last recharge columns as day is extracted and is not useful to us anymore\n",
    "#Dropping date of lsat recharge data fields as the missing values in > 70 %\n",
    "#Dropping all columns with suffix _9 as they will not be used\n",
    "\n",
    "date_columns=date_columns.drop(['date_of_last_rech_6','date_of_last_rech_7','date_of_last_rech_8',\n",
    "                               'date_of_last_rech_9','last_date_of_month_6','last_date_of_month_7',\n",
    "                               'last_date_of_month_8','last_date_of_month_9','date_of_last_rech_data_6',\n",
    "                               'date_of_last_rech_data_7','date_of_last_rech_data_8','date_of_last_rech_data_9']\n",
    "                               ,axis=1)"
   ]
  },
  {
   "cell_type": "code",
   "execution_count": 322,
   "metadata": {},
   "outputs": [
    {
     "name": "stdout",
     "output_type": "stream",
     "text": [
      "day_of_last_rech_6    0.0\n",
      "day_of_last_rech_7    0.0\n",
      "day_of_last_rech_8    0.0\n",
      "dtype: float64\n"
     ]
    },
    {
     "data": {
      "text/html": [
       "<div>\n",
       "<style scoped>\n",
       "    .dataframe tbody tr th:only-of-type {\n",
       "        vertical-align: middle;\n",
       "    }\n",
       "\n",
       "    .dataframe tbody tr th {\n",
       "        vertical-align: top;\n",
       "    }\n",
       "\n",
       "    .dataframe thead th {\n",
       "        text-align: right;\n",
       "    }\n",
       "</style>\n",
       "<table border=\"1\" class=\"dataframe\">\n",
       "  <thead>\n",
       "    <tr style=\"text-align: right;\">\n",
       "      <th></th>\n",
       "      <th>day_of_last_rech_6</th>\n",
       "      <th>day_of_last_rech_7</th>\n",
       "      <th>day_of_last_rech_8</th>\n",
       "    </tr>\n",
       "  </thead>\n",
       "  <tbody>\n",
       "    <tr>\n",
       "      <th>0</th>\n",
       "      <td>21</td>\n",
       "      <td>16</td>\n",
       "      <td>8</td>\n",
       "    </tr>\n",
       "    <tr>\n",
       "      <th>1</th>\n",
       "      <td>29</td>\n",
       "      <td>31</td>\n",
       "      <td>28</td>\n",
       "    </tr>\n",
       "    <tr>\n",
       "      <th>2</th>\n",
       "      <td>17</td>\n",
       "      <td>24</td>\n",
       "      <td>14</td>\n",
       "    </tr>\n",
       "    <tr>\n",
       "      <th>3</th>\n",
       "      <td>28</td>\n",
       "      <td>31</td>\n",
       "      <td>31</td>\n",
       "    </tr>\n",
       "    <tr>\n",
       "      <th>4</th>\n",
       "      <td>26</td>\n",
       "      <td>28</td>\n",
       "      <td>9</td>\n",
       "    </tr>\n",
       "  </tbody>\n",
       "</table>\n",
       "</div>"
      ],
      "text/plain": [
       "  day_of_last_rech_6 day_of_last_rech_7 day_of_last_rech_8\n",
       "0                 21                 16                  8\n",
       "1                 29                 31                 28\n",
       "2                 17                 24                 14\n",
       "3                 28                 31                 31\n",
       "4                 26                 28                  9"
      ]
     },
     "execution_count": 322,
     "metadata": {},
     "output_type": "execute_result"
    }
   ],
   "source": [
    "print(round(100*(date_columns.isnull().sum()/len(date_columns.index)),2))\n",
    "\n",
    "#Final date_Columns\n",
    "date_columns.head()"
   ]
  },
  {
   "cell_type": "markdown",
   "metadata": {},
   "source": [
    "### Data Preparation - int group Columns"
   ]
  },
  {
   "cell_type": "code",
   "execution_count": 323,
   "metadata": {},
   "outputs": [
    {
     "data": {
      "text/html": [
       "<div>\n",
       "<style scoped>\n",
       "    .dataframe tbody tr th:only-of-type {\n",
       "        vertical-align: middle;\n",
       "    }\n",
       "\n",
       "    .dataframe tbody tr th {\n",
       "        vertical-align: top;\n",
       "    }\n",
       "\n",
       "    .dataframe thead th {\n",
       "        text-align: right;\n",
       "    }\n",
       "</style>\n",
       "<table border=\"1\" class=\"dataframe\">\n",
       "  <thead>\n",
       "    <tr style=\"text-align: right;\">\n",
       "      <th></th>\n",
       "      <th>mobile_number</th>\n",
       "      <th>circle_id</th>\n",
       "      <th>total_rech_num_6</th>\n",
       "      <th>total_rech_num_7</th>\n",
       "      <th>total_rech_num_8</th>\n",
       "      <th>total_rech_num_9</th>\n",
       "      <th>total_rech_amt_6</th>\n",
       "      <th>total_rech_amt_7</th>\n",
       "      <th>total_rech_amt_8</th>\n",
       "      <th>total_rech_amt_9</th>\n",
       "      <th>...</th>\n",
       "      <th>sachet_2g_9</th>\n",
       "      <th>monthly_3g_6</th>\n",
       "      <th>monthly_3g_7</th>\n",
       "      <th>monthly_3g_8</th>\n",
       "      <th>monthly_3g_9</th>\n",
       "      <th>sachet_3g_6</th>\n",
       "      <th>sachet_3g_7</th>\n",
       "      <th>sachet_3g_8</th>\n",
       "      <th>sachet_3g_9</th>\n",
       "      <th>aon</th>\n",
       "    </tr>\n",
       "  </thead>\n",
       "  <tbody>\n",
       "    <tr>\n",
       "      <th>0</th>\n",
       "      <td>7000842753</td>\n",
       "      <td>109</td>\n",
       "      <td>4</td>\n",
       "      <td>3</td>\n",
       "      <td>2</td>\n",
       "      <td>6</td>\n",
       "      <td>362</td>\n",
       "      <td>252</td>\n",
       "      <td>252</td>\n",
       "      <td>0</td>\n",
       "      <td>...</td>\n",
       "      <td>0</td>\n",
       "      <td>1</td>\n",
       "      <td>1</td>\n",
       "      <td>1</td>\n",
       "      <td>0</td>\n",
       "      <td>0</td>\n",
       "      <td>0</td>\n",
       "      <td>0</td>\n",
       "      <td>0</td>\n",
       "      <td>968</td>\n",
       "    </tr>\n",
       "    <tr>\n",
       "      <th>1</th>\n",
       "      <td>7001865778</td>\n",
       "      <td>109</td>\n",
       "      <td>4</td>\n",
       "      <td>9</td>\n",
       "      <td>11</td>\n",
       "      <td>5</td>\n",
       "      <td>74</td>\n",
       "      <td>384</td>\n",
       "      <td>283</td>\n",
       "      <td>121</td>\n",
       "      <td>...</td>\n",
       "      <td>0</td>\n",
       "      <td>0</td>\n",
       "      <td>0</td>\n",
       "      <td>0</td>\n",
       "      <td>0</td>\n",
       "      <td>0</td>\n",
       "      <td>0</td>\n",
       "      <td>0</td>\n",
       "      <td>0</td>\n",
       "      <td>1006</td>\n",
       "    </tr>\n",
       "    <tr>\n",
       "      <th>2</th>\n",
       "      <td>7001625959</td>\n",
       "      <td>109</td>\n",
       "      <td>5</td>\n",
       "      <td>4</td>\n",
       "      <td>2</td>\n",
       "      <td>7</td>\n",
       "      <td>168</td>\n",
       "      <td>315</td>\n",
       "      <td>116</td>\n",
       "      <td>358</td>\n",
       "      <td>...</td>\n",
       "      <td>1</td>\n",
       "      <td>0</td>\n",
       "      <td>0</td>\n",
       "      <td>0</td>\n",
       "      <td>0</td>\n",
       "      <td>0</td>\n",
       "      <td>0</td>\n",
       "      <td>0</td>\n",
       "      <td>0</td>\n",
       "      <td>1103</td>\n",
       "    </tr>\n",
       "    <tr>\n",
       "      <th>3</th>\n",
       "      <td>7001204172</td>\n",
       "      <td>109</td>\n",
       "      <td>10</td>\n",
       "      <td>11</td>\n",
       "      <td>18</td>\n",
       "      <td>14</td>\n",
       "      <td>230</td>\n",
       "      <td>310</td>\n",
       "      <td>601</td>\n",
       "      <td>410</td>\n",
       "      <td>...</td>\n",
       "      <td>0</td>\n",
       "      <td>0</td>\n",
       "      <td>0</td>\n",
       "      <td>0</td>\n",
       "      <td>0</td>\n",
       "      <td>0</td>\n",
       "      <td>0</td>\n",
       "      <td>0</td>\n",
       "      <td>0</td>\n",
       "      <td>2491</td>\n",
       "    </tr>\n",
       "    <tr>\n",
       "      <th>4</th>\n",
       "      <td>7000142493</td>\n",
       "      <td>109</td>\n",
       "      <td>5</td>\n",
       "      <td>6</td>\n",
       "      <td>3</td>\n",
       "      <td>4</td>\n",
       "      <td>196</td>\n",
       "      <td>350</td>\n",
       "      <td>287</td>\n",
       "      <td>200</td>\n",
       "      <td>...</td>\n",
       "      <td>0</td>\n",
       "      <td>0</td>\n",
       "      <td>0</td>\n",
       "      <td>0</td>\n",
       "      <td>0</td>\n",
       "      <td>0</td>\n",
       "      <td>0</td>\n",
       "      <td>0</td>\n",
       "      <td>0</td>\n",
       "      <td>1526</td>\n",
       "    </tr>\n",
       "  </tbody>\n",
       "</table>\n",
       "<p>5 rows × 35 columns</p>\n",
       "</div>"
      ],
      "text/plain": [
       "   mobile_number  circle_id  total_rech_num_6  total_rech_num_7  \\\n",
       "0     7000842753        109                 4                 3   \n",
       "1     7001865778        109                 4                 9   \n",
       "2     7001625959        109                 5                 4   \n",
       "3     7001204172        109                10                11   \n",
       "4     7000142493        109                 5                 6   \n",
       "\n",
       "   total_rech_num_8  total_rech_num_9  total_rech_amt_6  total_rech_amt_7  \\\n",
       "0                 2                 6               362               252   \n",
       "1                11                 5                74               384   \n",
       "2                 2                 7               168               315   \n",
       "3                18                14               230               310   \n",
       "4                 3                 4               196               350   \n",
       "\n",
       "   total_rech_amt_8  total_rech_amt_9  ...  sachet_2g_9  monthly_3g_6  \\\n",
       "0               252                 0  ...            0             1   \n",
       "1               283               121  ...            0             0   \n",
       "2               116               358  ...            1             0   \n",
       "3               601               410  ...            0             0   \n",
       "4               287               200  ...            0             0   \n",
       "\n",
       "   monthly_3g_7  monthly_3g_8  monthly_3g_9  sachet_3g_6  sachet_3g_7  \\\n",
       "0             1             1             0            0            0   \n",
       "1             0             0             0            0            0   \n",
       "2             0             0             0            0            0   \n",
       "3             0             0             0            0            0   \n",
       "4             0             0             0            0            0   \n",
       "\n",
       "   sachet_3g_8  sachet_3g_9   aon  \n",
       "0            0            0   968  \n",
       "1            0            0  1006  \n",
       "2            0            0  1103  \n",
       "3            0            0  2491  \n",
       "4            0            0  1526  \n",
       "\n",
       "[5 rows x 35 columns]"
      ]
     },
     "execution_count": 323,
     "metadata": {},
     "output_type": "execute_result"
    }
   ],
   "source": [
    "int_columns=df[['mobile_number', 'circle_id', 'total_rech_num_6', 'total_rech_num_7',\n",
    "        'total_rech_num_8', 'total_rech_num_9', 'total_rech_amt_6',\n",
    "        'total_rech_amt_7', 'total_rech_amt_8', 'total_rech_amt_9',\n",
    "        'max_rech_amt_6', 'max_rech_amt_7', 'max_rech_amt_8', 'max_rech_amt_9',\n",
    "        'last_day_rch_amt_6', 'last_day_rch_amt_7', 'last_day_rch_amt_8',\n",
    "        'last_day_rch_amt_9', 'monthly_2g_6', 'monthly_2g_7', 'monthly_2g_8',\n",
    "        'monthly_2g_9', 'sachet_2g_6', 'sachet_2g_7', 'sachet_2g_8',\n",
    "        'sachet_2g_9', 'monthly_3g_6', 'monthly_3g_7', 'monthly_3g_8',\n",
    "        'monthly_3g_9', 'sachet_3g_6', 'sachet_3g_7', 'sachet_3g_8',\n",
    "        'sachet_3g_9', 'aon']]\n",
    "int_columns.head()"
   ]
  },
  {
   "cell_type": "code",
   "execution_count": 324,
   "metadata": {},
   "outputs": [
    {
     "name": "stdout",
     "output_type": "stream",
     "text": [
      "mobile_number         99999\n",
      "circle_id                 1\n",
      "total_rech_num_6        102\n",
      "total_rech_num_7        101\n",
      "total_rech_num_8         96\n",
      "total_rech_num_9         97\n",
      "total_rech_amt_6       2305\n",
      "total_rech_amt_7       2329\n",
      "total_rech_amt_8       2347\n",
      "total_rech_amt_9       2304\n",
      "max_rech_amt_6          202\n",
      "max_rech_amt_7          183\n",
      "max_rech_amt_8          213\n",
      "max_rech_amt_9          201\n",
      "last_day_rch_amt_6      186\n",
      "last_day_rch_amt_7      173\n",
      "last_day_rch_amt_8      199\n",
      "last_day_rch_amt_9      185\n",
      "monthly_2g_6              5\n",
      "monthly_2g_7              6\n",
      "monthly_2g_8              6\n",
      "monthly_2g_9              5\n",
      "sachet_2g_6              32\n",
      "sachet_2g_7              35\n",
      "sachet_2g_8              34\n",
      "sachet_2g_9              32\n",
      "monthly_3g_6             12\n",
      "monthly_3g_7             15\n",
      "monthly_3g_8             12\n",
      "monthly_3g_9             11\n",
      "sachet_3g_6              25\n",
      "sachet_3g_7              27\n",
      "sachet_3g_8              29\n",
      "sachet_3g_9              27\n",
      "aon                    3489\n",
      "dtype: int64\n"
     ]
    }
   ],
   "source": [
    "# Count of unique values in int columns\n",
    "print(int_columns.nunique())"
   ]
  },
  {
   "cell_type": "code",
   "execution_count": 325,
   "metadata": {},
   "outputs": [
    {
     "name": "stderr",
     "output_type": "stream",
     "text": [
      "C:\\Users\\Priyanka\\Anaconda3\\lib\\site-packages\\pandas\\core\\indexing.py:362: SettingWithCopyWarning: \n",
      "A value is trying to be set on a copy of a slice from a DataFrame.\n",
      "Try using .loc[row_indexer,col_indexer] = value instead\n",
      "\n",
      "See the caveats in the documentation: http://pandas.pydata.org/pandas-docs/stable/indexing.html#indexing-view-versus-copy\n",
      "  self.obj[key] = _infer_fill_value(value)\n",
      "C:\\Users\\Priyanka\\Anaconda3\\lib\\site-packages\\pandas\\core\\indexing.py:543: SettingWithCopyWarning: \n",
      "A value is trying to be set on a copy of a slice from a DataFrame.\n",
      "Try using .loc[row_indexer,col_indexer] = value instead\n",
      "\n",
      "See the caveats in the documentation: http://pandas.pydata.org/pandas-docs/stable/indexing.html#indexing-view-versus-copy\n",
      "  self.obj[item] = s\n"
     ]
    },
    {
     "data": {
      "text/html": [
       "<div>\n",
       "<style scoped>\n",
       "    .dataframe tbody tr th:only-of-type {\n",
       "        vertical-align: middle;\n",
       "    }\n",
       "\n",
       "    .dataframe tbody tr th {\n",
       "        vertical-align: top;\n",
       "    }\n",
       "\n",
       "    .dataframe thead th {\n",
       "        text-align: right;\n",
       "    }\n",
       "</style>\n",
       "<table border=\"1\" class=\"dataframe\">\n",
       "  <thead>\n",
       "    <tr style=\"text-align: right;\">\n",
       "      <th></th>\n",
       "      <th>mobile_number</th>\n",
       "      <th>circle_id</th>\n",
       "      <th>total_rech_num_6</th>\n",
       "      <th>total_rech_num_7</th>\n",
       "      <th>total_rech_num_8</th>\n",
       "      <th>total_rech_num_9</th>\n",
       "      <th>total_rech_amt_6</th>\n",
       "      <th>total_rech_amt_7</th>\n",
       "      <th>total_rech_amt_8</th>\n",
       "      <th>total_rech_amt_9</th>\n",
       "      <th>...</th>\n",
       "      <th>monthly_3g_6</th>\n",
       "      <th>monthly_3g_7</th>\n",
       "      <th>monthly_3g_8</th>\n",
       "      <th>monthly_3g_9</th>\n",
       "      <th>sachet_3g_6</th>\n",
       "      <th>sachet_3g_7</th>\n",
       "      <th>sachet_3g_8</th>\n",
       "      <th>sachet_3g_9</th>\n",
       "      <th>aon</th>\n",
       "      <th>aon_years</th>\n",
       "    </tr>\n",
       "  </thead>\n",
       "  <tbody>\n",
       "    <tr>\n",
       "      <th>0</th>\n",
       "      <td>7000842753</td>\n",
       "      <td>109</td>\n",
       "      <td>4</td>\n",
       "      <td>3</td>\n",
       "      <td>2</td>\n",
       "      <td>6</td>\n",
       "      <td>362</td>\n",
       "      <td>252</td>\n",
       "      <td>252</td>\n",
       "      <td>0</td>\n",
       "      <td>...</td>\n",
       "      <td>1</td>\n",
       "      <td>1</td>\n",
       "      <td>1</td>\n",
       "      <td>0</td>\n",
       "      <td>0</td>\n",
       "      <td>0</td>\n",
       "      <td>0</td>\n",
       "      <td>0</td>\n",
       "      <td>968</td>\n",
       "      <td>2</td>\n",
       "    </tr>\n",
       "    <tr>\n",
       "      <th>1</th>\n",
       "      <td>7001865778</td>\n",
       "      <td>109</td>\n",
       "      <td>4</td>\n",
       "      <td>9</td>\n",
       "      <td>11</td>\n",
       "      <td>5</td>\n",
       "      <td>74</td>\n",
       "      <td>384</td>\n",
       "      <td>283</td>\n",
       "      <td>121</td>\n",
       "      <td>...</td>\n",
       "      <td>0</td>\n",
       "      <td>0</td>\n",
       "      <td>0</td>\n",
       "      <td>0</td>\n",
       "      <td>0</td>\n",
       "      <td>0</td>\n",
       "      <td>0</td>\n",
       "      <td>0</td>\n",
       "      <td>1006</td>\n",
       "      <td>2</td>\n",
       "    </tr>\n",
       "    <tr>\n",
       "      <th>2</th>\n",
       "      <td>7001625959</td>\n",
       "      <td>109</td>\n",
       "      <td>5</td>\n",
       "      <td>4</td>\n",
       "      <td>2</td>\n",
       "      <td>7</td>\n",
       "      <td>168</td>\n",
       "      <td>315</td>\n",
       "      <td>116</td>\n",
       "      <td>358</td>\n",
       "      <td>...</td>\n",
       "      <td>0</td>\n",
       "      <td>0</td>\n",
       "      <td>0</td>\n",
       "      <td>0</td>\n",
       "      <td>0</td>\n",
       "      <td>0</td>\n",
       "      <td>0</td>\n",
       "      <td>0</td>\n",
       "      <td>1103</td>\n",
       "      <td>3</td>\n",
       "    </tr>\n",
       "    <tr>\n",
       "      <th>3</th>\n",
       "      <td>7001204172</td>\n",
       "      <td>109</td>\n",
       "      <td>10</td>\n",
       "      <td>11</td>\n",
       "      <td>18</td>\n",
       "      <td>14</td>\n",
       "      <td>230</td>\n",
       "      <td>310</td>\n",
       "      <td>601</td>\n",
       "      <td>410</td>\n",
       "      <td>...</td>\n",
       "      <td>0</td>\n",
       "      <td>0</td>\n",
       "      <td>0</td>\n",
       "      <td>0</td>\n",
       "      <td>0</td>\n",
       "      <td>0</td>\n",
       "      <td>0</td>\n",
       "      <td>0</td>\n",
       "      <td>2491</td>\n",
       "      <td>6</td>\n",
       "    </tr>\n",
       "    <tr>\n",
       "      <th>4</th>\n",
       "      <td>7000142493</td>\n",
       "      <td>109</td>\n",
       "      <td>5</td>\n",
       "      <td>6</td>\n",
       "      <td>3</td>\n",
       "      <td>4</td>\n",
       "      <td>196</td>\n",
       "      <td>350</td>\n",
       "      <td>287</td>\n",
       "      <td>200</td>\n",
       "      <td>...</td>\n",
       "      <td>0</td>\n",
       "      <td>0</td>\n",
       "      <td>0</td>\n",
       "      <td>0</td>\n",
       "      <td>0</td>\n",
       "      <td>0</td>\n",
       "      <td>0</td>\n",
       "      <td>0</td>\n",
       "      <td>1526</td>\n",
       "      <td>4</td>\n",
       "    </tr>\n",
       "  </tbody>\n",
       "</table>\n",
       "<p>5 rows × 36 columns</p>\n",
       "</div>"
      ],
      "text/plain": [
       "   mobile_number  circle_id  total_rech_num_6  total_rech_num_7  \\\n",
       "0     7000842753        109                 4                 3   \n",
       "1     7001865778        109                 4                 9   \n",
       "2     7001625959        109                 5                 4   \n",
       "3     7001204172        109                10                11   \n",
       "4     7000142493        109                 5                 6   \n",
       "\n",
       "   total_rech_num_8  total_rech_num_9  total_rech_amt_6  total_rech_amt_7  \\\n",
       "0                 2                 6               362               252   \n",
       "1                11                 5                74               384   \n",
       "2                 2                 7               168               315   \n",
       "3                18                14               230               310   \n",
       "4                 3                 4               196               350   \n",
       "\n",
       "   total_rech_amt_8  total_rech_amt_9  ...  monthly_3g_6  monthly_3g_7  \\\n",
       "0               252                 0  ...             1             1   \n",
       "1               283               121  ...             0             0   \n",
       "2               116               358  ...             0             0   \n",
       "3               601               410  ...             0             0   \n",
       "4               287               200  ...             0             0   \n",
       "\n",
       "   monthly_3g_8  monthly_3g_9  sachet_3g_6  sachet_3g_7  sachet_3g_8  \\\n",
       "0             1             0            0            0            0   \n",
       "1             0             0            0            0            0   \n",
       "2             0             0            0            0            0   \n",
       "3             0             0            0            0            0   \n",
       "4             0             0            0            0            0   \n",
       "\n",
       "   sachet_3g_9   aon  aon_years  \n",
       "0            0   968          2  \n",
       "1            0  1006          2  \n",
       "2            0  1103          3  \n",
       "3            0  2491          6  \n",
       "4            0  1526          4  \n",
       "\n",
       "[5 rows x 36 columns]"
      ]
     },
     "execution_count": 325,
     "metadata": {},
     "output_type": "execute_result"
    }
   ],
   "source": [
    "# Conversion of the number of months by 12\n",
    "int_columns.loc[:,'aon_years']=int_columns.aon/365\n",
    "int_columns.loc[:,'aon_years'] = int_columns['aon_years'].astype(int)\n",
    "\n",
    "int_columns.head()"
   ]
  },
  {
   "cell_type": "code",
   "execution_count": 326,
   "metadata": {},
   "outputs": [
    {
     "data": {
      "text/html": [
       "<div>\n",
       "<style scoped>\n",
       "    .dataframe tbody tr th:only-of-type {\n",
       "        vertical-align: middle;\n",
       "    }\n",
       "\n",
       "    .dataframe tbody tr th {\n",
       "        vertical-align: top;\n",
       "    }\n",
       "\n",
       "    .dataframe thead th {\n",
       "        text-align: right;\n",
       "    }\n",
       "</style>\n",
       "<table border=\"1\" class=\"dataframe\">\n",
       "  <thead>\n",
       "    <tr style=\"text-align: right;\">\n",
       "      <th></th>\n",
       "      <th>monthly_2g_6</th>\n",
       "      <th>monthly_2g_7</th>\n",
       "      <th>monthly_2g_8</th>\n",
       "      <th>monthly_2g_9</th>\n",
       "      <th>sachet_2g_6</th>\n",
       "      <th>sachet_2g_7</th>\n",
       "      <th>sachet_2g_8</th>\n",
       "      <th>sachet_2g_9</th>\n",
       "      <th>monthly_3g_6</th>\n",
       "      <th>monthly_3g_7</th>\n",
       "      <th>monthly_3g_8</th>\n",
       "      <th>monthly_3g_9</th>\n",
       "      <th>sachet_3g_6</th>\n",
       "      <th>sachet_3g_7</th>\n",
       "      <th>sachet_3g_8</th>\n",
       "      <th>sachet_3g_9</th>\n",
       "    </tr>\n",
       "  </thead>\n",
       "  <tbody>\n",
       "    <tr>\n",
       "      <th>count</th>\n",
       "      <td>99999.000000</td>\n",
       "      <td>99999.000000</td>\n",
       "      <td>99999.000000</td>\n",
       "      <td>99999.000000</td>\n",
       "      <td>99999.000000</td>\n",
       "      <td>99999.000000</td>\n",
       "      <td>99999.000000</td>\n",
       "      <td>99999.000000</td>\n",
       "      <td>99999.000000</td>\n",
       "      <td>99999.000000</td>\n",
       "      <td>99999.000000</td>\n",
       "      <td>99999.000000</td>\n",
       "      <td>99999.000000</td>\n",
       "      <td>99999.000000</td>\n",
       "      <td>99999.000000</td>\n",
       "      <td>99999.000000</td>\n",
       "    </tr>\n",
       "    <tr>\n",
       "      <th>mean</th>\n",
       "      <td>0.079641</td>\n",
       "      <td>0.083221</td>\n",
       "      <td>0.081001</td>\n",
       "      <td>0.068781</td>\n",
       "      <td>0.389384</td>\n",
       "      <td>0.439634</td>\n",
       "      <td>0.450075</td>\n",
       "      <td>0.393104</td>\n",
       "      <td>0.075921</td>\n",
       "      <td>0.078581</td>\n",
       "      <td>0.082941</td>\n",
       "      <td>0.086341</td>\n",
       "      <td>0.074781</td>\n",
       "      <td>0.080401</td>\n",
       "      <td>0.084501</td>\n",
       "      <td>0.084581</td>\n",
       "    </tr>\n",
       "    <tr>\n",
       "      <th>std</th>\n",
       "      <td>0.295058</td>\n",
       "      <td>0.304395</td>\n",
       "      <td>0.299568</td>\n",
       "      <td>0.278120</td>\n",
       "      <td>1.497320</td>\n",
       "      <td>1.636230</td>\n",
       "      <td>1.630263</td>\n",
       "      <td>1.347140</td>\n",
       "      <td>0.363371</td>\n",
       "      <td>0.387231</td>\n",
       "      <td>0.384947</td>\n",
       "      <td>0.384978</td>\n",
       "      <td>0.568344</td>\n",
       "      <td>0.628334</td>\n",
       "      <td>0.660234</td>\n",
       "      <td>0.650457</td>\n",
       "    </tr>\n",
       "    <tr>\n",
       "      <th>min</th>\n",
       "      <td>0.000000</td>\n",
       "      <td>0.000000</td>\n",
       "      <td>0.000000</td>\n",
       "      <td>0.000000</td>\n",
       "      <td>0.000000</td>\n",
       "      <td>0.000000</td>\n",
       "      <td>0.000000</td>\n",
       "      <td>0.000000</td>\n",
       "      <td>0.000000</td>\n",
       "      <td>0.000000</td>\n",
       "      <td>0.000000</td>\n",
       "      <td>0.000000</td>\n",
       "      <td>0.000000</td>\n",
       "      <td>0.000000</td>\n",
       "      <td>0.000000</td>\n",
       "      <td>0.000000</td>\n",
       "    </tr>\n",
       "    <tr>\n",
       "      <th>25%</th>\n",
       "      <td>0.000000</td>\n",
       "      <td>0.000000</td>\n",
       "      <td>0.000000</td>\n",
       "      <td>0.000000</td>\n",
       "      <td>0.000000</td>\n",
       "      <td>0.000000</td>\n",
       "      <td>0.000000</td>\n",
       "      <td>0.000000</td>\n",
       "      <td>0.000000</td>\n",
       "      <td>0.000000</td>\n",
       "      <td>0.000000</td>\n",
       "      <td>0.000000</td>\n",
       "      <td>0.000000</td>\n",
       "      <td>0.000000</td>\n",
       "      <td>0.000000</td>\n",
       "      <td>0.000000</td>\n",
       "    </tr>\n",
       "    <tr>\n",
       "      <th>50%</th>\n",
       "      <td>0.000000</td>\n",
       "      <td>0.000000</td>\n",
       "      <td>0.000000</td>\n",
       "      <td>0.000000</td>\n",
       "      <td>0.000000</td>\n",
       "      <td>0.000000</td>\n",
       "      <td>0.000000</td>\n",
       "      <td>0.000000</td>\n",
       "      <td>0.000000</td>\n",
       "      <td>0.000000</td>\n",
       "      <td>0.000000</td>\n",
       "      <td>0.000000</td>\n",
       "      <td>0.000000</td>\n",
       "      <td>0.000000</td>\n",
       "      <td>0.000000</td>\n",
       "      <td>0.000000</td>\n",
       "    </tr>\n",
       "    <tr>\n",
       "      <th>75%</th>\n",
       "      <td>0.000000</td>\n",
       "      <td>0.000000</td>\n",
       "      <td>0.000000</td>\n",
       "      <td>0.000000</td>\n",
       "      <td>0.000000</td>\n",
       "      <td>0.000000</td>\n",
       "      <td>0.000000</td>\n",
       "      <td>0.000000</td>\n",
       "      <td>0.000000</td>\n",
       "      <td>0.000000</td>\n",
       "      <td>0.000000</td>\n",
       "      <td>0.000000</td>\n",
       "      <td>0.000000</td>\n",
       "      <td>0.000000</td>\n",
       "      <td>0.000000</td>\n",
       "      <td>0.000000</td>\n",
       "    </tr>\n",
       "    <tr>\n",
       "      <th>max</th>\n",
       "      <td>4.000000</td>\n",
       "      <td>5.000000</td>\n",
       "      <td>5.000000</td>\n",
       "      <td>4.000000</td>\n",
       "      <td>42.000000</td>\n",
       "      <td>48.000000</td>\n",
       "      <td>44.000000</td>\n",
       "      <td>40.000000</td>\n",
       "      <td>14.000000</td>\n",
       "      <td>16.000000</td>\n",
       "      <td>16.000000</td>\n",
       "      <td>11.000000</td>\n",
       "      <td>29.000000</td>\n",
       "      <td>35.000000</td>\n",
       "      <td>41.000000</td>\n",
       "      <td>49.000000</td>\n",
       "    </tr>\n",
       "  </tbody>\n",
       "</table>\n",
       "</div>"
      ],
      "text/plain": [
       "       monthly_2g_6  monthly_2g_7  monthly_2g_8  monthly_2g_9   sachet_2g_6  \\\n",
       "count  99999.000000  99999.000000  99999.000000  99999.000000  99999.000000   \n",
       "mean       0.079641      0.083221      0.081001      0.068781      0.389384   \n",
       "std        0.295058      0.304395      0.299568      0.278120      1.497320   \n",
       "min        0.000000      0.000000      0.000000      0.000000      0.000000   \n",
       "25%        0.000000      0.000000      0.000000      0.000000      0.000000   \n",
       "50%        0.000000      0.000000      0.000000      0.000000      0.000000   \n",
       "75%        0.000000      0.000000      0.000000      0.000000      0.000000   \n",
       "max        4.000000      5.000000      5.000000      4.000000     42.000000   \n",
       "\n",
       "        sachet_2g_7   sachet_2g_8   sachet_2g_9  monthly_3g_6  monthly_3g_7  \\\n",
       "count  99999.000000  99999.000000  99999.000000  99999.000000  99999.000000   \n",
       "mean       0.439634      0.450075      0.393104      0.075921      0.078581   \n",
       "std        1.636230      1.630263      1.347140      0.363371      0.387231   \n",
       "min        0.000000      0.000000      0.000000      0.000000      0.000000   \n",
       "25%        0.000000      0.000000      0.000000      0.000000      0.000000   \n",
       "50%        0.000000      0.000000      0.000000      0.000000      0.000000   \n",
       "75%        0.000000      0.000000      0.000000      0.000000      0.000000   \n",
       "max       48.000000     44.000000     40.000000     14.000000     16.000000   \n",
       "\n",
       "       monthly_3g_8  monthly_3g_9   sachet_3g_6   sachet_3g_7   sachet_3g_8  \\\n",
       "count  99999.000000  99999.000000  99999.000000  99999.000000  99999.000000   \n",
       "mean       0.082941      0.086341      0.074781      0.080401      0.084501   \n",
       "std        0.384947      0.384978      0.568344      0.628334      0.660234   \n",
       "min        0.000000      0.000000      0.000000      0.000000      0.000000   \n",
       "25%        0.000000      0.000000      0.000000      0.000000      0.000000   \n",
       "50%        0.000000      0.000000      0.000000      0.000000      0.000000   \n",
       "75%        0.000000      0.000000      0.000000      0.000000      0.000000   \n",
       "max       16.000000     11.000000     29.000000     35.000000     41.000000   \n",
       "\n",
       "        sachet_3g_9  \n",
       "count  99999.000000  \n",
       "mean       0.084581  \n",
       "std        0.650457  \n",
       "min        0.000000  \n",
       "25%        0.000000  \n",
       "50%        0.000000  \n",
       "75%        0.000000  \n",
       "max       49.000000  "
      ]
     },
     "execution_count": 326,
     "metadata": {},
     "output_type": "execute_result"
    }
   ],
   "source": [
    "int_columns[['monthly_2g_6', 'monthly_2g_7', 'monthly_2g_8',\n",
    "        'monthly_2g_9', 'sachet_2g_6', 'sachet_2g_7', 'sachet_2g_8',\n",
    "        'sachet_2g_9', 'monthly_3g_6', 'monthly_3g_7', 'monthly_3g_8',\n",
    "        'monthly_3g_9', 'sachet_3g_6', 'sachet_3g_7', 'sachet_3g_8',\n",
    "        'sachet_3g_9']].describe()"
   ]
  },
  {
   "cell_type": "code",
   "execution_count": 327,
   "metadata": {},
   "outputs": [],
   "source": [
    "#Deriving New columns for Good Phase(6 and 7 months)\n",
    "#Sachet subscription\n",
    "int_columns.loc[:,'sachet_2g_good_ph'] = (int_columns.sachet_2g_6 + int_columns.sachet_2g_7)/2\n",
    "int_columns.loc[:,'sachet_3g_good_ph'] = (int_columns.sachet_3g_6 + int_columns.sachet_3g_7)/2\n",
    "\n",
    "#Monthly 2G/3G\n",
    "int_columns.loc[:,'monthly_2g_good_ph'] = (int_columns.monthly_2g_6 + int_columns.monthly_2g_7)/2\n",
    "int_columns.loc[:,'monthly_3g_good_ph'] = (int_columns.monthly_3g_6 + int_columns.monthly_3g_7)/2\n",
    "\n",
    "#max_recaharge amount\n",
    "int_columns.loc[:,'max_rech_amt_good_ph'] = (int_columns.max_rech_amt_6 + int_columns.max_rech_amt_7)/2\n",
    "int_columns.loc[:,'total_rech_num_good_ph'] = (int_columns.total_rech_num_6 + int_columns.total_rech_num_7)/2\n",
    "\n",
    "# Average total recharge for first 2 months\n",
    "int_columns.loc[:,'tot_rech_amt_good_ph'] = (int_columns.total_rech_amt_6 + int_columns.total_rech_amt_7)/2\n",
    "#df['avg_tot_rech_3mths'] = (df['total_rech_amt_6']+df['total_rech_amt_7']+df['total_rech_amt_8'])/3\n",
    "\n",
    "int_columns.loc[:, 'last_day_rch_amt_good_ph'] = (int_columns.last_day_rch_amt_6 + int_columns.last_day_rch_amt_7)/2"
   ]
  },
  {
   "cell_type": "code",
   "execution_count": 328,
   "metadata": {},
   "outputs": [],
   "source": [
    "#Dropping circle_id column as it contains only one value and variance is low\n",
    "#Dropping aon column as new column is derived and is no longer useful \n",
    "#Dropping all columns with suffix _6 and _7 as new columns derived \n",
    "#Dropping all columns with suffix _9 as they will not be used\n",
    "\n",
    "int_columns=int_columns.drop(['sachet_2g_6','sachet_2g_7','sachet_3g_6',\n",
    "                               'sachet_3g_7','monthly_2g_6','monthly_2g_7',\n",
    "                               'monthly_3g_6','monthly_3g_7','max_rech_amt_6',\n",
    "                               'max_rech_amt_7','total_rech_num_6','total_rech_num_7','total_rech_amt_6','total_rech_amt_7',\n",
    "                             'aon','circle_id','last_day_rch_amt_6','last_day_rch_amt_7','total_rech_num_9',\n",
    "                              'total_rech_amt_9','max_rech_amt_9','last_day_rch_amt_9','monthly_2g_9','sachet_2g_9'\n",
    "                             ,'sachet_3g_9','monthly_3g_9']\n",
    "                               ,axis=1)"
   ]
  },
  {
   "cell_type": "code",
   "execution_count": 329,
   "metadata": {},
   "outputs": [
    {
     "data": {
      "text/plain": [
       "array(['mobile_number', 'total_rech_num_8', 'total_rech_amt_8',\n",
       "       'max_rech_amt_8', 'last_day_rch_amt_8', 'monthly_2g_8',\n",
       "       'sachet_2g_8', 'monthly_3g_8', 'sachet_3g_8', 'aon_years',\n",
       "       'sachet_2g_good_ph', 'sachet_3g_good_ph', 'monthly_2g_good_ph',\n",
       "       'monthly_3g_good_ph', 'max_rech_amt_good_ph',\n",
       "       'total_rech_num_good_ph', 'tot_rech_amt_good_ph',\n",
       "       'last_day_rch_amt_good_ph'], dtype=object)"
      ]
     },
     "execution_count": 329,
     "metadata": {},
     "output_type": "execute_result"
    }
   ],
   "source": [
    "#Final int_columns\n",
    "\n",
    "int_columns.columns.values"
   ]
  },
  {
   "cell_type": "markdown",
   "metadata": {},
   "source": [
    "### Data Preparation - Float group Columns"
   ]
  },
  {
   "cell_type": "code",
   "execution_count": 330,
   "metadata": {},
   "outputs": [],
   "source": [
    "#groupingcolumnsbasedondatatypes\n",
    "#df.columns[colforcoldf.dtypes=='float64']\n",
    "\n",
    "list(df.loc[:,df.dtypes==float])\n",
    "float_columns=df[['loc_og_t2o_mou','std_og_t2o_mou','loc_ic_t2o_mou',\n",
    "                  'arpu_6','arpu_7','arpu_8','arpu_9',\n",
    "                  'onnet_mou_6','onnet_mou_7','onnet_mou_8','onnet_mou_9',\n",
    "                  'offnet_mou_6','offnet_mou_7','offnet_mou_8','offnet_mou_9',\n",
    "                  'roam_ic_mou_6','roam_ic_mou_7','roam_ic_mou_8','roam_ic_mou_9',\n",
    "                  'roam_og_mou_6','roam_og_mou_7','roam_og_mou_8','roam_og_mou_9',\n",
    "                  'loc_og_t2t_mou_6','loc_og_t2t_mou_7','loc_og_t2t_mou_8','loc_og_t2t_mou_9',\n",
    "                  'loc_og_t2m_mou_6','loc_og_t2m_mou_7','loc_og_t2m_mou_8','loc_og_t2m_mou_9',\n",
    "                  'loc_og_t2f_mou_6','loc_og_t2f_mou_7','loc_og_t2f_mou_8','loc_og_t2f_mou_9',\n",
    "                  'loc_og_t2c_mou_6','loc_og_t2c_mou_7','loc_og_t2c_mou_8','loc_og_t2c_mou_9',\n",
    "                  'loc_og_mou_6','loc_og_mou_7','loc_og_mou_8','loc_og_mou_9',\n",
    "                  'std_og_t2t_mou_6','std_og_t2t_mou_7','std_og_t2t_mou_8','std_og_t2t_mou_9',\n",
    "                  'std_og_t2m_mou_6','std_og_t2m_mou_7','std_og_t2m_mou_8','std_og_t2m_mou_9',\n",
    "                  'std_og_t2f_mou_6','std_og_t2f_mou_7','std_og_t2f_mou_8','std_og_t2f_mou_9',\n",
    "                  'std_og_t2c_mou_6','std_og_t2c_mou_7','std_og_t2c_mou_8','std_og_t2c_mou_9',\n",
    "                  'std_og_mou_6','std_og_mou_7','std_og_mou_8','std_og_mou_9','isd_og_mou_6',\n",
    "                  'isd_og_mou_7','isd_og_mou_8','isd_og_mou_9',\n",
    "                  'spl_og_mou_6','spl_og_mou_7','spl_og_mou_8','spl_og_mou_9',\n",
    "                  'og_others_6','og_others_7','og_others_8','og_others_9',\n",
    "                  'total_og_mou_6','total_og_mou_7','total_og_mou_8','total_og_mou_9',\n",
    "                  'loc_ic_t2t_mou_6','loc_ic_t2t_mou_7','loc_ic_t2t_mou_8','loc_ic_t2t_mou_9',\n",
    "                  'loc_ic_t2m_mou_6','loc_ic_t2m_mou_7','loc_ic_t2m_mou_8','loc_ic_t2m_mou_9',\n",
    "                  'loc_ic_t2f_mou_6','loc_ic_t2f_mou_7','loc_ic_t2f_mou_8','loc_ic_t2f_mou_9',\n",
    "                  'loc_ic_mou_6','loc_ic_mou_7','loc_ic_mou_8','loc_ic_mou_9',\n",
    "                  'std_ic_t2t_mou_6','std_ic_t2t_mou_7','std_ic_t2t_mou_8','std_ic_t2t_mou_9',\n",
    "                  'std_ic_t2m_mou_6','std_ic_t2m_mou_7','std_ic_t2m_mou_8','std_ic_t2m_mou_9',\n",
    "                  'std_ic_t2f_mou_6','std_ic_t2f_mou_7','std_ic_t2f_mou_8','std_ic_t2f_mou_9',\n",
    "                  'std_ic_t2o_mou_6','std_ic_t2o_mou_7','std_ic_t2o_mou_8','std_ic_t2o_mou_9',\n",
    "                  'std_ic_mou_6','std_ic_mou_7','std_ic_mou_8','std_ic_mou_9',\n",
    "                  'total_ic_mou_6','total_ic_mou_7','total_ic_mou_8','total_ic_mou_9',\n",
    "                  'spl_ic_mou_6','spl_ic_mou_7','spl_ic_mou_8','spl_ic_mou_9',\n",
    "                  'isd_ic_mou_6','isd_ic_mou_7','isd_ic_mou_8','isd_ic_mou_9',\n",
    "                  'ic_others_6','ic_others_7','ic_others_8','ic_others_9',\n",
    "                  'total_rech_data_6','total_rech_data_7','total_rech_data_8','total_rech_data_9',\n",
    "                  'max_rech_data_6','max_rech_data_7','max_rech_data_8','max_rech_data_9',\n",
    "                  'count_rech_2g_6','count_rech_2g_7','count_rech_2g_8','count_rech_2g_9',\n",
    "                  'count_rech_3g_6','count_rech_3g_7','count_rech_3g_8','count_rech_3g_9',\n",
    "                  'av_rech_amt_data_6','av_rech_amt_data_7','av_rech_amt_data_8','av_rech_amt_data_9'\n",
    "                  ,'vol_2g_mb_6','vol_2g_mb_7','vol_2g_mb_8','vol_2g_mb_9',\n",
    "                  'vol_3g_mb_6','vol_3g_mb_7','vol_3g_mb_8','vol_3g_mb_9','arpu_3g_6','arpu_3g_7','arpu_3g_8','arpu_3g_9','arpu_2g_6','arpu_2g_7','arpu_2g_8','arpu_2g_9','night_pck_user_6','night_pck_user_7','night_pck_user_8','night_pck_user_9','fb_user_6','fb_user_7','fb_user_8','fb_user_9','aug_vbc_3g','jul_vbc_3g','jun_vbc_3g','sep_vbc_3g']]"
   ]
  },
  {
   "cell_type": "code",
   "execution_count": 331,
   "metadata": {},
   "outputs": [
    {
     "data": {
      "text/plain": [
       "total_rech_data_6     74.85\n",
       "total_rech_data_7     74.43\n",
       "total_rech_data_8     73.66\n",
       "total_rech_data_9     74.08\n",
       "max_rech_data_6       74.85\n",
       "max_rech_data_7       74.43\n",
       "max_rech_data_8       73.66\n",
       "max_rech_data_9       74.08\n",
       "count_rech_2g_6       74.85\n",
       "count_rech_2g_7       74.43\n",
       "count_rech_2g_8       73.66\n",
       "count_rech_2g_9       74.08\n",
       "count_rech_3g_6       74.85\n",
       "count_rech_3g_7       74.43\n",
       "count_rech_3g_8       73.66\n",
       "count_rech_3g_9       74.08\n",
       "av_rech_amt_data_6    74.85\n",
       "av_rech_amt_data_7    74.43\n",
       "av_rech_amt_data_8    73.66\n",
       "av_rech_amt_data_9    74.08\n",
       "arpu_3g_6             74.85\n",
       "arpu_3g_7             74.43\n",
       "arpu_3g_8             73.66\n",
       "arpu_3g_9             74.08\n",
       "arpu_2g_6             74.85\n",
       "arpu_2g_7             74.43\n",
       "arpu_2g_8             73.66\n",
       "arpu_2g_9             74.08\n",
       "night_pck_user_6      74.85\n",
       "night_pck_user_7      74.43\n",
       "night_pck_user_8      73.66\n",
       "night_pck_user_9      74.08\n",
       "fb_user_6             74.85\n",
       "fb_user_7             74.43\n",
       "fb_user_8             73.66\n",
       "fb_user_9             74.08\n",
       "dtype: float64"
      ]
     },
     "execution_count": 331,
     "metadata": {},
     "output_type": "execute_result"
    }
   ],
   "source": [
    "#Checking for null values\n",
    "\n",
    "float_null= round(100*(float_columns.isnull().sum()/len(float_columns.index)),2)\n",
    "float_null[float_null > 10]"
   ]
  },
  {
   "cell_type": "code",
   "execution_count": 332,
   "metadata": {},
   "outputs": [],
   "source": [
    "# Dropping the above columns with more than 70% missing values\n",
    "\n",
    "float_columns=float_columns.drop(['total_rech_data_6','total_rech_data_7','total_rech_data_8','total_rech_data_9',\n",
    "                              'max_rech_data_6','max_rech_data_7','max_rech_data_8','max_rech_data_9','count_rech_2g_6',\n",
    "                              'count_rech_2g_7','count_rech_2g_8','count_rech_2g_9','count_rech_3g_6','count_rech_3g_7',\n",
    "                              'count_rech_3g_8','count_rech_3g_9','av_rech_amt_data_6','av_rech_amt_data_7',\n",
    "                              'av_rech_amt_data_8','av_rech_amt_data_9','arpu_3g_6','arpu_3g_7','arpu_3g_8','arpu_3g_9',\n",
    "                              'arpu_2g_6','arpu_2g_7','arpu_2g_8','arpu_2g_9','night_pck_user_6','night_pck_user_7',\n",
    "                              'night_pck_user_8','night_pck_user_9','fb_user_6','fb_user_7','fb_user_8','fb_user_9'],axis=1)\n"
   ]
  },
  {
   "cell_type": "code",
   "execution_count": 333,
   "metadata": {},
   "outputs": [
    {
     "data": {
      "text/plain": [
       "array(['loc_og_t2o_mou', 'std_og_t2o_mou', 'loc_ic_t2o_mou', 'arpu_6',\n",
       "       'arpu_7', 'arpu_8', 'arpu_9', 'onnet_mou_6', 'onnet_mou_7',\n",
       "       'onnet_mou_8', 'onnet_mou_9', 'offnet_mou_6', 'offnet_mou_7',\n",
       "       'offnet_mou_8', 'offnet_mou_9', 'roam_ic_mou_6', 'roam_ic_mou_7',\n",
       "       'roam_ic_mou_8', 'roam_ic_mou_9', 'roam_og_mou_6', 'roam_og_mou_7',\n",
       "       'roam_og_mou_8', 'roam_og_mou_9', 'loc_og_t2t_mou_6',\n",
       "       'loc_og_t2t_mou_7', 'loc_og_t2t_mou_8', 'loc_og_t2t_mou_9',\n",
       "       'loc_og_t2m_mou_6', 'loc_og_t2m_mou_7', 'loc_og_t2m_mou_8',\n",
       "       'loc_og_t2m_mou_9', 'loc_og_t2f_mou_6', 'loc_og_t2f_mou_7',\n",
       "       'loc_og_t2f_mou_8', 'loc_og_t2f_mou_9', 'loc_og_t2c_mou_6',\n",
       "       'loc_og_t2c_mou_7', 'loc_og_t2c_mou_8', 'loc_og_t2c_mou_9',\n",
       "       'loc_og_mou_6', 'loc_og_mou_7', 'loc_og_mou_8', 'loc_og_mou_9',\n",
       "       'std_og_t2t_mou_6', 'std_og_t2t_mou_7', 'std_og_t2t_mou_8',\n",
       "       'std_og_t2t_mou_9', 'std_og_t2m_mou_6', 'std_og_t2m_mou_7',\n",
       "       'std_og_t2m_mou_8', 'std_og_t2m_mou_9', 'std_og_t2f_mou_6',\n",
       "       'std_og_t2f_mou_7', 'std_og_t2f_mou_8', 'std_og_t2f_mou_9',\n",
       "       'std_og_t2c_mou_6', 'std_og_t2c_mou_7', 'std_og_t2c_mou_8',\n",
       "       'std_og_t2c_mou_9', 'std_og_mou_6', 'std_og_mou_7', 'std_og_mou_8',\n",
       "       'std_og_mou_9', 'isd_og_mou_6', 'isd_og_mou_7', 'isd_og_mou_8',\n",
       "       'isd_og_mou_9', 'spl_og_mou_6', 'spl_og_mou_7', 'spl_og_mou_8',\n",
       "       'spl_og_mou_9', 'og_others_6', 'og_others_7', 'og_others_8',\n",
       "       'og_others_9', 'total_og_mou_6', 'total_og_mou_7',\n",
       "       'total_og_mou_8', 'total_og_mou_9', 'loc_ic_t2t_mou_6',\n",
       "       'loc_ic_t2t_mou_7', 'loc_ic_t2t_mou_8', 'loc_ic_t2t_mou_9',\n",
       "       'loc_ic_t2m_mou_6', 'loc_ic_t2m_mou_7', 'loc_ic_t2m_mou_8',\n",
       "       'loc_ic_t2m_mou_9', 'loc_ic_t2f_mou_6', 'loc_ic_t2f_mou_7',\n",
       "       'loc_ic_t2f_mou_8', 'loc_ic_t2f_mou_9', 'loc_ic_mou_6',\n",
       "       'loc_ic_mou_7', 'loc_ic_mou_8', 'loc_ic_mou_9', 'std_ic_t2t_mou_6',\n",
       "       'std_ic_t2t_mou_7', 'std_ic_t2t_mou_8', 'std_ic_t2t_mou_9',\n",
       "       'std_ic_t2m_mou_6', 'std_ic_t2m_mou_7', 'std_ic_t2m_mou_8',\n",
       "       'std_ic_t2m_mou_9', 'std_ic_t2f_mou_6', 'std_ic_t2f_mou_7',\n",
       "       'std_ic_t2f_mou_8', 'std_ic_t2f_mou_9', 'std_ic_t2o_mou_6',\n",
       "       'std_ic_t2o_mou_7', 'std_ic_t2o_mou_8', 'std_ic_t2o_mou_9',\n",
       "       'std_ic_mou_6', 'std_ic_mou_7', 'std_ic_mou_8', 'std_ic_mou_9',\n",
       "       'total_ic_mou_6', 'total_ic_mou_7', 'total_ic_mou_8',\n",
       "       'total_ic_mou_9', 'spl_ic_mou_6', 'spl_ic_mou_7', 'spl_ic_mou_8',\n",
       "       'spl_ic_mou_9', 'isd_ic_mou_6', 'isd_ic_mou_7', 'isd_ic_mou_8',\n",
       "       'isd_ic_mou_9', 'ic_others_6', 'ic_others_7', 'ic_others_8',\n",
       "       'ic_others_9', 'vol_2g_mb_6', 'vol_2g_mb_7', 'vol_2g_mb_8',\n",
       "       'vol_2g_mb_9', 'vol_3g_mb_6', 'vol_3g_mb_7', 'vol_3g_mb_8',\n",
       "       'vol_3g_mb_9', 'aug_vbc_3g', 'jul_vbc_3g', 'jun_vbc_3g',\n",
       "       'sep_vbc_3g'], dtype=object)"
      ]
     },
     "execution_count": 333,
     "metadata": {},
     "output_type": "execute_result"
    }
   ],
   "source": [
    "#Remaining Columns for analysis \n",
    "float_columns.columns.values"
   ]
  },
  {
   "cell_type": "code",
   "execution_count": 334,
   "metadata": {},
   "outputs": [
    {
     "data": {
      "text/plain": [
       "array(['loc_og_t2o_mou', 'std_og_t2o_mou', 'loc_ic_t2o_mou',\n",
       "       'std_og_t2c_mou_6', 'std_og_t2c_mou_7', 'std_og_t2c_mou_8',\n",
       "       'std_og_t2c_mou_9', 'std_ic_t2o_mou_6', 'std_ic_t2o_mou_7',\n",
       "       'std_ic_t2o_mou_8', 'std_ic_t2o_mou_9'], dtype=object)"
      ]
     },
     "execution_count": 334,
     "metadata": {},
     "output_type": "execute_result"
    }
   ],
   "source": [
    "# Checking for zero variance columns\n",
    "float_columns.std()[float_columns.std()==0].index.values"
   ]
  },
  {
   "cell_type": "code",
   "execution_count": 335,
   "metadata": {},
   "outputs": [
    {
     "data": {
      "text/plain": [
       "array(['arpu_6', 'arpu_7', 'arpu_8', 'arpu_9', 'onnet_mou_6',\n",
       "       'onnet_mou_7', 'onnet_mou_8', 'onnet_mou_9', 'offnet_mou_6',\n",
       "       'offnet_mou_7', 'offnet_mou_8', 'offnet_mou_9', 'roam_ic_mou_6',\n",
       "       'roam_ic_mou_7', 'roam_ic_mou_8', 'roam_ic_mou_9', 'roam_og_mou_6',\n",
       "       'roam_og_mou_7', 'roam_og_mou_8', 'roam_og_mou_9',\n",
       "       'loc_og_t2t_mou_6', 'loc_og_t2t_mou_7', 'loc_og_t2t_mou_8',\n",
       "       'loc_og_t2t_mou_9', 'loc_og_t2m_mou_6', 'loc_og_t2m_mou_7',\n",
       "       'loc_og_t2m_mou_8', 'loc_og_t2m_mou_9', 'loc_og_t2f_mou_6',\n",
       "       'loc_og_t2f_mou_7', 'loc_og_t2f_mou_8', 'loc_og_t2f_mou_9',\n",
       "       'loc_og_t2c_mou_6', 'loc_og_t2c_mou_7', 'loc_og_t2c_mou_8',\n",
       "       'loc_og_t2c_mou_9', 'loc_og_mou_6', 'loc_og_mou_7', 'loc_og_mou_8',\n",
       "       'loc_og_mou_9', 'std_og_t2t_mou_6', 'std_og_t2t_mou_7',\n",
       "       'std_og_t2t_mou_8', 'std_og_t2t_mou_9', 'std_og_t2m_mou_6',\n",
       "       'std_og_t2m_mou_7', 'std_og_t2m_mou_8', 'std_og_t2m_mou_9',\n",
       "       'std_og_t2f_mou_6', 'std_og_t2f_mou_7', 'std_og_t2f_mou_8',\n",
       "       'std_og_t2f_mou_9', 'std_og_mou_6', 'std_og_mou_7', 'std_og_mou_8',\n",
       "       'std_og_mou_9', 'isd_og_mou_6', 'isd_og_mou_7', 'isd_og_mou_8',\n",
       "       'isd_og_mou_9', 'spl_og_mou_6', 'spl_og_mou_7', 'spl_og_mou_8',\n",
       "       'spl_og_mou_9', 'og_others_6', 'og_others_7', 'og_others_8',\n",
       "       'og_others_9', 'total_og_mou_6', 'total_og_mou_7',\n",
       "       'total_og_mou_8', 'total_og_mou_9', 'loc_ic_t2t_mou_6',\n",
       "       'loc_ic_t2t_mou_7', 'loc_ic_t2t_mou_8', 'loc_ic_t2t_mou_9',\n",
       "       'loc_ic_t2m_mou_6', 'loc_ic_t2m_mou_7', 'loc_ic_t2m_mou_8',\n",
       "       'loc_ic_t2m_mou_9', 'loc_ic_t2f_mou_6', 'loc_ic_t2f_mou_7',\n",
       "       'loc_ic_t2f_mou_8', 'loc_ic_t2f_mou_9', 'loc_ic_mou_6',\n",
       "       'loc_ic_mou_7', 'loc_ic_mou_8', 'loc_ic_mou_9', 'std_ic_t2t_mou_6',\n",
       "       'std_ic_t2t_mou_7', 'std_ic_t2t_mou_8', 'std_ic_t2t_mou_9',\n",
       "       'std_ic_t2m_mou_6', 'std_ic_t2m_mou_7', 'std_ic_t2m_mou_8',\n",
       "       'std_ic_t2m_mou_9', 'std_ic_t2f_mou_6', 'std_ic_t2f_mou_7',\n",
       "       'std_ic_t2f_mou_8', 'std_ic_t2f_mou_9', 'std_ic_mou_6',\n",
       "       'std_ic_mou_7', 'std_ic_mou_8', 'std_ic_mou_9', 'total_ic_mou_6',\n",
       "       'total_ic_mou_7', 'total_ic_mou_8', 'total_ic_mou_9',\n",
       "       'spl_ic_mou_6', 'spl_ic_mou_7', 'spl_ic_mou_8', 'spl_ic_mou_9',\n",
       "       'isd_ic_mou_6', 'isd_ic_mou_7', 'isd_ic_mou_8', 'isd_ic_mou_9',\n",
       "       'ic_others_6', 'ic_others_7', 'ic_others_8', 'ic_others_9',\n",
       "       'vol_2g_mb_6', 'vol_2g_mb_7', 'vol_2g_mb_8', 'vol_2g_mb_9',\n",
       "       'vol_3g_mb_6', 'vol_3g_mb_7', 'vol_3g_mb_8', 'vol_3g_mb_9',\n",
       "       'aug_vbc_3g', 'jul_vbc_3g', 'jun_vbc_3g', 'sep_vbc_3g'],\n",
       "      dtype=object)"
      ]
     },
     "execution_count": 335,
     "metadata": {},
     "output_type": "execute_result"
    }
   ],
   "source": [
    "#Dropping these variable\n",
    "float_columns=float_columns.drop(['loc_og_t2o_mou', 'std_og_t2o_mou', 'loc_ic_t2o_mou',\n",
    "       'std_og_t2c_mou_6', 'std_og_t2c_mou_7', 'std_og_t2c_mou_8',\n",
    "       'std_og_t2c_mou_9', 'std_ic_t2o_mou_6', 'std_ic_t2o_mou_7',\n",
    "       'std_ic_t2o_mou_8', 'std_ic_t2o_mou_9'],axis=1)\n",
    "\n",
    "#Remaining Columns for analysis\n",
    "float_columns.columns.values"
   ]
  },
  {
   "cell_type": "code",
   "execution_count": 336,
   "metadata": {},
   "outputs": [
    {
     "data": {
      "text/plain": [
       "onnet_mou_6         3.94\n",
       "onnet_mou_7         3.86\n",
       "onnet_mou_8         5.38\n",
       "onnet_mou_9         7.75\n",
       "offnet_mou_6        3.94\n",
       "offnet_mou_7        3.86\n",
       "offnet_mou_8        5.38\n",
       "offnet_mou_9        7.75\n",
       "roam_ic_mou_6       3.94\n",
       "roam_ic_mou_7       3.86\n",
       "roam_ic_mou_8       5.38\n",
       "roam_ic_mou_9       7.75\n",
       "roam_og_mou_6       3.94\n",
       "roam_og_mou_7       3.86\n",
       "roam_og_mou_8       5.38\n",
       "roam_og_mou_9       7.75\n",
       "loc_og_t2t_mou_6    3.94\n",
       "loc_og_t2t_mou_7    3.86\n",
       "loc_og_t2t_mou_8    5.38\n",
       "loc_og_t2t_mou_9    7.75\n",
       "loc_og_t2m_mou_6    3.94\n",
       "loc_og_t2m_mou_7    3.86\n",
       "loc_og_t2m_mou_8    5.38\n",
       "loc_og_t2m_mou_9    7.75\n",
       "loc_og_t2f_mou_6    3.94\n",
       "loc_og_t2f_mou_7    3.86\n",
       "loc_og_t2f_mou_8    5.38\n",
       "loc_og_t2f_mou_9    7.75\n",
       "loc_og_t2c_mou_6    3.94\n",
       "loc_og_t2c_mou_7    3.86\n",
       "                    ... \n",
       "loc_ic_mou_8        5.38\n",
       "loc_ic_mou_9        7.75\n",
       "std_ic_t2t_mou_6    3.94\n",
       "std_ic_t2t_mou_7    3.86\n",
       "std_ic_t2t_mou_8    5.38\n",
       "std_ic_t2t_mou_9    7.75\n",
       "std_ic_t2m_mou_6    3.94\n",
       "std_ic_t2m_mou_7    3.86\n",
       "std_ic_t2m_mou_8    5.38\n",
       "std_ic_t2m_mou_9    7.75\n",
       "std_ic_t2f_mou_6    3.94\n",
       "std_ic_t2f_mou_7    3.86\n",
       "std_ic_t2f_mou_8    5.38\n",
       "std_ic_t2f_mou_9    7.75\n",
       "std_ic_mou_6        3.94\n",
       "std_ic_mou_7        3.86\n",
       "std_ic_mou_8        5.38\n",
       "std_ic_mou_9        7.75\n",
       "spl_ic_mou_6        3.94\n",
       "spl_ic_mou_7        3.86\n",
       "spl_ic_mou_8        5.38\n",
       "spl_ic_mou_9        7.75\n",
       "isd_ic_mou_6        3.94\n",
       "isd_ic_mou_7        3.86\n",
       "isd_ic_mou_8        5.38\n",
       "isd_ic_mou_9        7.75\n",
       "ic_others_6         3.94\n",
       "ic_others_7         3.86\n",
       "ic_others_8         5.38\n",
       "ic_others_9         7.75\n",
       "Length: 108, dtype: float64"
      ]
     },
     "execution_count": 336,
     "metadata": {},
     "output_type": "execute_result"
    }
   ],
   "source": [
    "#Checking for missing values \n",
    "missing_float=round(100*(float_columns.isnull().sum()/len(float_columns.index)),2)\n",
    "missing_float[missing_float > 0.1]"
   ]
  },
  {
   "cell_type": "code",
   "execution_count": 337,
   "metadata": {},
   "outputs": [
    {
     "data": {
      "text/plain": [
       "og_others_6    3.94\n",
       "og_others_7    3.86\n",
       "og_others_8    5.38\n",
       "og_others_9    7.75\n",
       "ic_others_6    3.94\n",
       "ic_others_7    3.86\n",
       "ic_others_8    5.38\n",
       "ic_others_9    7.75\n",
       "dtype: float64"
      ]
     },
     "execution_count": 337,
     "metadata": {},
     "output_type": "execute_result"
    }
   ],
   "source": [
    "#Imputing missing values \n",
    "#Since the minutes of usage columns are all numerical, imputing missing values with zero\n",
    "\n",
    "mou_cols = float_columns.columns[float_columns.columns.str.contains('mou')]\n",
    "float_columns.loc[:,mou_cols] = float_columns.loc[:,mou_cols].replace(np.NaN,0)\n",
    "\n",
    "missing_float=round(100*(float_columns.isnull().sum()/len(float_columns.index)),2)\n",
    "missing_float[missing_float > 0.1]"
   ]
  },
  {
   "cell_type": "code",
   "execution_count": 338,
   "metadata": {},
   "outputs": [
    {
     "data": {
      "text/plain": [
       "Series([], dtype: float64)"
      ]
     },
     "execution_count": 338,
     "metadata": {},
     "output_type": "execute_result"
    }
   ],
   "source": [
    "#Imputing missing values \n",
    "\n",
    "others_cols = float_columns.columns[float_columns.columns.str.contains('others')]\n",
    "float_columns.loc[:,others_cols] = float_columns.loc[:,others_cols].replace(np.NaN,0)\n",
    "\n",
    "missing_float=round(100*(float_columns.isnull().sum()/len(float_columns.index)),2)\n",
    "missing_float[missing_float > 0]"
   ]
  },
  {
   "cell_type": "code",
   "execution_count": 339,
   "metadata": {},
   "outputs": [
    {
     "name": "stdout",
     "output_type": "stream",
     "text": [
      "Index(['roam_ic_mou_6', 'loc_ic_mou_6', 'std_ic_mou_6', 'total_ic_mou_6',\n",
      "       'spl_ic_mou_6', 'isd_ic_mou_6'],\n",
      "      dtype='object')\n",
      "0      0.00\n",
      "1     26.82\n",
      "2    369.10\n",
      "3    280.06\n",
      "4    215.96\n",
      "dtype: float64\n",
      "0      0.00\n",
      "1     26.83\n",
      "2    370.04\n",
      "3    280.08\n",
      "4    216.44\n",
      "Name: total_ic_mou_6, dtype: float64\n"
     ]
    }
   ],
   "source": [
    "#Checking Incoming and Outgoing columns\n",
    "\n",
    "ic_cols = float_columns.columns[float_columns.columns.str.contains('ic_mou_6')]\n",
    "print(ic_cols)\n",
    "\n",
    "float_columns.loc[:,ic_cols].head()\n",
    "\n",
    "ic_all=float_columns.roam_ic_mou_6+ float_columns.loc_ic_mou_6+float_columns.std_ic_mou_6+ float_columns.spl_ic_mou_6+float_columns.isd_ic_mou_6\n",
    "print(ic_all.head())\n",
    "print(float_columns.total_ic_mou_6.head())\n",
    "\n",
    "#Since the total incoming column is equal to the sum of other"
   ]
  },
  {
   "cell_type": "code",
   "execution_count": 340,
   "metadata": {},
   "outputs": [],
   "source": [
    "## Deriving new features from existing columns \n",
    "\n",
    "# Average of first 2 months \n",
    "float_columns.loc[:,'arpu_good_ph'] = (float_columns['arpu_6']+float_columns['arpu_7'])/2\n",
    "float_columns.loc[:,'spl_ic_mou_good_ph'] = (float_columns.spl_ic_mou_6 + float_columns.spl_ic_mou_7)/2\n",
    "float_columns.loc[:,'isd_ic_mou_good_ph'] = (float_columns.isd_ic_mou_6 + float_columns.isd_ic_mou_7)/2\n",
    "float_columns.loc[:,'roam_ic_mou_good_ph'] = (float_columns.roam_ic_mou_6 + float_columns.roam_ic_mou_7)/2\n",
    "float_columns.loc[:,'std_ic_t2m_mou_good_ph'] = (float_columns.std_ic_t2m_mou_6 + float_columns.std_ic_t2m_mou_7)/2\n",
    "float_columns.loc[:,'std_ic_t2t_mou_good_ph'] = (float_columns.std_ic_t2t_mou_6 + float_columns.std_ic_t2t_mou_7)/2\n",
    "float_columns.loc[:,'std_ic_t2f_mou_good_ph'] = (float_columns.std_ic_t2f_mou_6 + float_columns.std_ic_t2f_mou_7)/2\n",
    "float_columns.loc[:,'loc_ic_t2m_mou_good_ph'] = (float_columns.loc_ic_t2m_mou_6 + float_columns.loc_ic_t2m_mou_7)/2\n",
    "float_columns.loc[:,'loc_ic_t2t_mou_good_ph'] = (float_columns.loc_ic_t2t_mou_6 + float_columns.loc_ic_t2t_mou_7)/2\n",
    "float_columns.loc[:,'loc_ic_t2f_mou_good_ph'] = (float_columns.loc_ic_t2f_mou_6 + float_columns.loc_ic_t2f_mou_7)/2\n",
    "float_columns.loc[:,'offnet_mou_good_ph'] = (float_columns.offnet_mou_6 + float_columns.offnet_mou_7)/2\n",
    "float_columns.loc[:,'onnet_mou_good_ph'] = (float_columns.onnet_mou_6 + float_columns.onnet_mou_7)/2\n",
    "float_columns.loc[:,'og_others_good_ph'] = (float_columns.og_others_6 + float_columns.og_others_7)/2\n",
    "float_columns.loc[:,'ic_others_good_ph'] = (float_columns.ic_others_6 + float_columns.ic_others_7)/2\n",
    "float_columns.loc[:,'spl_og_mou_good_ph'] = (float_columns.spl_og_mou_6 + float_columns.spl_og_mou_7)/2\n",
    "float_columns.loc[:,'isd_og_mou_good_ph'] = (float_columns.isd_og_mou_6 + float_columns.isd_og_mou_7)/2\n",
    "float_columns.loc[:,'roam_og_mou_good_ph'] = (float_columns.roam_og_mou_6 + float_columns.roam_og_mou_7)/2\n",
    "float_columns.loc[:,'std_og_t2m_mou_good_ph'] = (float_columns.std_og_t2m_mou_6 + float_columns.std_og_t2m_mou_7)/2\n",
    "float_columns.loc[:,'std_og_t2t_mou_good_ph'] = (float_columns.std_og_t2t_mou_6 + float_columns.std_og_t2t_mou_7)/2\n",
    "float_columns.loc[:,'std_og_t2f_mou_good_ph'] = (float_columns.std_og_t2f_mou_6 + float_columns.std_og_t2f_mou_7)/2\n",
    "float_columns.loc[:,'loc_og_t2m_mou_good_ph'] = (float_columns.loc_og_t2m_mou_6 + float_columns.loc_og_t2m_mou_7)/2\n",
    "float_columns.loc[:,'loc_og_t2t_mou_good_ph'] = (float_columns.loc_og_t2t_mou_6 + float_columns.loc_og_t2t_mou_7)/2\n",
    "float_columns.loc[:,'loc_og_t2f_mou_good_ph'] = (float_columns.loc_og_t2f_mou_6 + float_columns.loc_og_t2f_mou_7)/2\n",
    "float_columns.loc[:,'loc_og_t2c_mou_good_ph'] = (float_columns.loc_og_t2c_mou_6 + float_columns.loc_og_t2c_mou_7)/2\n",
    "float_columns.loc[:,'total_ic_mou_good_ph'] = (float_columns.total_ic_mou_6 + float_columns.total_ic_mou_7)/2\n",
    "float_columns.loc[:,'total_og_mou_good_ph'] = (float_columns.total_og_mou_6 + float_columns.total_og_mou_7)/2\n",
    "float_columns.loc[:,'vbc_3g_good_ph'] = (float_columns.jun_vbc_3g + float_columns.jul_vbc_3g)/2\n",
    "float_columns.loc[:,'std_ic_mou_good_ph'] = (float_columns.std_ic_mou_6 + float_columns.std_ic_mou_7)/2\n",
    "float_columns.loc[:,'loc_ic_mou_good_ph'] = (float_columns.loc_ic_mou_6 + float_columns.loc_ic_mou_7)/2\n",
    "float_columns.loc[:,'std_og_mou_good_ph'] = (float_columns.std_og_mou_6 + float_columns.std_og_mou_7)/2\n",
    "float_columns.loc[:,'loc_og_mou_good_ph'] = (float_columns.loc_og_mou_6 + float_columns.loc_og_mou_7)/2\n",
    "float_columns.loc[:,'vol_2g_mb_good_ph'] = (float_columns.vol_2g_mb_6 + float_columns.vol_2g_mb_7)/2\n",
    "float_columns.loc[:,'vol_3g_mb_good_ph'] = (float_columns.vol_3g_mb_6 + float_columns.vol_3g_mb_7)/2\n"
   ]
  },
  {
   "cell_type": "markdown",
   "metadata": {},
   "source": [
    "##### Deriving Churner tags\n",
    "\n",
    "Tag churners and remove attributes of the churn phase: Now tag the churned customers (churn=1, else 0) based on the fourth month as follows: Those who have not made any calls (either incoming or outgoing) AND have not used mobile internet even once in the churn phase. The attributes you need to use to tag churners are:\n",
    "* total_ic_mou_9\n",
    "* total_og_mou_9\n",
    "* vol_2g_mb_9\n",
    "* vol_3g_mb_9\n",
    "\n",
    "After tagging churners, remove all the attributes corresponding to the churn phase (all attributes having ‘ _9’, etc. in their names)."
   ]
  },
  {
   "cell_type": "code",
   "execution_count": 341,
   "metadata": {},
   "outputs": [],
   "source": [
    "#Grouping  attributes needed to use to tag churners \n",
    "usage_cols=['total_ic_mou_9','total_og_mou_9','vol_2g_mb_9','vol_3g_mb_9']\n",
    "\n",
    "def churn_calc(row):\n",
    "    return 1 if (row['total_ic_mou_9']==0) & (row['total_og_mou_9']==0) & (row['vol_2g_mb_9']==0) & (row['vol_3g_mb_9']==0) else 0\n",
    "\n",
    "#Deriving Churner tags\n",
    "float_columns['churn']=float_columns[usage_cols].apply(churn_calc,axis=1)\n"
   ]
  },
  {
   "cell_type": "code",
   "execution_count": 342,
   "metadata": {},
   "outputs": [
    {
     "data": {
      "text/plain": [
       "0    89808\n",
       "1    10191\n",
       "Name: churn, dtype: int64"
      ]
     },
     "execution_count": 342,
     "metadata": {},
     "output_type": "execute_result"
    }
   ],
   "source": [
    "float_columns['churn'].value_counts()"
   ]
  },
  {
   "cell_type": "code",
   "execution_count": 343,
   "metadata": {},
   "outputs": [],
   "source": [
    "def phase_calc(row):\n",
    "    #calculate threshold based on normal distribution.\n",
    "    \n",
    "    #total_ic_mou_6\n",
    "    ic_std=np.std([row['total_ic_mou_6'],row['total_ic_mou_7']])\n",
    "    ic_mean=np.mean([row['total_ic_mou_6'],row['total_ic_mou_7']])\n",
    "    ic_threshold=ic_mean-ic_std\n",
    "    \n",
    "    #total_og_mou_6\n",
    "    og_std=np.std([row['total_og_mou_6'],row['total_og_mou_7']])\n",
    "    og_mean=np.mean([row['total_og_mou_6'],row['total_og_mou_7']])\n",
    "    og_threshold=og_mean-og_std\n",
    "    \n",
    "    #vol_2g_mb_6\n",
    "    two_g_std=np.std([row['vol_2g_mb_6'],row['vol_2g_mb_7']])\n",
    "    two_g_mean=np.mean([row['vol_2g_mb_6'],row['vol_2g_mb_7']])\n",
    "    two_g_threshold=two_g_mean-two_g_std\n",
    "    \n",
    "    #vol_3g_mb_6\n",
    "    three_g_std=np.std([row['vol_3g_mb_6'],row['vol_3g_mb_7']])\n",
    "    three_g_mean=np.mean([row['vol_3g_mb_6'],row['vol_3g_mb_7']])\n",
    "    three_g_threshold=three_g_mean-three_g_std\n",
    "    \n",
    "    if (row['total_ic_mou_8'] < ic_threshold) | (row['total_og_mou_8'] < og_threshold)\\\n",
    "        | (row['vol_2g_mb_8'] < two_g_threshold) | (row['vol_3g_mb_8'] < three_g_threshold):\n",
    "        return 1\n",
    "    else:\n",
    "        return 0\n",
    "\n",
    "float_columns['action_required']=float_columns.apply(phase_calc,axis=1)"
   ]
  },
  {
   "cell_type": "code",
   "execution_count": 344,
   "metadata": {},
   "outputs": [],
   "source": [
    "#Dropping the _9 suffix variables\n",
    "#Dropping the _6 and _7 suffix variables\n",
    "\n",
    "float_columns=float_columns.drop(['spl_ic_mou_6','isd_ic_mou_6','roam_ic_mou_6','std_ic_t2m_mou_6','std_ic_t2t_mou_6',\n",
    "                                  'std_ic_t2f_mou_6','loc_ic_t2m_mou_6','loc_ic_t2t_mou_6','loc_ic_t2f_mou_6',\n",
    "                                  'offnet_mou_6','onnet_mou_6','og_others_6','ic_others_7','spl_og_mou_6','isd_og_mou_6',\n",
    "                                  'roam_og_mou_6','std_og_t2m_mou_6','std_og_t2t_mou_6','std_og_t2f_mou_6',\n",
    "                                  'loc_og_t2m_mou_6','loc_og_t2t_mou_6','loc_og_t2f_mou_6','loc_og_t2c_mou_6',\n",
    "                                  'total_ic_mou_6','total_og_mou_6','spl_ic_mou_7','isd_ic_mou_7','roam_ic_mou_7',\n",
    "                                  'std_ic_t2m_mou_7','std_ic_t2t_mou_7','std_ic_t2f_mou_7','loc_ic_t2m_mou_7',\n",
    "                                  'loc_ic_t2t_mou_7','loc_ic_t2f_mou_7','offnet_mou_7','onnet_mou_7','og_others_7',\n",
    "                                  'ic_others_6','spl_og_mou_7','isd_og_mou_7','roam_og_mou_7','std_og_t2m_mou_7',\n",
    "                                  'std_og_t2t_mou_7','std_og_t2f_mou_7','loc_og_t2m_mou_7','loc_og_t2t_mou_7',\n",
    "                                  'loc_og_t2f_mou_7','loc_og_t2c_mou_7','total_ic_mou_7','total_og_mou_7','arpu_9', \n",
    "                                  'onnet_mou_9', 'offnet_mou_9', 'roam_ic_mou_9','roam_og_mou_9', 'loc_og_t2t_mou_9',\n",
    "                                  'loc_og_t2m_mou_9','loc_og_t2f_mou_9', 'loc_og_t2c_mou_9', 'loc_og_mou_9',\n",
    "                                  'std_og_t2t_mou_9', 'std_og_t2m_mou_9', 'std_og_t2f_mou_9','std_og_mou_9', 'isd_og_mou_9',\n",
    "                                  'spl_og_mou_9', 'og_others_9','total_og_mou_9', 'loc_ic_t2t_mou_9', 'loc_ic_t2m_mou_9',\n",
    "                                  'loc_ic_t2f_mou_9', 'loc_ic_mou_9', 'std_ic_t2t_mou_9','std_ic_t2m_mou_9', \n",
    "                                  'std_ic_t2f_mou_9', 'std_ic_mou_9','vol_2g_mb_6', 'vol_2g_mb_7','vol_3g_mb_6', 'vol_3g_mb_7',\n",
    "                                  'total_ic_mou_9', 'spl_ic_mou_9', 'isd_ic_mou_9', 'ic_others_9','vol_2g_mb_9', \n",
    "                                  'vol_3g_mb_9','arpu_6', 'arpu_7','std_ic_mou_6','std_ic_mou_7',\n",
    "                                  'loc_ic_mou_6','loc_ic_mou_7','std_og_mou_6','std_og_mou_7','loc_og_mou_6',\n",
    "                                  'loc_og_mou_7','jul_vbc_3g', 'jun_vbc_3g','sep_vbc_3g'],axis=1)"
   ]
  },
  {
   "cell_type": "code",
   "execution_count": 345,
   "metadata": {},
   "outputs": [
    {
     "data": {
      "text/plain": [
       "array(['arpu_8', 'onnet_mou_8', 'offnet_mou_8', 'roam_ic_mou_8',\n",
       "       'roam_og_mou_8', 'loc_og_t2t_mou_8', 'loc_og_t2m_mou_8',\n",
       "       'loc_og_t2f_mou_8', 'loc_og_t2c_mou_8', 'loc_og_mou_8',\n",
       "       'std_og_t2t_mou_8', 'std_og_t2m_mou_8', 'std_og_t2f_mou_8',\n",
       "       'std_og_mou_8', 'isd_og_mou_8', 'spl_og_mou_8', 'og_others_8',\n",
       "       'total_og_mou_8', 'loc_ic_t2t_mou_8', 'loc_ic_t2m_mou_8',\n",
       "       'loc_ic_t2f_mou_8', 'loc_ic_mou_8', 'std_ic_t2t_mou_8',\n",
       "       'std_ic_t2m_mou_8', 'std_ic_t2f_mou_8', 'std_ic_mou_8',\n",
       "       'total_ic_mou_8', 'spl_ic_mou_8', 'isd_ic_mou_8', 'ic_others_8',\n",
       "       'vol_2g_mb_8', 'vol_3g_mb_8', 'aug_vbc_3g', 'arpu_good_ph',\n",
       "       'spl_ic_mou_good_ph', 'isd_ic_mou_good_ph', 'roam_ic_mou_good_ph',\n",
       "       'std_ic_t2m_mou_good_ph', 'std_ic_t2t_mou_good_ph',\n",
       "       'std_ic_t2f_mou_good_ph', 'loc_ic_t2m_mou_good_ph',\n",
       "       'loc_ic_t2t_mou_good_ph', 'loc_ic_t2f_mou_good_ph',\n",
       "       'offnet_mou_good_ph', 'onnet_mou_good_ph', 'og_others_good_ph',\n",
       "       'ic_others_good_ph', 'spl_og_mou_good_ph', 'isd_og_mou_good_ph',\n",
       "       'roam_og_mou_good_ph', 'std_og_t2m_mou_good_ph',\n",
       "       'std_og_t2t_mou_good_ph', 'std_og_t2f_mou_good_ph',\n",
       "       'loc_og_t2m_mou_good_ph', 'loc_og_t2t_mou_good_ph',\n",
       "       'loc_og_t2f_mou_good_ph', 'loc_og_t2c_mou_good_ph',\n",
       "       'total_ic_mou_good_ph', 'total_og_mou_good_ph', 'vbc_3g_good_ph',\n",
       "       'std_ic_mou_good_ph', 'loc_ic_mou_good_ph', 'std_og_mou_good_ph',\n",
       "       'loc_og_mou_good_ph', 'vol_2g_mb_good_ph', 'vol_3g_mb_good_ph',\n",
       "       'churn', 'action_required'], dtype=object)"
      ]
     },
     "execution_count": 345,
     "metadata": {},
     "output_type": "execute_result"
    }
   ],
   "source": [
    "#Final float_columns\n",
    "\n",
    "float_columns.columns.values"
   ]
  },
  {
   "cell_type": "markdown",
   "metadata": {},
   "source": [
    "### Step 4: Concatinating the three data frames to create Master data frame"
   ]
  },
  {
   "cell_type": "code",
   "execution_count": 346,
   "metadata": {},
   "outputs": [],
   "source": [
    "merge_frame= pd.concat([int_columns,date_columns], axis=1)"
   ]
  },
  {
   "cell_type": "code",
   "execution_count": 347,
   "metadata": {},
   "outputs": [],
   "source": [
    "master_frame= pd.concat([merge_frame,float_columns], axis=1)"
   ]
  },
  {
   "cell_type": "code",
   "execution_count": 348,
   "metadata": {},
   "outputs": [
    {
     "data": {
      "text/plain": [
       "array(['mobile_number', 'total_rech_num_8', 'total_rech_amt_8',\n",
       "       'max_rech_amt_8', 'last_day_rch_amt_8', 'monthly_2g_8',\n",
       "       'sachet_2g_8', 'monthly_3g_8', 'sachet_3g_8', 'aon_years',\n",
       "       'sachet_2g_good_ph', 'sachet_3g_good_ph', 'monthly_2g_good_ph',\n",
       "       'monthly_3g_good_ph', 'max_rech_amt_good_ph',\n",
       "       'total_rech_num_good_ph', 'tot_rech_amt_good_ph',\n",
       "       'last_day_rch_amt_good_ph', 'day_of_last_rech_6',\n",
       "       'day_of_last_rech_7', 'day_of_last_rech_8', 'arpu_8',\n",
       "       'onnet_mou_8', 'offnet_mou_8', 'roam_ic_mou_8', 'roam_og_mou_8',\n",
       "       'loc_og_t2t_mou_8', 'loc_og_t2m_mou_8', 'loc_og_t2f_mou_8',\n",
       "       'loc_og_t2c_mou_8', 'loc_og_mou_8', 'std_og_t2t_mou_8',\n",
       "       'std_og_t2m_mou_8', 'std_og_t2f_mou_8', 'std_og_mou_8',\n",
       "       'isd_og_mou_8', 'spl_og_mou_8', 'og_others_8', 'total_og_mou_8',\n",
       "       'loc_ic_t2t_mou_8', 'loc_ic_t2m_mou_8', 'loc_ic_t2f_mou_8',\n",
       "       'loc_ic_mou_8', 'std_ic_t2t_mou_8', 'std_ic_t2m_mou_8',\n",
       "       'std_ic_t2f_mou_8', 'std_ic_mou_8', 'total_ic_mou_8',\n",
       "       'spl_ic_mou_8', 'isd_ic_mou_8', 'ic_others_8', 'vol_2g_mb_8',\n",
       "       'vol_3g_mb_8', 'aug_vbc_3g', 'arpu_good_ph', 'spl_ic_mou_good_ph',\n",
       "       'isd_ic_mou_good_ph', 'roam_ic_mou_good_ph',\n",
       "       'std_ic_t2m_mou_good_ph', 'std_ic_t2t_mou_good_ph',\n",
       "       'std_ic_t2f_mou_good_ph', 'loc_ic_t2m_mou_good_ph',\n",
       "       'loc_ic_t2t_mou_good_ph', 'loc_ic_t2f_mou_good_ph',\n",
       "       'offnet_mou_good_ph', 'onnet_mou_good_ph', 'og_others_good_ph',\n",
       "       'ic_others_good_ph', 'spl_og_mou_good_ph', 'isd_og_mou_good_ph',\n",
       "       'roam_og_mou_good_ph', 'std_og_t2m_mou_good_ph',\n",
       "       'std_og_t2t_mou_good_ph', 'std_og_t2f_mou_good_ph',\n",
       "       'loc_og_t2m_mou_good_ph', 'loc_og_t2t_mou_good_ph',\n",
       "       'loc_og_t2f_mou_good_ph', 'loc_og_t2c_mou_good_ph',\n",
       "       'total_ic_mou_good_ph', 'total_og_mou_good_ph', 'vbc_3g_good_ph',\n",
       "       'std_ic_mou_good_ph', 'loc_ic_mou_good_ph', 'std_og_mou_good_ph',\n",
       "       'loc_og_mou_good_ph', 'vol_2g_mb_good_ph', 'vol_3g_mb_good_ph',\n",
       "       'churn', 'action_required'], dtype=object)"
      ]
     },
     "execution_count": 348,
     "metadata": {},
     "output_type": "execute_result"
    }
   ],
   "source": [
    "master_frame.columns.values"
   ]
  },
  {
   "cell_type": "code",
   "execution_count": 349,
   "metadata": {},
   "outputs": [
    {
     "name": "stdout",
     "output_type": "stream",
     "text": [
      "(99999, 89)\n",
      "<class 'pandas.core.frame.DataFrame'>\n",
      "RangeIndex: 99999 entries, 0 to 99998\n",
      "Data columns (total 89 columns):\n",
      "mobile_number               99999 non-null int64\n",
      "total_rech_num_8            99999 non-null int64\n",
      "total_rech_amt_8            99999 non-null int64\n",
      "max_rech_amt_8              99999 non-null int64\n",
      "last_day_rch_amt_8          99999 non-null int64\n",
      "monthly_2g_8                99999 non-null int64\n",
      "sachet_2g_8                 99999 non-null int64\n",
      "monthly_3g_8                99999 non-null int64\n",
      "sachet_3g_8                 99999 non-null int64\n",
      "aon_years                   99999 non-null int32\n",
      "sachet_2g_good_ph           99999 non-null float64\n",
      "sachet_3g_good_ph           99999 non-null float64\n",
      "monthly_2g_good_ph          99999 non-null float64\n",
      "monthly_3g_good_ph          99999 non-null float64\n",
      "max_rech_amt_good_ph        99999 non-null float64\n",
      "total_rech_num_good_ph      99999 non-null float64\n",
      "tot_rech_amt_good_ph        99999 non-null float64\n",
      "last_day_rch_amt_good_ph    99999 non-null float64\n",
      "day_of_last_rech_6          99999 non-null object\n",
      "day_of_last_rech_7          99999 non-null object\n",
      "day_of_last_rech_8          99999 non-null object\n",
      "arpu_8                      99999 non-null float64\n",
      "onnet_mou_8                 99999 non-null float64\n",
      "offnet_mou_8                99999 non-null float64\n",
      "roam_ic_mou_8               99999 non-null float64\n",
      "roam_og_mou_8               99999 non-null float64\n",
      "loc_og_t2t_mou_8            99999 non-null float64\n",
      "loc_og_t2m_mou_8            99999 non-null float64\n",
      "loc_og_t2f_mou_8            99999 non-null float64\n",
      "loc_og_t2c_mou_8            99999 non-null float64\n",
      "loc_og_mou_8                99999 non-null float64\n",
      "std_og_t2t_mou_8            99999 non-null float64\n",
      "std_og_t2m_mou_8            99999 non-null float64\n",
      "std_og_t2f_mou_8            99999 non-null float64\n",
      "std_og_mou_8                99999 non-null float64\n",
      "isd_og_mou_8                99999 non-null float64\n",
      "spl_og_mou_8                99999 non-null float64\n",
      "og_others_8                 99999 non-null float64\n",
      "total_og_mou_8              99999 non-null float64\n",
      "loc_ic_t2t_mou_8            99999 non-null float64\n",
      "loc_ic_t2m_mou_8            99999 non-null float64\n",
      "loc_ic_t2f_mou_8            99999 non-null float64\n",
      "loc_ic_mou_8                99999 non-null float64\n",
      "std_ic_t2t_mou_8            99999 non-null float64\n",
      "std_ic_t2m_mou_8            99999 non-null float64\n",
      "std_ic_t2f_mou_8            99999 non-null float64\n",
      "std_ic_mou_8                99999 non-null float64\n",
      "total_ic_mou_8              99999 non-null float64\n",
      "spl_ic_mou_8                99999 non-null float64\n",
      "isd_ic_mou_8                99999 non-null float64\n",
      "ic_others_8                 99999 non-null float64\n",
      "vol_2g_mb_8                 99999 non-null float64\n",
      "vol_3g_mb_8                 99999 non-null float64\n",
      "aug_vbc_3g                  99999 non-null float64\n",
      "arpu_good_ph                99999 non-null float64\n",
      "spl_ic_mou_good_ph          99999 non-null float64\n",
      "isd_ic_mou_good_ph          99999 non-null float64\n",
      "roam_ic_mou_good_ph         99999 non-null float64\n",
      "std_ic_t2m_mou_good_ph      99999 non-null float64\n",
      "std_ic_t2t_mou_good_ph      99999 non-null float64\n",
      "std_ic_t2f_mou_good_ph      99999 non-null float64\n",
      "loc_ic_t2m_mou_good_ph      99999 non-null float64\n",
      "loc_ic_t2t_mou_good_ph      99999 non-null float64\n",
      "loc_ic_t2f_mou_good_ph      99999 non-null float64\n",
      "offnet_mou_good_ph          99999 non-null float64\n",
      "onnet_mou_good_ph           99999 non-null float64\n",
      "og_others_good_ph           99999 non-null float64\n",
      "ic_others_good_ph           99999 non-null float64\n",
      "spl_og_mou_good_ph          99999 non-null float64\n",
      "isd_og_mou_good_ph          99999 non-null float64\n",
      "roam_og_mou_good_ph         99999 non-null float64\n",
      "std_og_t2m_mou_good_ph      99999 non-null float64\n",
      "std_og_t2t_mou_good_ph      99999 non-null float64\n",
      "std_og_t2f_mou_good_ph      99999 non-null float64\n",
      "loc_og_t2m_mou_good_ph      99999 non-null float64\n",
      "loc_og_t2t_mou_good_ph      99999 non-null float64\n",
      "loc_og_t2f_mou_good_ph      99999 non-null float64\n",
      "loc_og_t2c_mou_good_ph      99999 non-null float64\n",
      "total_ic_mou_good_ph        99999 non-null float64\n",
      "total_og_mou_good_ph        99999 non-null float64\n",
      "vbc_3g_good_ph              99999 non-null float64\n",
      "std_ic_mou_good_ph          99999 non-null float64\n",
      "loc_ic_mou_good_ph          99999 non-null float64\n",
      "std_og_mou_good_ph          99999 non-null float64\n",
      "loc_og_mou_good_ph          99999 non-null float64\n",
      "vol_2g_mb_good_ph           99999 non-null float64\n",
      "vol_3g_mb_good_ph           99999 non-null float64\n",
      "churn                       99999 non-null int64\n",
      "action_required             99999 non-null int64\n",
      "dtypes: float64(74), int32(1), int64(11), object(3)\n",
      "memory usage: 67.5+ MB\n",
      "None\n"
     ]
    }
   ],
   "source": [
    "print(master_frame.shape)\n",
    "print(master_frame.info())"
   ]
  },
  {
   "cell_type": "markdown",
   "metadata": {},
   "source": [
    "### Deriving High Value Customers(HVC)"
   ]
  },
  {
   "cell_type": "code",
   "execution_count": 350,
   "metadata": {},
   "outputs": [],
   "source": [
    "threshold_value=master_frame['tot_rech_amt_good_ph'].quantile(.70)\n",
    "master_frame['high_value_customer']=master_frame['tot_rech_amt_good_ph'].apply(lambda x: True if x==True else ( True if x > threshold_value else False))"
   ]
  },
  {
   "cell_type": "code",
   "execution_count": 351,
   "metadata": {},
   "outputs": [
    {
     "data": {
      "text/plain": [
       "False    70020\n",
       "True     29979\n",
       "Name: high_value_customer, dtype: int64"
      ]
     },
     "execution_count": 351,
     "metadata": {},
     "output_type": "execute_result"
    }
   ],
   "source": [
    "master_frame['high_value_customer'].value_counts()"
   ]
  },
  {
   "cell_type": "code",
   "execution_count": 352,
   "metadata": {},
   "outputs": [
    {
     "data": {
      "text/plain": [
       "0    89808\n",
       "1    10191\n",
       "Name: churn, dtype: int64"
      ]
     },
     "execution_count": 352,
     "metadata": {},
     "output_type": "execute_result"
    }
   ],
   "source": [
    "master_frame['churn'].value_counts()"
   ]
  },
  {
   "cell_type": "markdown",
   "metadata": {},
   "source": [
    "### Filtering HVC data from master_frame "
   ]
  },
  {
   "cell_type": "code",
   "execution_count": 353,
   "metadata": {},
   "outputs": [],
   "source": [
    "master_frame_HVC=master_frame[master_frame['high_value_customer']==True]"
   ]
  },
  {
   "cell_type": "code",
   "execution_count": 354,
   "metadata": {},
   "outputs": [
    {
     "data": {
      "text/plain": [
       "(29979, 90)"
      ]
     },
     "execution_count": 354,
     "metadata": {},
     "output_type": "execute_result"
    }
   ],
   "source": [
    "master_frame_HVC.shape"
   ]
  },
  {
   "cell_type": "code",
   "execution_count": 355,
   "metadata": {},
   "outputs": [],
   "source": [
    "#master_frame_HVC=master_frame_HVC.set_index('mobile_number',drop=True)"
   ]
  },
  {
   "cell_type": "code",
   "execution_count": 356,
   "metadata": {},
   "outputs": [
    {
     "data": {
      "text/html": [
       "<div>\n",
       "<style scoped>\n",
       "    .dataframe tbody tr th:only-of-type {\n",
       "        vertical-align: middle;\n",
       "    }\n",
       "\n",
       "    .dataframe tbody tr th {\n",
       "        vertical-align: top;\n",
       "    }\n",
       "\n",
       "    .dataframe thead th {\n",
       "        text-align: right;\n",
       "    }\n",
       "</style>\n",
       "<table border=\"1\" class=\"dataframe\">\n",
       "  <thead>\n",
       "    <tr style=\"text-align: right;\">\n",
       "      <th></th>\n",
       "      <th>mobile_number</th>\n",
       "      <th>total_rech_num_8</th>\n",
       "      <th>total_rech_amt_8</th>\n",
       "      <th>max_rech_amt_8</th>\n",
       "      <th>last_day_rch_amt_8</th>\n",
       "      <th>monthly_2g_8</th>\n",
       "      <th>sachet_2g_8</th>\n",
       "      <th>monthly_3g_8</th>\n",
       "      <th>sachet_3g_8</th>\n",
       "      <th>aon_years</th>\n",
       "      <th>...</th>\n",
       "      <th>vbc_3g_good_ph</th>\n",
       "      <th>std_ic_mou_good_ph</th>\n",
       "      <th>loc_ic_mou_good_ph</th>\n",
       "      <th>std_og_mou_good_ph</th>\n",
       "      <th>loc_og_mou_good_ph</th>\n",
       "      <th>vol_2g_mb_good_ph</th>\n",
       "      <th>vol_3g_mb_good_ph</th>\n",
       "      <th>churn</th>\n",
       "      <th>action_required</th>\n",
       "      <th>high_value_customer</th>\n",
       "    </tr>\n",
       "  </thead>\n",
       "  <tbody>\n",
       "    <tr>\n",
       "      <th>7</th>\n",
       "      <td>7000701601</td>\n",
       "      <td>7</td>\n",
       "      <td>3638</td>\n",
       "      <td>1580</td>\n",
       "      <td>779</td>\n",
       "      <td>0</td>\n",
       "      <td>0</td>\n",
       "      <td>0</td>\n",
       "      <td>0</td>\n",
       "      <td>2</td>\n",
       "      <td>...</td>\n",
       "      <td>19.060</td>\n",
       "      <td>176.810</td>\n",
       "      <td>391.555</td>\n",
       "      <td>68.000</td>\n",
       "      <td>478.035</td>\n",
       "      <td>0.0</td>\n",
       "      <td>0.000</td>\n",
       "      <td>1</td>\n",
       "      <td>1</td>\n",
       "      <td>True</td>\n",
       "    </tr>\n",
       "    <tr>\n",
       "      <th>8</th>\n",
       "      <td>7001524846</td>\n",
       "      <td>14</td>\n",
       "      <td>120</td>\n",
       "      <td>30</td>\n",
       "      <td>10</td>\n",
       "      <td>0</td>\n",
       "      <td>3</td>\n",
       "      <td>0</td>\n",
       "      <td>0</td>\n",
       "      <td>0</td>\n",
       "      <td>...</td>\n",
       "      <td>516.405</td>\n",
       "      <td>13.545</td>\n",
       "      <td>52.630</td>\n",
       "      <td>136.870</td>\n",
       "      <td>333.135</td>\n",
       "      <td>178.0</td>\n",
       "      <td>375.475</td>\n",
       "      <td>0</td>\n",
       "      <td>1</td>\n",
       "      <td>True</td>\n",
       "    </tr>\n",
       "    <tr>\n",
       "      <th>13</th>\n",
       "      <td>7002191713</td>\n",
       "      <td>11</td>\n",
       "      <td>717</td>\n",
       "      <td>130</td>\n",
       "      <td>0</td>\n",
       "      <td>0</td>\n",
       "      <td>3</td>\n",
       "      <td>0</td>\n",
       "      <td>0</td>\n",
       "      <td>7</td>\n",
       "      <td>...</td>\n",
       "      <td>0.000</td>\n",
       "      <td>245.950</td>\n",
       "      <td>120.845</td>\n",
       "      <td>420.355</td>\n",
       "      <td>129.395</td>\n",
       "      <td>0.0</td>\n",
       "      <td>0.000</td>\n",
       "      <td>0</td>\n",
       "      <td>0</td>\n",
       "      <td>True</td>\n",
       "    </tr>\n",
       "    <tr>\n",
       "      <th>16</th>\n",
       "      <td>7000875565</td>\n",
       "      <td>2</td>\n",
       "      <td>160</td>\n",
       "      <td>130</td>\n",
       "      <td>130</td>\n",
       "      <td>0</td>\n",
       "      <td>0</td>\n",
       "      <td>0</td>\n",
       "      <td>0</td>\n",
       "      <td>1</td>\n",
       "      <td>...</td>\n",
       "      <td>12.170</td>\n",
       "      <td>119.860</td>\n",
       "      <td>253.345</td>\n",
       "      <td>48.990</td>\n",
       "      <td>265.775</td>\n",
       "      <td>0.0</td>\n",
       "      <td>0.000</td>\n",
       "      <td>0</td>\n",
       "      <td>1</td>\n",
       "      <td>True</td>\n",
       "    </tr>\n",
       "    <tr>\n",
       "      <th>17</th>\n",
       "      <td>7000187447</td>\n",
       "      <td>4</td>\n",
       "      <td>30</td>\n",
       "      <td>30</td>\n",
       "      <td>0</td>\n",
       "      <td>0</td>\n",
       "      <td>0</td>\n",
       "      <td>0</td>\n",
       "      <td>0</td>\n",
       "      <td>1</td>\n",
       "      <td>...</td>\n",
       "      <td>0.000</td>\n",
       "      <td>4.955</td>\n",
       "      <td>42.135</td>\n",
       "      <td>574.635</td>\n",
       "      <td>48.770</td>\n",
       "      <td>0.0</td>\n",
       "      <td>0.000</td>\n",
       "      <td>0</td>\n",
       "      <td>1</td>\n",
       "      <td>True</td>\n",
       "    </tr>\n",
       "  </tbody>\n",
       "</table>\n",
       "<p>5 rows × 90 columns</p>\n",
       "</div>"
      ],
      "text/plain": [
       "    mobile_number  total_rech_num_8  total_rech_amt_8  max_rech_amt_8  \\\n",
       "7      7000701601                 7              3638            1580   \n",
       "8      7001524846                14               120              30   \n",
       "13     7002191713                11               717             130   \n",
       "16     7000875565                 2               160             130   \n",
       "17     7000187447                 4                30              30   \n",
       "\n",
       "    last_day_rch_amt_8  monthly_2g_8  sachet_2g_8  monthly_3g_8  sachet_3g_8  \\\n",
       "7                  779             0            0             0            0   \n",
       "8                   10             0            3             0            0   \n",
       "13                   0             0            3             0            0   \n",
       "16                 130             0            0             0            0   \n",
       "17                   0             0            0             0            0   \n",
       "\n",
       "    aon_years  ...  vbc_3g_good_ph  std_ic_mou_good_ph  loc_ic_mou_good_ph  \\\n",
       "7           2  ...          19.060             176.810             391.555   \n",
       "8           0  ...         516.405              13.545              52.630   \n",
       "13          7  ...           0.000             245.950             120.845   \n",
       "16          1  ...          12.170             119.860             253.345   \n",
       "17          1  ...           0.000               4.955              42.135   \n",
       "\n",
       "    std_og_mou_good_ph  loc_og_mou_good_ph  vol_2g_mb_good_ph  \\\n",
       "7               68.000             478.035                0.0   \n",
       "8              136.870             333.135              178.0   \n",
       "13             420.355             129.395                0.0   \n",
       "16              48.990             265.775                0.0   \n",
       "17             574.635              48.770                0.0   \n",
       "\n",
       "    vol_3g_mb_good_ph  churn action_required high_value_customer  \n",
       "7               0.000      1               1                True  \n",
       "8             375.475      0               1                True  \n",
       "13              0.000      0               0                True  \n",
       "16              0.000      0               1                True  \n",
       "17              0.000      0               1                True  \n",
       "\n",
       "[5 rows x 90 columns]"
      ]
     },
     "execution_count": 356,
     "metadata": {},
     "output_type": "execute_result"
    }
   ],
   "source": [
    "master_frame_HVC.head()"
   ]
  },
  {
   "cell_type": "code",
   "execution_count": 357,
   "metadata": {},
   "outputs": [
    {
     "data": {
      "text/plain": [
       "array(['high_value_customer'], dtype=object)"
      ]
     },
     "execution_count": 357,
     "metadata": {},
     "output_type": "execute_result"
    }
   ],
   "source": [
    "# Checking for zero variance columns\n",
    "master_frame_HVC.std()[master_frame_HVC.std()==0].index.values"
   ]
  },
  {
   "cell_type": "code",
   "execution_count": 358,
   "metadata": {},
   "outputs": [
    {
     "data": {
      "text/plain": [
       "0    27390\n",
       "1     2589\n",
       "Name: churn, dtype: int64"
      ]
     },
     "execution_count": 358,
     "metadata": {},
     "output_type": "execute_result"
    }
   ],
   "source": [
    "#Churn counts for HVC customers\n",
    "master_frame_HVC['churn'].value_counts()"
   ]
  },
  {
   "cell_type": "markdown",
   "metadata": {},
   "source": [
    "### Step 5: EDA and univariate analysis"
   ]
  },
  {
   "cell_type": "code",
   "execution_count": 359,
   "metadata": {},
   "outputs": [
    {
     "name": "stdout",
     "output_type": "stream",
     "text": [
      "(0    91.363955\n",
      "1     8.636045\n",
      "Name: churn, dtype: float64, 2)\n"
     ]
    },
    {
     "data": {
      "text/plain": [
       "Text(0.5, 1.0, 'Non_Churn rate Vs churn rate')"
      ]
     },
     "execution_count": 359,
     "metadata": {},
     "output_type": "execute_result"
    },
    {
     "data": {
      "image/png": "[encoded data removed]",
      "text/plain": [
       "<Figure size 432x288 with 1 Axes>"
      ]
     },
     "metadata": {
      "needs_background": "light"
     },
     "output_type": "display_data"
    }
   ],
   "source": [
    "churn_percentage=(master_frame_HVC['churn'].value_counts()*100.0 /len(master_frame_HVC)),2\n",
    "print(churn_percentage)\n",
    "\n",
    "#churn_rate_graph = (master_frame_HVC['churn'].value_counts()*100.0 /len(master_frame_HVC)).plot(kind='bar',stacked = True,rot = 0,figsize = (8,6))                                                                                                                                                 \n",
    "#churn_rate_graph.set_ylabel('% Customers',size = 14)\n",
    "#churn_rate_graph.set_xlabel('Non_Churn Vs churn',size = 14)\n",
    "#churn_rate_graph.set_title('churn Rate', size = 14)\n",
    "\n",
    "sns.barplot(x=\"churn\", y=\"churn\", data=master_frame_HVC, estimator=lambda x: len(x) / len(master_frame_HVC) * 100)\n",
    "plt.title(\"Non_Churn rate Vs churn rate\")"
   ]
  },
  {
   "cell_type": "code",
   "execution_count": 360,
   "metadata": {},
   "outputs": [
    {
     "name": "stdout",
     "output_type": "stream",
     "text": [
      "           churn  high_value_customer\n",
      "aon_years                            \n",
      "0            672               4853.0\n",
      "1            818               7616.0\n",
      "2            504               4661.0\n",
      "3            197               3044.0\n",
      "4            110               1980.0\n",
      "5             51               1251.0\n",
      "6             78               2069.0\n",
      "7             73               1826.0\n",
      "8             53               1523.0\n",
      "9             19                572.0\n",
      "10            14                556.0\n",
      "11             0                 28.0\n"
     ]
    },
    {
     "data": {
      "text/plain": [
       "Text(0.5, 1.0, 'Churn count based on age on network')"
      ]
     },
     "execution_count": 360,
     "metadata": {},
     "output_type": "execute_result"
    },
    {
     "data": {
      "image/png": "[encoded data removed]",
      "text/plain": [
       "<Figure size 432x288 with 1 Axes>"
      ]
     },
     "metadata": {
      "needs_background": "light"
     },
     "output_type": "display_data"
    }
   ],
   "source": [
    "#Churn comparisions on other columns\n",
    "#sns.boxplot(x=df.churn, y=\"aon_years\", data=df)\n",
    "#plt.title(\"Churn stats based on age on network\")\n",
    "aon_churn_hvc_counts=master_frame_HVC.pivot_table(index=['aon_years'],values=['high_value_customer','churn'], aggfunc='sum')\n",
    "print(aon_churn_hvc_counts)\n",
    "\n",
    "#plt.subplot(1,1, 1)\n",
    "usa=sns.barplot(x=aon_churn_hvc_counts.index, y=\"churn\", data=aon_churn_hvc_counts)\n",
    "plt.title(\"Churn count based on age on network\")\n"
   ]
  },
  {
   "cell_type": "code",
   "execution_count": 361,
   "metadata": {},
   "outputs": [
    {
     "data": {
      "text/plain": [
       "Text(0.5, 1.0, 'Churn stats based on arpu in August')"
      ]
     },
     "execution_count": 361,
     "metadata": {},
     "output_type": "execute_result"
    },
    {
     "data": {
      "image/png": "[encoded data removed]",
      "text/plain": [
       "<Figure size 432x288 with 1 Axes>"
      ]
     },
     "metadata": {
      "needs_background": "light"
     },
     "output_type": "display_data"
    },
    {
     "data": {
      "image/png": "[encoded data removed]",
      "text/plain": [
       "<Figure size 432x288 with 1 Axes>"
      ]
     },
     "metadata": {
      "needs_background": "light"
     },
     "output_type": "display_data"
    }
   ],
   "source": [
    "#Churn stats based on monthly ARPU\n",
    "plt.figure(1)\n",
    "plt.subplot(1,1, 1)\n",
    "sns.boxplot(x=master_frame_HVC.churn, y=\"arpu_good_ph\", data=master_frame_HVC, showfliers=False)\n",
    "plt.title(\"Churn stats based on arpu in good phase\")\n",
    "\n",
    "plt.figure(2)\n",
    "plt.subplot(1, 2, 2)\n",
    "sns.boxplot(x=master_frame_HVC.churn, y=\"arpu_8\", data=master_frame_HVC, showfliers=False)\n",
    "plt.title(\"Churn stats based on arpu in August\")\n",
    "\n"
   ]
  },
  {
   "cell_type": "code",
   "execution_count": 362,
   "metadata": {},
   "outputs": [
    {
     "data": {
      "text/plain": [
       "Text(0.5, 1.0, 'Churn stats based on total recharge in August')"
      ]
     },
     "execution_count": 362,
     "metadata": {},
     "output_type": "execute_result"
    },
    {
     "data": {
      "image/png": "[encoded data removed]",
      "text/plain": [
       "<Figure size 432x288 with 1 Axes>"
      ]
     },
     "metadata": {
      "needs_background": "light"
     },
     "output_type": "display_data"
    },
    {
     "data": {
      "image/png": "[encoded data removed]",
      "text/plain": [
       "<Figure size 432x288 with 1 Axes>"
      ]
     },
     "metadata": {
      "needs_background": "light"
     },
     "output_type": "display_data"
    }
   ],
   "source": [
    "#Churn stats based on monthly Total recharge\n",
    "plt.figure(1)\n",
    "plt.subplot(1,1, 1)\n",
    "sns.boxplot(x=master_frame_HVC.churn, y=\"tot_rech_amt_good_ph\", data=master_frame_HVC, showfliers=False)\n",
    "plt.title(\"Churn stats based on total recharge in good phase\")\n",
    "\n",
    "plt.figure(2)\n",
    "plt.subplot(1, 2, 2)\n",
    "sns.boxplot(x=master_frame_HVC.churn, y=\"total_rech_amt_8\", data=master_frame_HVC, showfliers=False)\n",
    "plt.title(\"Churn stats based on total recharge in August\")\n"
   ]
  },
  {
   "cell_type": "code",
   "execution_count": 403,
   "metadata": {},
   "outputs": [
    {
     "data": {
      "text/plain": [
       "Text(0.5, 1.0, 'Churn stats based on day of last recharge in August')"
      ]
     },
     "execution_count": 403,
     "metadata": {},
     "output_type": "execute_result"
    },
    {
     "data": {
      "image/png": "[encoded data removed]",
      "text/plain": [
       "<Figure size 360x360 with 1 Axes>"
      ]
     },
     "metadata": {
      "needs_background": "light"
     },
     "output_type": "display_data"
    },
    {
     "data": {
      "image/png": "[encoded data removed]",
      "text/plain": [
       "<Figure size 360x360 with 1 Axes>"
      ]
     },
     "metadata": {
      "needs_background": "light"
     },
     "output_type": "display_data"
    },
    {
     "data": {
      "image/png": "[encoded data removed]",
      "text/plain": [
       "<Figure size 360x360 with 1 Axes>"
      ]
     },
     "metadata": {
      "needs_background": "light"
     },
     "output_type": "display_data"
    }
   ],
   "source": [
    "#Churn stats based on day of last recharge\n",
    "\n",
    "last_day_rech_hvc_count_6=master_frame_HVC.pivot_table(index=['day_of_last_rech_6'],values=['high_value_customer','churn'], aggfunc='sum')\n",
    "last_day_rech_hvc_count_7=master_frame_HVC.pivot_table(index=['day_of_last_rech_7'],values=['high_value_customer','churn'], aggfunc='sum')\n",
    "last_day_rech_hvc_count_8=master_frame_HVC.pivot_table(index=['day_of_last_rech_8'],values=['high_value_customer','churn'], aggfunc='sum')\n",
    "\n",
    "plt.figure(1)\n",
    "plt.rcParams['figure.figsize']=(5,5)\n",
    "plt.subplot(1,1, 1)\n",
    "sns.lineplot(x=last_day_rech_hvc_count_6.index, y=\"churn\", data=last_day_rech_hvc_count_6, )\n",
    "plt.title(\"Churn stats based on day of last recharge in June\")\n",
    "\n",
    "plt.figure(2)\n",
    "plt.rcParams['figure.figsize']=(5,5)\n",
    "plt.subplot(1,1, 1)\n",
    "sns.lineplot(x=last_day_rech_hvc_count_7.index, y=\"churn\", data=last_day_rech_hvc_count_7)\n",
    "plt.title(\"Churn stats based on day of last recharge in July\")\n",
    "\n",
    "plt.figure(3)\n",
    "plt.rcParams['figure.figsize']=(5,5)\n",
    "#plt.subplot(1,1, 1)\n",
    "sns.lineplot(x=last_day_rech_hvc_count_8.index, y=\"churn\", data=last_day_rech_hvc_count_8)\n",
    "plt.title(\"Churn stats based on day of last recharge in August\")"
   ]
  },
  {
   "cell_type": "code",
   "execution_count": null,
   "metadata": {},
   "outputs": [],
   "source": []
  },
  {
   "cell_type": "markdown",
   "metadata": {},
   "source": [
    "## Conclusions of univariate analysis\n",
    "\n",
    "### 1. Churn rate is the highest for customers who are less thean 3 years with the operator.\n",
    "### 2. The max revenue for churn customer is below the average revenue for non churn customer.\n",
    "### 3. The max total recharge for churn customer is below the total recharge for non churn customer."
   ]
  },
  {
   "cell_type": "code",
   "execution_count": 363,
   "metadata": {},
   "outputs": [],
   "source": [
    "# Search Column name using string\n",
    "#search = [col for col in df.columns if 'high' in col]\n",
    "#search"
   ]
  },
  {
   "cell_type": "code",
   "execution_count": null,
   "metadata": {},
   "outputs": [],
   "source": []
  },
  {
   "cell_type": "code",
   "execution_count": null,
   "metadata": {},
   "outputs": [],
   "source": []
  },
  {
   "cell_type": "code",
   "execution_count": null,
   "metadata": {},
   "outputs": [],
   "source": []
  },
  {
   "cell_type": "markdown",
   "metadata": {},
   "source": [
    "## Test-Train Split"
   ]
  },
  {
   "cell_type": "code",
   "execution_count": 404,
   "metadata": {},
   "outputs": [
    {
     "data": {
      "text/plain": [
       "7     1\n",
       "8     0\n",
       "13    0\n",
       "16    0\n",
       "17    0\n",
       "Name: churn, dtype: int64"
      ]
     },
     "execution_count": 404,
     "metadata": {},
     "output_type": "execute_result"
    }
   ],
   "source": [
    "from sklearn.model_selection import train_test_split\n",
    "\n",
    "# Putting feature variable to X\n",
    "X = master_frame_HVC.drop(['churn','mobile_number'],axis=1)\n",
    "\n",
    "# Putting response variable to y\n",
    "y = master_frame_HVC['churn']\n",
    "\n",
    "y.head()"
   ]
  },
  {
   "cell_type": "code",
   "execution_count": 405,
   "metadata": {},
   "outputs": [],
   "source": [
    "# Splitting the data into train and test\n",
    "X_train, X_test, y_train, y_test = train_test_split(X,y, train_size=0.7,test_size=0.3,random_state=100)"
   ]
  },
  {
   "cell_type": "code",
   "execution_count": 406,
   "metadata": {},
   "outputs": [
    {
     "data": {
      "text/plain": [
       "(20985, 88)"
      ]
     },
     "execution_count": 406,
     "metadata": {},
     "output_type": "execute_result"
    }
   ],
   "source": [
    "X_train.shape"
   ]
  },
  {
   "cell_type": "markdown",
   "metadata": {},
   "source": [
    "### Feature scaling"
   ]
  },
  {
   "cell_type": "code",
   "execution_count": 407,
   "metadata": {},
   "outputs": [],
   "source": [
    "from sklearn.preprocessing import StandardScaler"
   ]
  },
  {
   "cell_type": "code",
   "execution_count": 447,
   "metadata": {},
   "outputs": [
    {
     "data": {
      "text/html": [
       "<div>\n",
       "<style scoped>\n",
       "    .dataframe tbody tr th:only-of-type {\n",
       "        vertical-align: middle;\n",
       "    }\n",
       "\n",
       "    .dataframe tbody tr th {\n",
       "        vertical-align: top;\n",
       "    }\n",
       "\n",
       "    .dataframe thead th {\n",
       "        text-align: right;\n",
       "    }\n",
       "</style>\n",
       "<table border=\"1\" class=\"dataframe\">\n",
       "  <thead>\n",
       "    <tr style=\"text-align: right;\">\n",
       "      <th></th>\n",
       "      <th>total_rech_num_8</th>\n",
       "      <th>total_rech_amt_8</th>\n",
       "      <th>max_rech_amt_8</th>\n",
       "      <th>last_day_rch_amt_8</th>\n",
       "      <th>monthly_2g_8</th>\n",
       "      <th>sachet_2g_8</th>\n",
       "      <th>monthly_3g_8</th>\n",
       "      <th>sachet_3g_8</th>\n",
       "      <th>aon_years</th>\n",
       "      <th>sachet_2g_good_ph</th>\n",
       "      <th>...</th>\n",
       "      <th>total_og_mou_good_ph</th>\n",
       "      <th>vbc_3g_good_ph</th>\n",
       "      <th>std_ic_mou_good_ph</th>\n",
       "      <th>loc_ic_mou_good_ph</th>\n",
       "      <th>std_og_mou_good_ph</th>\n",
       "      <th>loc_og_mou_good_ph</th>\n",
       "      <th>vol_2g_mb_good_ph</th>\n",
       "      <th>vol_3g_mb_good_ph</th>\n",
       "      <th>action_required</th>\n",
       "      <th>high_value_customer</th>\n",
       "    </tr>\n",
       "  </thead>\n",
       "  <tbody>\n",
       "    <tr>\n",
       "      <th>0</th>\n",
       "      <td>1.340049</td>\n",
       "      <td>0.918602</td>\n",
       "      <td>-0.188910</td>\n",
       "      <td>0.225256</td>\n",
       "      <td>-0.321261</td>\n",
       "      <td>-0.33297</td>\n",
       "      <td>-0.296347</td>\n",
       "      <td>-0.148376</td>\n",
       "      <td>-0.348641</td>\n",
       "      <td>-0.33048</td>\n",
       "      <td>...</td>\n",
       "      <td>-0.022617</td>\n",
       "      <td>-0.352122</td>\n",
       "      <td>-0.323835</td>\n",
       "      <td>-0.746663</td>\n",
       "      <td>0.439470</td>\n",
       "      <td>-0.711955</td>\n",
       "      <td>-0.309220</td>\n",
       "      <td>-0.324911</td>\n",
       "      <td>-1.275565</td>\n",
       "      <td>0.0</td>\n",
       "    </tr>\n",
       "    <tr>\n",
       "      <th>1</th>\n",
       "      <td>-0.343133</td>\n",
       "      <td>-0.646560</td>\n",
       "      <td>-0.641799</td>\n",
       "      <td>-0.309677</td>\n",
       "      <td>2.431558</td>\n",
       "      <td>-0.33297</td>\n",
       "      <td>-0.296347</td>\n",
       "      <td>-0.148376</td>\n",
       "      <td>-0.348641</td>\n",
       "      <td>-0.33048</td>\n",
       "      <td>...</td>\n",
       "      <td>-0.925964</td>\n",
       "      <td>2.496948</td>\n",
       "      <td>-0.354879</td>\n",
       "      <td>-0.522521</td>\n",
       "      <td>-0.697787</td>\n",
       "      <td>-0.429233</td>\n",
       "      <td>0.213368</td>\n",
       "      <td>1.137765</td>\n",
       "      <td>0.783966</td>\n",
       "      <td>0.0</td>\n",
       "    </tr>\n",
       "    <tr>\n",
       "      <th>2</th>\n",
       "      <td>0.182861</td>\n",
       "      <td>0.511405</td>\n",
       "      <td>0.711206</td>\n",
       "      <td>-0.644010</td>\n",
       "      <td>2.431558</td>\n",
       "      <td>-0.33297</td>\n",
       "      <td>1.410249</td>\n",
       "      <td>-0.148376</td>\n",
       "      <td>1.867054</td>\n",
       "      <td>-0.33048</td>\n",
       "      <td>...</td>\n",
       "      <td>-0.296317</td>\n",
       "      <td>1.537699</td>\n",
       "      <td>-0.367156</td>\n",
       "      <td>0.054399</td>\n",
       "      <td>-0.709452</td>\n",
       "      <td>0.589134</td>\n",
       "      <td>-0.104444</td>\n",
       "      <td>0.909980</td>\n",
       "      <td>0.783966</td>\n",
       "      <td>0.0</td>\n",
       "    </tr>\n",
       "    <tr>\n",
       "      <th>3</th>\n",
       "      <td>0.077662</td>\n",
       "      <td>0.592527</td>\n",
       "      <td>-0.109655</td>\n",
       "      <td>-0.644010</td>\n",
       "      <td>-0.321261</td>\n",
       "      <td>-0.33297</td>\n",
       "      <td>-0.296347</td>\n",
       "      <td>-0.148376</td>\n",
       "      <td>0.020642</td>\n",
       "      <td>-0.33048</td>\n",
       "      <td>...</td>\n",
       "      <td>0.339867</td>\n",
       "      <td>-0.352122</td>\n",
       "      <td>-0.209984</td>\n",
       "      <td>0.056818</td>\n",
       "      <td>0.415904</td>\n",
       "      <td>-0.063475</td>\n",
       "      <td>-0.309220</td>\n",
       "      <td>-0.324911</td>\n",
       "      <td>0.783966</td>\n",
       "      <td>0.0</td>\n",
       "    </tr>\n",
       "    <tr>\n",
       "      <th>4</th>\n",
       "      <td>-0.027537</td>\n",
       "      <td>-0.061215</td>\n",
       "      <td>-0.109655</td>\n",
       "      <td>0.225256</td>\n",
       "      <td>-0.321261</td>\n",
       "      <td>-0.33297</td>\n",
       "      <td>-0.296347</td>\n",
       "      <td>-0.148376</td>\n",
       "      <td>-0.717923</td>\n",
       "      <td>-0.33048</td>\n",
       "      <td>...</td>\n",
       "      <td>0.379112</td>\n",
       "      <td>-0.352122</td>\n",
       "      <td>-0.270412</td>\n",
       "      <td>-0.658168</td>\n",
       "      <td>0.888818</td>\n",
       "      <td>-0.738309</td>\n",
       "      <td>-0.309220</td>\n",
       "      <td>-0.324911</td>\n",
       "      <td>0.783966</td>\n",
       "      <td>0.0</td>\n",
       "    </tr>\n",
       "  </tbody>\n",
       "</table>\n",
       "<p>5 rows × 88 columns</p>\n",
       "</div>"
      ],
      "text/plain": [
       "   total_rech_num_8  total_rech_amt_8  max_rech_amt_8  last_day_rch_amt_8  \\\n",
       "0          1.340049          0.918602       -0.188910            0.225256   \n",
       "1         -0.343133         -0.646560       -0.641799           -0.309677   \n",
       "2          0.182861          0.511405        0.711206           -0.644010   \n",
       "3          0.077662          0.592527       -0.109655           -0.644010   \n",
       "4         -0.027537         -0.061215       -0.109655            0.225256   \n",
       "\n",
       "   monthly_2g_8  sachet_2g_8  monthly_3g_8  sachet_3g_8  aon_years  \\\n",
       "0     -0.321261     -0.33297     -0.296347    -0.148376  -0.348641   \n",
       "1      2.431558     -0.33297     -0.296347    -0.148376  -0.348641   \n",
       "2      2.431558     -0.33297      1.410249    -0.148376   1.867054   \n",
       "3     -0.321261     -0.33297     -0.296347    -0.148376   0.020642   \n",
       "4     -0.321261     -0.33297     -0.296347    -0.148376  -0.717923   \n",
       "\n",
       "   sachet_2g_good_ph  ...  total_og_mou_good_ph  vbc_3g_good_ph  \\\n",
       "0           -0.33048  ...             -0.022617       -0.352122   \n",
       "1           -0.33048  ...             -0.925964        2.496948   \n",
       "2           -0.33048  ...             -0.296317        1.537699   \n",
       "3           -0.33048  ...              0.339867       -0.352122   \n",
       "4           -0.33048  ...              0.379112       -0.352122   \n",
       "\n",
       "   std_ic_mou_good_ph  loc_ic_mou_good_ph  std_og_mou_good_ph  \\\n",
       "0           -0.323835           -0.746663            0.439470   \n",
       "1           -0.354879           -0.522521           -0.697787   \n",
       "2           -0.367156            0.054399           -0.709452   \n",
       "3           -0.209984            0.056818            0.415904   \n",
       "4           -0.270412           -0.658168            0.888818   \n",
       "\n",
       "   loc_og_mou_good_ph  vol_2g_mb_good_ph  vol_3g_mb_good_ph  action_required  \\\n",
       "0           -0.711955          -0.309220          -0.324911        -1.275565   \n",
       "1           -0.429233           0.213368           1.137765         0.783966   \n",
       "2            0.589134          -0.104444           0.909980         0.783966   \n",
       "3           -0.063475          -0.309220          -0.324911         0.783966   \n",
       "4           -0.738309          -0.309220          -0.324911         0.783966   \n",
       "\n",
       "   high_value_customer  \n",
       "0                  0.0  \n",
       "1                  0.0  \n",
       "2                  0.0  \n",
       "3                  0.0  \n",
       "4                  0.0  \n",
       "\n",
       "[5 rows x 88 columns]"
      ]
     },
     "execution_count": 447,
     "metadata": {},
     "output_type": "execute_result"
    }
   ],
   "source": [
    "scaler = StandardScaler()\n",
    "X_train = scaler.fit_transform(X_train)\n",
    "X_train = pd.DataFrame(X_train, columns=X.columns.tolist())\n",
    "X_train.head()"
   ]
  },
  {
   "cell_type": "markdown",
   "metadata": {},
   "source": [
    "### PCA on the data "
   ]
  },
  {
   "cell_type": "code",
   "execution_count": 416,
   "metadata": {},
   "outputs": [],
   "source": [
    "#Importing the PCA module\n",
    "from sklearn.decomposition import PCA\n",
    "pca = PCA(svd_solver='randomized', random_state=42)"
   ]
  },
  {
   "cell_type": "code",
   "execution_count": 417,
   "metadata": {},
   "outputs": [
    {
     "data": {
      "text/plain": [
       "PCA(copy=True, iterated_power='auto', n_components=None, random_state=42,\n",
       "  svd_solver='randomized', tol=0.0, whiten=False)"
      ]
     },
     "execution_count": 417,
     "metadata": {},
     "output_type": "execute_result"
    }
   ],
   "source": [
    "#Doing the PCA on the train data\n",
    "pca.fit(X_train)"
   ]
  },
  {
   "cell_type": "code",
   "execution_count": 418,
   "metadata": {},
   "outputs": [
    {
     "data": {
      "text/plain": [
       "array([[ 6.24987097e-02,  2.11834317e-01,  1.40968983e-01, ...,\n",
       "         3.53492687e-02, -2.78342027e-02,  0.00000000e+00],\n",
       "       [ 1.58176982e-01,  1.06186164e-01, -5.05154230e-02, ...,\n",
       "        -7.61448062e-02, -4.90782869e-02,  0.00000000e+00],\n",
       "       [-6.37136586e-02,  2.01493457e-01,  2.23193193e-01, ...,\n",
       "         2.48130748e-01,  1.00191495e-03,  0.00000000e+00],\n",
       "       ...,\n",
       "       [ 3.32778813e-08,  3.51462527e-08,  4.25022456e-08, ...,\n",
       "         3.64734958e-08, -9.07342136e-08, -0.00000000e+00],\n",
       "       [ 2.91394933e-08,  5.17712805e-08,  6.51673951e-08, ...,\n",
       "        -1.08023624e-08,  8.24278661e-09, -0.00000000e+00],\n",
       "       [ 0.00000000e+00,  0.00000000e+00,  0.00000000e+00, ...,\n",
       "         0.00000000e+00,  0.00000000e+00,  1.00000000e+00]])"
      ]
     },
     "execution_count": 418,
     "metadata": {},
     "output_type": "execute_result"
    }
   ],
   "source": [
    "pca.components_"
   ]
  },
  {
   "cell_type": "code",
   "execution_count": 419,
   "metadata": {},
   "outputs": [
    {
     "data": {
      "text/html": [
       "<div>\n",
       "<style scoped>\n",
       "    .dataframe tbody tr th:only-of-type {\n",
       "        vertical-align: middle;\n",
       "    }\n",
       "\n",
       "    .dataframe tbody tr th {\n",
       "        vertical-align: top;\n",
       "    }\n",
       "\n",
       "    .dataframe thead th {\n",
       "        text-align: right;\n",
       "    }\n",
       "</style>\n",
       "<table border=\"1\" class=\"dataframe\">\n",
       "  <thead>\n",
       "    <tr style=\"text-align: right;\">\n",
       "      <th></th>\n",
       "      <th>PC1</th>\n",
       "      <th>PC2</th>\n",
       "      <th>Feature</th>\n",
       "    </tr>\n",
       "  </thead>\n",
       "  <tbody>\n",
       "    <tr>\n",
       "      <th>0</th>\n",
       "      <td>0.062499</td>\n",
       "      <td>0.158177</td>\n",
       "      <td>total_rech_num_8</td>\n",
       "    </tr>\n",
       "    <tr>\n",
       "      <th>1</th>\n",
       "      <td>0.211834</td>\n",
       "      <td>0.106186</td>\n",
       "      <td>total_rech_amt_8</td>\n",
       "    </tr>\n",
       "    <tr>\n",
       "      <th>2</th>\n",
       "      <td>0.140969</td>\n",
       "      <td>-0.050515</td>\n",
       "      <td>max_rech_amt_8</td>\n",
       "    </tr>\n",
       "    <tr>\n",
       "      <th>3</th>\n",
       "      <td>0.112005</td>\n",
       "      <td>-0.045864</td>\n",
       "      <td>last_day_rch_amt_8</td>\n",
       "    </tr>\n",
       "    <tr>\n",
       "      <th>4</th>\n",
       "      <td>0.016832</td>\n",
       "      <td>-0.063279</td>\n",
       "      <td>monthly_2g_8</td>\n",
       "    </tr>\n",
       "  </tbody>\n",
       "</table>\n",
       "</div>"
      ],
      "text/plain": [
       "        PC1       PC2             Feature\n",
       "0  0.062499  0.158177    total_rech_num_8\n",
       "1  0.211834  0.106186    total_rech_amt_8\n",
       "2  0.140969 -0.050515      max_rech_amt_8\n",
       "3  0.112005 -0.045864  last_day_rch_amt_8\n",
       "4  0.016832 -0.063279        monthly_2g_8"
      ]
     },
     "execution_count": 419,
     "metadata": {},
     "output_type": "execute_result"
    }
   ],
   "source": [
    "colnames = list(X_train.columns)\n",
    "pcs_df = pd.DataFrame({'PC1':pca.components_[0],'PC2':pca.components_[1], 'Feature':colnames})\n",
    "pcs_df.head()"
   ]
  },
  {
   "cell_type": "code",
   "execution_count": 446,
   "metadata": {},
   "outputs": [
    {
     "data": {
      "text/plain": [
       "7     1\n",
       "8     0\n",
       "13    0\n",
       "16    0\n",
       "17    0\n",
       "Name: churn, dtype: int64"
      ]
     },
     "execution_count": 446,
     "metadata": {},
     "output_type": "execute_result"
    }
   ],
   "source": [
    "# Putting response variable to y\n",
    "y = master_frame_HVC['churn']\n",
    "\n",
    "y.head()"
   ]
  },
  {
   "cell_type": "code",
   "execution_count": 421,
   "metadata": {},
   "outputs": [
    {
     "data": {
      "image/png": "[encoded data removed]",
      "text/plain": [
       "<Figure size 576x576 with 1 Axes>"
      ]
     },
     "metadata": {
      "needs_background": "light"
     },
     "output_type": "display_data"
    }
   ],
   "source": [
    "%matplotlib inline\n",
    "fig = plt.figure(figsize = (8,8))\n",
    "plt.scatter(pcs_df.PC1, pcs_df.PC2)\n",
    "plt.xlabel('Principal Component 1')\n",
    "plt.ylabel('Principal Component 2')\n",
    "for i, txt in enumerate(pcs_df.Feature):\n",
    "    plt.annotate(txt, (pcs_df.PC1[i],pcs_df.PC2[i]))\n",
    "plt.tight_layout()\n",
    "plt.show()"
   ]
  },
  {
   "cell_type": "code",
   "execution_count": 422,
   "metadata": {},
   "outputs": [
    {
     "data": {
      "text/plain": [
       "array([1.03085168e-01, 9.25638392e-02, 6.23465655e-02, 4.90377152e-02,\n",
       "       4.32498299e-02, 3.90347747e-02, 3.22635738e-02, 2.92084300e-02,\n",
       "       2.77120309e-02, 2.72156242e-02, 2.58157305e-02, 2.49960911e-02,\n",
       "       2.34140325e-02, 2.27224552e-02, 2.15887062e-02, 2.01545346e-02,\n",
       "       1.87455389e-02, 1.70737591e-02, 1.53771448e-02, 1.49499299e-02,\n",
       "       1.47005653e-02, 1.43619378e-02, 1.30379245e-02, 1.27452940e-02,\n",
       "       1.22402890e-02, 1.06159848e-02, 1.00998211e-02, 9.85372978e-03,\n",
       "       9.65567682e-03, 9.21428788e-03, 9.14126859e-03, 8.56643792e-03,\n",
       "       8.26988002e-03, 8.09399734e-03, 7.87278231e-03, 7.56511270e-03,\n",
       "       7.33705668e-03, 7.19785388e-03, 6.96894756e-03, 6.76973371e-03,\n",
       "       6.63077876e-03, 5.97480336e-03, 5.63002310e-03, 5.41275458e-03,\n",
       "       5.21873385e-03, 5.10202199e-03, 4.52949097e-03, 4.11182319e-03,\n",
       "       3.76593577e-03, 3.67413318e-03, 3.60164161e-03, 3.44067415e-03,\n",
       "       3.34814355e-03, 3.27576543e-03, 2.84615769e-03, 2.79596636e-03,\n",
       "       2.78880393e-03, 2.70264195e-03, 2.59824139e-03, 2.52215629e-03,\n",
       "       2.41629682e-03, 2.29858029e-03, 2.08598368e-03, 2.02333043e-03,\n",
       "       1.73416487e-03, 1.58574635e-03, 1.14980066e-03, 8.74222545e-04,\n",
       "       3.63617200e-04, 3.32632682e-04, 2.05716559e-04, 6.70489059e-05,\n",
       "       2.45493883e-05, 2.78574419e-06, 7.76674453e-07, 1.06168532e-11,\n",
       "       4.82261840e-12, 3.99898744e-12, 2.03476463e-12, 1.68967486e-12,\n",
       "       1.50884425e-12, 9.61109211e-13, 8.71037490e-13, 6.96409836e-13,\n",
       "       4.12384919e-13, 2.84987402e-13, 1.84388304e-13, 3.80050249e-34])"
      ]
     },
     "execution_count": 422,
     "metadata": {},
     "output_type": "execute_result"
    }
   ],
   "source": [
    "pca.explained_variance_ratio_"
   ]
  },
  {
   "cell_type": "code",
   "execution_count": 423,
   "metadata": {},
   "outputs": [
    {
     "data": {
      "image/png": "[encoded data removed]",
      "text/plain": [
       "<Figure size 864x576 with 1 Axes>"
      ]
     },
     "metadata": {
      "needs_background": "light"
     },
     "output_type": "display_data"
    }
   ],
   "source": [
    "#Making the screeplot - plotting the cumulative variance against the number of components\n",
    "%matplotlib inline\n",
    "fig = plt.figure(figsize = (12,8))\n",
    "plt.plot(np.cumsum(pca.explained_variance_ratio_))\n",
    "plt.xlabel('number of components')\n",
    "plt.ylabel('cumulative explained variance')\n",
    "plt.show()"
   ]
  },
  {
   "cell_type": "code",
   "execution_count": 424,
   "metadata": {},
   "outputs": [],
   "source": [
    "#Using incremental PCA for efficiency - saves a lot of time on larger datasets\n",
    "from sklearn.decomposition import IncrementalPCA\n",
    "pca_final = IncrementalPCA(n_components=16)"
   ]
  },
  {
   "cell_type": "code",
   "execution_count": 425,
   "metadata": {},
   "outputs": [
    {
     "data": {
      "text/plain": [
       "(20985, 16)"
      ]
     },
     "execution_count": 425,
     "metadata": {},
     "output_type": "execute_result"
    }
   ],
   "source": [
    "df_train_pca = pca_final.fit_transform(X_train)\n",
    "df_train_pca.shape"
   ]
  },
  {
   "cell_type": "code",
   "execution_count": 426,
   "metadata": {},
   "outputs": [],
   "source": [
    "#creating correlation matrix for the principal components\n",
    "corrmat = np.corrcoef(df_train_pca.transpose())"
   ]
  },
  {
   "cell_type": "code",
   "execution_count": 427,
   "metadata": {},
   "outputs": [
    {
     "data": {
      "text/plain": [
       "<matplotlib.axes._subplots.AxesSubplot at 0x20e965d7160>"
      ]
     },
     "execution_count": 427,
     "metadata": {},
     "output_type": "execute_result"
    },
    {
     "data": {
      "image/png": "[encoded data removed]",
      "text/plain": [
       "<Figure size 1440x720 with 2 Axes>"
      ]
     },
     "metadata": {
      "needs_background": "light"
     },
     "output_type": "display_data"
    }
   ],
   "source": [
    "#plotting the correlation matrix\n",
    "%matplotlib inline\n",
    "plt.figure(figsize = (20,10))\n",
    "sns.heatmap(corrmat,annot = True)"
   ]
  },
  {
   "cell_type": "code",
   "execution_count": 428,
   "metadata": {},
   "outputs": [
    {
     "name": "stdout",
     "output_type": "stream",
     "text": [
      "max corr: 0.01662551070627811 , min corr:  -0.013645379115524922\n"
     ]
    }
   ],
   "source": [
    "# 1s -> 0s in diagonals\n",
    "corrmat_nodiag = corrmat - np.diagflat(corrmat.diagonal())\n",
    "print(\"max corr:\",corrmat_nodiag.max(), \", min corr: \", corrmat_nodiag.min(),)\n",
    "# we see that correlations are indeed very close to 0"
   ]
  },
  {
   "cell_type": "code",
   "execution_count": 429,
   "metadata": {},
   "outputs": [
    {
     "data": {
      "text/plain": [
       "(8994, 16)"
      ]
     },
     "execution_count": 429,
     "metadata": {},
     "output_type": "execute_result"
    }
   ],
   "source": [
    "#Applying selected components to the test data - 16 components\n",
    "df_test_pca = pca_final.transform(X_test)\n",
    "df_test_pca.shape"
   ]
  },
  {
   "cell_type": "code",
   "execution_count": 430,
   "metadata": {},
   "outputs": [
    {
     "name": "stderr",
     "output_type": "stream",
     "text": [
      "C:\\Users\\Priyanka\\Anaconda3\\lib\\site-packages\\sklearn\\linear_model\\logistic.py:433: FutureWarning: Default solver will be changed to 'lbfgs' in 0.22. Specify a solver to silence this warning.\n",
      "  FutureWarning)\n"
     ]
    }
   ],
   "source": [
    "#Training the model on the train data\n",
    "from sklearn.linear_model import LogisticRegression\n",
    "from sklearn import metrics\n",
    "\n",
    "learner_pca = LogisticRegression()\n",
    "model_pca = learner_pca.fit(df_train_pca,y_train)"
   ]
  },
  {
   "cell_type": "code",
   "execution_count": 431,
   "metadata": {},
   "outputs": [
    {
     "data": {
      "text/plain": [
       "'0.85'"
      ]
     },
     "execution_count": 431,
     "metadata": {},
     "output_type": "execute_result"
    }
   ],
   "source": [
    "#Making prediction on the test data\n",
    "pred_probs_test = model_pca.predict_proba(df_test_pca)[:,1]\n",
    "\"{:2.2}\".format(metrics.roc_auc_score(y_test, pred_probs_test))"
   ]
  },
  {
   "cell_type": "markdown",
   "metadata": {},
   "source": [
    "### Model 1 achieved .87 auc score "
   ]
  },
  {
   "cell_type": "markdown",
   "metadata": {},
   "source": [
    "### Model 2  "
   ]
  },
  {
   "cell_type": "code",
   "execution_count": 432,
   "metadata": {},
   "outputs": [],
   "source": [
    "pca_again = PCA(0.90)"
   ]
  },
  {
   "cell_type": "code",
   "execution_count": 433,
   "metadata": {},
   "outputs": [
    {
     "data": {
      "text/plain": [
       "(20985, 40)"
      ]
     },
     "execution_count": 433,
     "metadata": {},
     "output_type": "execute_result"
    }
   ],
   "source": [
    "df_train_pca2 = pca_again.fit_transform(X_train)\n",
    "df_train_pca2.shape\n",
    "# we see that PCA selected 14 components"
   ]
  },
  {
   "cell_type": "code",
   "execution_count": 434,
   "metadata": {},
   "outputs": [
    {
     "name": "stderr",
     "output_type": "stream",
     "text": [
      "C:\\Users\\Priyanka\\Anaconda3\\lib\\site-packages\\sklearn\\linear_model\\logistic.py:433: FutureWarning: Default solver will be changed to 'lbfgs' in 0.22. Specify a solver to silence this warning.\n",
      "  FutureWarning)\n"
     ]
    }
   ],
   "source": [
    "#training the regression model\n",
    "learner_pca2 = LogisticRegression()\n",
    "model_pca2 = learner_pca2.fit(df_train_pca2,y_train)"
   ]
  },
  {
   "cell_type": "code",
   "execution_count": 435,
   "metadata": {},
   "outputs": [
    {
     "data": {
      "text/plain": [
       "(8994, 40)"
      ]
     },
     "execution_count": 435,
     "metadata": {},
     "output_type": "execute_result"
    }
   ],
   "source": [
    "df_test_pca2 = pca_again.transform(X_test)\n",
    "df_test_pca2.shape"
   ]
  },
  {
   "cell_type": "code",
   "execution_count": 436,
   "metadata": {},
   "outputs": [
    {
     "data": {
      "text/plain": [
       "'0.86'"
      ]
     },
     "execution_count": 436,
     "metadata": {},
     "output_type": "execute_result"
    }
   ],
   "source": [
    "#Making prediction on the test data\n",
    "pred_probs_test2 = model_pca2.predict_proba(df_test_pca2)[:,1]\n",
    "\"{:2.2f}\".format(metrics.roc_auc_score(y_test, pred_probs_test2))"
   ]
  },
  {
   "cell_type": "markdown",
   "metadata": {},
   "source": [
    "### Model 2 also achieved 0.86 with 10 variables"
   ]
  },
  {
   "cell_type": "code",
   "execution_count": 437,
   "metadata": {},
   "outputs": [
    {
     "data": {
      "image/png": "[encoded data removed]",
      "text/plain": [
       "<Figure size 576x576 with 1 Axes>"
      ]
     },
     "metadata": {
      "needs_background": "light"
     },
     "output_type": "display_data"
    }
   ],
   "source": [
    "%matplotlib inline\n",
    "fig = plt.figure(figsize = (8,8))\n",
    "plt.scatter(df_train_pca[:,0], df_train_pca[:,1], c = y_train.map({0:'green',1:'red'}))\n",
    "plt.xlabel('Principal Component 1')\n",
    "plt.ylabel('Principal Component 2')\n",
    "plt.tight_layout()\n",
    "plt.show()"
   ]
  },
  {
   "cell_type": "markdown",
   "metadata": {},
   "source": [
    "### Model 3 - With 8 parameters"
   ]
  },
  {
   "cell_type": "code",
   "execution_count": 442,
   "metadata": {},
   "outputs": [
    {
     "data": {
      "text/plain": [
       "(8994, 12)"
      ]
     },
     "execution_count": 442,
     "metadata": {},
     "output_type": "execute_result"
    }
   ],
   "source": [
    "pca_last = PCA(n_components=12)\n",
    "df_train_pca3 = pca_last.fit_transform(X_train)\n",
    "df_test_pca3 = pca_last.transform(X_test)\n",
    "df_test_pca3.shape"
   ]
  },
  {
   "cell_type": "code",
   "execution_count": 443,
   "metadata": {},
   "outputs": [
    {
     "name": "stderr",
     "output_type": "stream",
     "text": [
      "C:\\Users\\Priyanka\\Anaconda3\\lib\\site-packages\\sklearn\\linear_model\\logistic.py:433: FutureWarning: Default solver will be changed to 'lbfgs' in 0.22. Specify a solver to silence this warning.\n",
      "  FutureWarning)\n"
     ]
    },
    {
     "data": {
      "text/plain": [
       "'0.85'"
      ]
     },
     "execution_count": 443,
     "metadata": {},
     "output_type": "execute_result"
    }
   ],
   "source": [
    "#training the regression model\n",
    "learner_pca3 = LogisticRegression()\n",
    "model_pca3 = learner_pca3.fit(df_train_pca3,y_train)\n",
    "#Making prediction on the test data\n",
    "pred_probs_test3 = model_pca3.predict_proba(df_test_pca3)[:,1]\n",
    "\"{:2.2f}\".format(metrics.roc_auc_score(y_test, pred_probs_test3))"
   ]
  },
  {
   "cell_type": "markdown",
   "metadata": {},
   "source": [
    "### Model 3 with 8 parameters also achieved 0.86"
   ]
  },
  {
   "cell_type": "code",
   "execution_count": null,
   "metadata": {},
   "outputs": [],
   "source": []
  },
  {
   "cell_type": "code",
   "execution_count": null,
   "metadata": {},
   "outputs": [],
   "source": []
  },
  {
   "cell_type": "code",
   "execution_count": null,
   "metadata": {},
   "outputs": [],
   "source": []
  },
  {
   "cell_type": "code",
   "execution_count": null,
   "metadata": {},
   "outputs": [],
   "source": []
  },
  {
   "cell_type": "code",
   "execution_count": null,
   "metadata": {},
   "outputs": [],
   "source": []
  },
  {
   "cell_type": "code",
   "execution_count": null,
   "metadata": {},
   "outputs": [],
   "source": []
  },
  {
   "cell_type": "code",
   "execution_count": null,
   "metadata": {},
   "outputs": [],
   "source": []
  },
  {
   "cell_type": "code",
   "execution_count": null,
   "metadata": {},
   "outputs": [],
   "source": []
  },
  {
   "cell_type": "code",
   "execution_count": null,
   "metadata": {},
   "outputs": [],
   "source": []
  },
  {
   "cell_type": "code",
   "execution_count": null,
   "metadata": {},
   "outputs": [],
   "source": []
  },
  {
   "cell_type": "code",
   "execution_count": null,
   "metadata": {},
   "outputs": [],
   "source": []
  },
  {
   "cell_type": "code",
   "execution_count": null,
   "metadata": {},
   "outputs": [],
   "source": []
  },
  {
   "cell_type": "code",
   "execution_count": null,
   "metadata": {},
   "outputs": [],
   "source": []
  },
  {
   "cell_type": "code",
   "execution_count": null,
   "metadata": {},
   "outputs": [],
   "source": []
  },
  {
   "cell_type": "code",
   "execution_count": null,
   "metadata": {},
   "outputs": [],
   "source": []
  },
  {
   "cell_type": "code",
   "execution_count": null,
   "metadata": {},
   "outputs": [],
   "source": []
  },
  {
   "cell_type": "code",
   "execution_count": null,
   "metadata": {},
   "outputs": [],
   "source": []
  },
  {
   "cell_type": "code",
   "execution_count": null,
   "metadata": {},
   "outputs": [],
   "source": []
  },
  {
   "cell_type": "code",
   "execution_count": null,
   "metadata": {},
   "outputs": [],
   "source": []
  },
  {
   "cell_type": "code",
   "execution_count": null,
   "metadata": {},
   "outputs": [],
   "source": []
  },
  {
   "cell_type": "markdown",
   "metadata": {},
   "source": [
    "### Scaling Data"
   ]
  },
  {
   "cell_type": "code",
   "execution_count": null,
   "metadata": {},
   "outputs": [],
   "source": [
    "from sklearn.preprocessing import StandardScaler"
   ]
  },
  {
   "cell_type": "code",
   "execution_count": null,
   "metadata": {},
   "outputs": [],
   "source": [
    "# We specify this so that the train and test data set always have the same rows, respectively\n",
    "df_train, df_test = train_test_split(master_frame_HVC, train_size = 0.7, test_size = 0.3, random_state = 100)"
   ]
  },
  {
   "cell_type": "code",
   "execution_count": null,
   "metadata": {},
   "outputs": [],
   "source": [
    "scaler=StandardScaler()\n",
    "scaled_df=scaler.fit_transform(df_train)"
   ]
  },
  {
   "cell_type": "code",
   "execution_count": null,
   "metadata": {},
   "outputs": [],
   "source": [
    "# scaled_df = pd.DataFrame(scaled_df, columns=df.columns.tolist())"
   ]
  },
  {
   "cell_type": "code",
   "execution_count": null,
   "metadata": {},
   "outputs": [],
   "source": [
    "# scaled_df.head()"
   ]
  },
  {
   "cell_type": "code",
   "execution_count": null,
   "metadata": {},
   "outputs": [],
   "source": []
  },
  {
   "cell_type": "code",
   "execution_count": null,
   "metadata": {},
   "outputs": [],
   "source": [
    "\n",
    "\n",
    "# plt.figure(figsize = (20,10))\n",
    "# sns.heatmap(scaled_df.iloc[:,0:22].corr(),annot = True)"
   ]
  },
  {
   "cell_type": "code",
   "execution_count": null,
   "metadata": {
    "scrolled": true
   },
   "outputs": [],
   "source": [
    "df_train.head()"
   ]
  },
  {
   "cell_type": "code",
   "execution_count": null,
   "metadata": {},
   "outputs": [],
   "source": [
    "df_train.describe()"
   ]
  },
  {
   "cell_type": "markdown",
   "metadata": {},
   "source": [
    "###  Model Building"
   ]
  },
  {
   "cell_type": "code",
   "execution_count": null,
   "metadata": {},
   "outputs": [],
   "source": [
    "from sklearn.model_selection import train_test_split\n",
    "\n",
    "X=df_train.drop(['churn'],axis=1)\n",
    "\n",
    "y=df_train['churn']\n",
    "\n",
    "y.head()"
   ]
  },
  {
   "cell_type": "code",
   "execution_count": null,
   "metadata": {},
   "outputs": [],
   "source": [
    "X_train , X_test , y_train , y_test = train_test_split(X,y,train_size=0.7, random_state=42,stratify=y)"
   ]
  },
  {
   "cell_type": "code",
   "execution_count": null,
   "metadata": {},
   "outputs": [],
   "source": [
    "X_train.head()"
   ]
  },
  {
   "cell_type": "code",
   "execution_count": null,
   "metadata": {},
   "outputs": [],
   "source": [
    "X_train.shape"
   ]
  },
  {
   "cell_type": "code",
   "execution_count": null,
   "metadata": {},
   "outputs": [],
   "source": [
    "X_test.shape"
   ]
  },
  {
   "cell_type": "code",
   "execution_count": null,
   "metadata": {},
   "outputs": [],
   "source": [
    "scaler=StandardScaler()\n",
    "X_train=scaler.fit_transform(X_train)\n",
    "X_test=scaler.fit_transform(X_test)"
   ]
  },
  {
   "cell_type": "code",
   "execution_count": null,
   "metadata": {},
   "outputs": [],
   "source": [
    "X_train = pd.DataFrame(X_train, columns=X.columns.tolist())\n",
    "X_test = pd.DataFrame(X_test, columns=X.columns.tolist())"
   ]
  },
  {
   "cell_type": "code",
   "execution_count": null,
   "metadata": {},
   "outputs": [],
   "source": [
    "X_train.head()"
   ]
  },
  {
   "cell_type": "code",
   "execution_count": null,
   "metadata": {},
   "outputs": [],
   "source": [
    "X_test.head()"
   ]
  },
  {
   "cell_type": "code",
   "execution_count": null,
   "metadata": {},
   "outputs": [],
   "source": [
    "\n",
    "# logreg = LogisticRegression()\n",
    "# from sklearn.feature_selection import RFE\n",
    "# rfe = RFE(logreg, 50)             # running RFE with 50 variables as output\n",
    "# rfe = rfe.fit(X,y)\n",
    "# print(rfe.support_)           # Printing the boolean results\n",
    "# print(rfe.ranking_) "
   ]
  },
  {
   "cell_type": "code",
   "execution_count": null,
   "metadata": {},
   "outputs": [],
   "source": [
    "# rfe_df=pd.DataFrame({'features':X.columns.tolist(),'flag':rfe.support_,'rank':rfe.ranking_})"
   ]
  },
  {
   "cell_type": "code",
   "execution_count": null,
   "metadata": {},
   "outputs": [],
   "source": [
    "# rfe_df.sort_values('rank').head(60)"
   ]
  },
  {
   "cell_type": "code",
   "execution_count": null,
   "metadata": {},
   "outputs": [],
   "source": [
    "?PCA"
   ]
  },
  {
   "cell_type": "code",
   "execution_count": null,
   "metadata": {},
   "outputs": [],
   "source": [
    "from sklearn.decomposition import IncrementalPCA\n",
    "pca = IncrementalPCA(n_components=59,)"
   ]
  },
  {
   "cell_type": "code",
   "execution_count": null,
   "metadata": {},
   "outputs": [],
   "source": [
    "?IncrementalPCA"
   ]
  },
  {
   "cell_type": "code",
   "execution_count": null,
   "metadata": {},
   "outputs": [],
   "source": [
    "X_train_pca=pca.fit_transform(X_train)"
   ]
  },
  {
   "cell_type": "code",
   "execution_count": null,
   "metadata": {},
   "outputs": [],
   "source": [
    "X_train_pca.shape"
   ]
  },
  {
   "cell_type": "code",
   "execution_count": null,
   "metadata": {},
   "outputs": [],
   "source": [
    "pca.components_"
   ]
  },
  {
   "cell_type": "code",
   "execution_count": null,
   "metadata": {},
   "outputs": [],
   "source": []
  },
  {
   "cell_type": "code",
   "execution_count": null,
   "metadata": {},
   "outputs": [],
   "source": [
    "colnames = list(X_train.columns)\n",
    "pcs_df = pd.DataFrame({'PC1':pca.components_[0],'PC2':pca.components_[1], 'Feature':colnames})\n",
    "pcs_df"
   ]
  },
  {
   "cell_type": "code",
   "execution_count": null,
   "metadata": {},
   "outputs": [],
   "source": [
    "%matplotlib inline\n",
    "fig = plt.figure(figsize = (8,8))\n",
    "plt.scatter(pcs_df.PC1, pcs_df.PC2)\n",
    "plt.xlabel('Principal Component 1')\n",
    "plt.ylabel('Principal Component 2')\n",
    "for i, txt in enumerate(pcs_df.Feature):\n",
    "    plt.annotate(txt, (pcs_df.PC1[i],pcs_df.PC2[i]))\n",
    "plt.tight_layout()\n",
    "plt.show()"
   ]
  },
  {
   "cell_type": "code",
   "execution_count": null,
   "metadata": {},
   "outputs": [],
   "source": [
    "# %matplotlib inline\n",
    "# fig = plt.figure(figsize = (8,8))\n",
    "# plt.scatter(scaled_df[:,0], scaled_df[:,1], c = y_train.map({0:'green',1:'red'}))\n",
    "# plt.xlabel('Principal Component 1')\n",
    "# plt.ylabel('Principal Component 2')\n",
    "# plt.tight_layout()\n",
    "# plt.show()"
   ]
  },
  {
   "cell_type": "code",
   "execution_count": null,
   "metadata": {},
   "outputs": [],
   "source": [
    "pca.explained_variance_ratio_"
   ]
  },
  {
   "cell_type": "code",
   "execution_count": null,
   "metadata": {},
   "outputs": [],
   "source": [
    "#Making the screeplot - plotting the cumulative variance against the number of components\n",
    "%matplotlib inline\n",
    "fig = plt.figure(figsize = (12,8))\n",
    "plt.plot(np.cumsum(pca.explained_variance_ratio_))\n",
    "plt.xlabel('number of components')\n",
    "plt.ylabel('cumulative explained variance')\n",
    "plt.show()"
   ]
  },
  {
   "cell_type": "code",
   "execution_count": null,
   "metadata": {},
   "outputs": [],
   "source": [
    "X_train.head()"
   ]
  },
  {
   "cell_type": "code",
   "execution_count": null,
   "metadata": {},
   "outputs": [],
   "source": []
  },
  {
   "cell_type": "code",
   "execution_count": null,
   "metadata": {},
   "outputs": [],
   "source": [
    "corrmat = np.corrcoef(X_train_pca.transpose())"
   ]
  },
  {
   "cell_type": "code",
   "execution_count": null,
   "metadata": {},
   "outputs": [],
   "source": [
    "#plotting the correlation matrix\n",
    "%matplotlib inline\n",
    "plt.figure(figsize = (20,10))\n",
    "sns.heatmap(corrmat[0:25,0:25],annot = True)\n"
   ]
  },
  {
   "cell_type": "code",
   "execution_count": null,
   "metadata": {},
   "outputs": [],
   "source": [
    "%matplotlib inline\n",
    "plt.figure(figsize = (20,10))\n",
    "sns.heatmap(corrmat[25:50,25:50],annot = True)"
   ]
  },
  {
   "cell_type": "code",
   "execution_count": null,
   "metadata": {},
   "outputs": [],
   "source": [
    "# 1s -> 0s in diagonals\n",
    "corrmat_nodiag = corrmat - np.diagflat(corrmat.diagonal())\n",
    "print(\"max corr:\",corrmat_nodiag.max(), \", min corr: \", corrmat_nodiag.min(),)\n",
    "# we see that correlations are indeed very close to 0"
   ]
  },
  {
   "cell_type": "code",
   "execution_count": null,
   "metadata": {},
   "outputs": [],
   "source": [
    "#Applying selected components to the test data - 16 components\n",
    "X_test_pca = pca.transform(X_test)\n",
    "X_test_pca.shape"
   ]
  },
  {
   "cell_type": "code",
   "execution_count": null,
   "metadata": {},
   "outputs": [],
   "source": [
    "#Training the model on the train data\n",
    "from sklearn.linear_model import LogisticRegression\n",
    "from sklearn import metrics\n",
    "\n",
    "learner_pca = LogisticRegression(class_weight='balanced')\n",
    "model_pca = learner_pca.fit(X_train_pca,y_train)"
   ]
  },
  {
   "cell_type": "code",
   "execution_count": null,
   "metadata": {},
   "outputs": [],
   "source": [
    "#Making prediction on the train data\n",
    "y_train_pred = model_pca.predict_proba(X_train_pca)[:,1]\n",
    "\"{:2.2}\".format(metrics.roc_auc_score(y_train, y_train_pred))"
   ]
  },
  {
   "cell_type": "code",
   "execution_count": null,
   "metadata": {},
   "outputs": [],
   "source": [
    "#Making prediction on the test data\n",
    "y_pred = model_pca.predict_proba(X_test_pca)[:,1]\n",
    "\"{:2.2}\".format(metrics.roc_auc_score(y_test, y_pred))"
   ]
  },
  {
   "cell_type": "code",
   "execution_count": null,
   "metadata": {},
   "outputs": [],
   "source": [
    "from sklearn.metrics import precision_score,recall_score,accuracy_score,confusion_matrix"
   ]
  },
  {
   "cell_type": "code",
   "execution_count": null,
   "metadata": {},
   "outputs": [],
   "source": [
    "y_pred=pd.Series(y_pred)\n",
    "y_train_pred=pd.Series(y_train_pred)"
   ]
  },
  {
   "cell_type": "code",
   "execution_count": null,
   "metadata": {},
   "outputs": [],
   "source": [
    "y_pred_bool= y_pred.apply(lambda x: 1 if x>=0.5 else 0)\n",
    "y_train_pred_bool= y_train_pred.apply(lambda x: 1 if x>=0.5 else 0)"
   ]
  },
  {
   "cell_type": "code",
   "execution_count": null,
   "metadata": {},
   "outputs": [],
   "source": [
    "confusion_matrix(y_test,y_pred_bool)"
   ]
  },
  {
   "cell_type": "code",
   "execution_count": null,
   "metadata": {},
   "outputs": [],
   "source": [
    "confusion_matrix(y_train,y_train_pred_bool)"
   ]
  },
  {
   "cell_type": "code",
   "execution_count": null,
   "metadata": {},
   "outputs": [],
   "source": [
    "import  sklearn.metrics"
   ]
  },
  {
   "cell_type": "code",
   "execution_count": null,
   "metadata": {},
   "outputs": [],
   "source": [
    "metrics.precision_score(y_test,y_pred_bool)"
   ]
  },
  {
   "cell_type": "code",
   "execution_count": null,
   "metadata": {},
   "outputs": [],
   "source": [
    "recall_score(y_test,y_pred_bool)"
   ]
  },
  {
   "cell_type": "code",
   "execution_count": null,
   "metadata": {},
   "outputs": [],
   "source": []
  },
  {
   "cell_type": "code",
   "execution_count": null,
   "metadata": {},
   "outputs": [],
   "source": [
    "accuracy_score(y_test,y_pred_bool)"
   ]
  },
  {
   "cell_type": "code",
   "execution_count": null,
   "metadata": {},
   "outputs": [],
   "source": [
    "def draw_roc( actual, probs ):\n",
    "    fpr, tpr, thresholds = metrics.roc_curve( actual, probs,\n",
    "                                              drop_intermediate = False )\n",
    "    auc_score = metrics.roc_auc_score( actual, probs )\n",
    "    plt.figure(figsize=(5, 5))\n",
    "    plt.plot( fpr, tpr, label='ROC curve (area = %0.2f)' % auc_score )\n",
    "    plt.plot([0, 1], [0, 1], 'k--')\n",
    "    plt.xlim([0.0, 1.0])\n",
    "    plt.ylim([0.0, 1.05])\n",
    "    plt.xlabel('False Positive Rate or [1 - True Negative Rate]')\n",
    "    plt.ylabel('True Positive Rate')\n",
    "    plt.title('Receiver operating characteristic example')\n",
    "    plt.legend(loc=\"lower right\")\n",
    "    plt.show()\n",
    "\n",
    "    return None"
   ]
  },
  {
   "cell_type": "code",
   "execution_count": null,
   "metadata": {},
   "outputs": [],
   "source": [
    "fpr, tpr, thresholds = metrics.roc_curve( y_train, y_train_pred, drop_intermediate = False )"
   ]
  },
  {
   "cell_type": "code",
   "execution_count": null,
   "metadata": {},
   "outputs": [],
   "source": [
    "draw_roc(y_train, y_train_pred)"
   ]
  },
  {
   "cell_type": "code",
   "execution_count": null,
   "metadata": {},
   "outputs": [],
   "source": [
    "# Now let's calculate accuracy sensitivity and specificity for various probability cutoffs.\n",
    "cutoff_df = pd.DataFrame( columns = ['prob','accuracy','sensi','speci'])\n",
    "from sklearn.metrics import confusion_matrix\n",
    "\n",
    "confusion=confusion_matrix(y_train,y_train_pred_bool)\n",
    "\n",
    "# TP = confusion[1,1] # true positive \n",
    "# TN = confusion[0,0] # true negatives\n",
    "# FP = confusion[0,1] # false positives\n",
    "# FN = confusion[1,0] # false negatives\n",
    "\n",
    "num = [0.0,0.1,0.2,0.3,0.4,0.5,0.6,0.7,0.8,0.9]\n",
    "for i in num:\n",
    "    cm1 = metrics.confusion_matrix(y_train,y_train_pred_bool)\n",
    "    total1=sum(sum(cm1))\n",
    "    accuracy = (cm1[0,0]+cm1[1,1])/total1\n",
    "    \n",
    "    speci = cm1[0,0]/(cm1[0,0]+cm1[0,1])\n",
    "    sensi = cm1[1,1]/(cm1[1,0]+cm1[1,1])\n",
    "    cutoff_df.loc[i] =[ i ,accuracy,sensi,speci]\n",
    "print(cutoff_df)"
   ]
  },
  {
   "cell_type": "code",
   "execution_count": null,
   "metadata": {},
   "outputs": [],
   "source": [
    "cutoff_df.plot.line(x='prob', y=['accuracy','sensi','speci'])\n",
    "plt.show()"
   ]
  },
  {
   "cell_type": "code",
   "execution_count": null,
   "metadata": {},
   "outputs": [],
   "source": []
  },
  {
   "cell_type": "code",
   "execution_count": null,
   "metadata": {},
   "outputs": [],
   "source": [
    "pca_again = PCA(0.90)"
   ]
  },
  {
   "cell_type": "code",
   "execution_count": null,
   "metadata": {},
   "outputs": [],
   "source": [
    "df_train_pca2 = pca_again.fit_transform(X_train)\n",
    "df_train_pca2.shape"
   ]
  },
  {
   "cell_type": "code",
   "execution_count": null,
   "metadata": {},
   "outputs": [],
   "source": []
  },
  {
   "cell_type": "code",
   "execution_count": null,
   "metadata": {},
   "outputs": [],
   "source": []
  },
  {
   "cell_type": "code",
   "execution_count": null,
   "metadata": {},
   "outputs": [],
   "source": []
  },
  {
   "cell_type": "code",
   "execution_count": null,
   "metadata": {},
   "outputs": [],
   "source": [
    "learner_pca2 = LogisticRegression()\n",
    "model_pca2 = learner_pca2.fit(df_train_pca2,y_train)"
   ]
  },
  {
   "cell_type": "code",
   "execution_count": null,
   "metadata": {},
   "outputs": [],
   "source": [
    "df_test_pca2 = pca_again.transform(X_test)\n",
    "df_test_pca2.shape"
   ]
  },
  {
   "cell_type": "code",
   "execution_count": null,
   "metadata": {},
   "outputs": [],
   "source": [
    "#Making prediction on the test data\n",
    "pred_probs_test2 = model_pca2.predict_proba(df_test_pca2)[:,1]\n",
    "\"{:2.2f}\".format(metrics.roc_auc_score(y_test, pred_probs_test2))"
   ]
  },
  {
   "cell_type": "code",
   "execution_count": null,
   "metadata": {},
   "outputs": [],
   "source": [
    "%matplotlib inline\n",
    "fig = plt.figure(figsize = (8,8))\n",
    "plt.scatter(df_train_pca2[:,0], df_train_pca2[:,1], c = y_train.map({0:'red',1:'blue'}))\n",
    "plt.xlabel('Principal Component 1')\n",
    "plt.ylabel('Principal Component 2')\n",
    "plt.tight_layout()\n",
    "plt.show()"
   ]
  },
  {
   "cell_type": "code",
   "execution_count": null,
   "metadata": {},
   "outputs": [],
   "source": []
  },
  {
   "cell_type": "code",
   "execution_count": null,
   "metadata": {},
   "outputs": [],
   "source": []
  },
  {
   "cell_type": "code",
   "execution_count": null,
   "metadata": {},
   "outputs": [],
   "source": []
  },
  {
   "cell_type": "code",
   "execution_count": null,
   "metadata": {},
   "outputs": [],
   "source": [
    "#Improting the PCA module\n",
    "from sklearn.decomposition import PCA\n",
    "pca = PCA(svd_solver='randomized', random_state=42)"
   ]
  },
  {
   "cell_type": "code",
   "execution_count": null,
   "metadata": {},
   "outputs": [],
   "source": [
    "pca.fit(X_train)"
   ]
  },
  {
   "cell_type": "code",
   "execution_count": null,
   "metadata": {},
   "outputs": [],
   "source": [
    "pca.components_"
   ]
  },
  {
   "cell_type": "code",
   "execution_count": null,
   "metadata": {},
   "outputs": [],
   "source": [
    "colnames = list(X_train.columns)\n",
    "pcs_df = pd.DataFrame({'PC1':pca.components_[0],'PC2':pca.components_[1], 'Feature':colnames})\n",
    "pcs_df.head()"
   ]
  },
  {
   "cell_type": "code",
   "execution_count": null,
   "metadata": {},
   "outputs": [],
   "source": []
  },
  {
   "cell_type": "code",
   "execution_count": null,
   "metadata": {},
   "outputs": [],
   "source": [
    "#Making the screeplot - plotting the cumulative variance against the number of components\n",
    "%matplotlib inline\n",
    "fig = plt.figure(figsize = (12,8))\n",
    "plt.plot(np.cumsum(pca.explained_variance_ratio_))\n",
    "plt.xlabel('number of components')\n",
    "plt.ylabel('cumulative explained variance')\n",
    "plt.show()"
   ]
  },
  {
   "cell_type": "code",
   "execution_count": null,
   "metadata": {},
   "outputs": [],
   "source": [
    "#Using incremental PCA for efficiency - saves a lot of time on larger datasets\n",
    "from sklearn.decomposition import IncrementalPCA\n",
    "pca_final = IncrementalPCA(n_components=59)"
   ]
  },
  {
   "cell_type": "code",
   "execution_count": null,
   "metadata": {},
   "outputs": [],
   "source": [
    "df_train_pca = pca_final.fit_transform(X_train)\n",
    "df_train_pca.shape"
   ]
  },
  {
   "cell_type": "code",
   "execution_count": null,
   "metadata": {},
   "outputs": [],
   "source": [
    "#creating correlation matrix for the principal components\n",
    "corrmat = np.corrcoef(df_train_pca.transpose())"
   ]
  },
  {
   "cell_type": "code",
   "execution_count": null,
   "metadata": {},
   "outputs": [],
   "source": [
    "#plotting the correlation matrix\n",
    "%matplotlib inline\n",
    "plt.figure(figsize = (20,10))\n",
    "sns.heatmap(corrmat,annot = True)"
   ]
  },
  {
   "cell_type": "code",
   "execution_count": null,
   "metadata": {},
   "outputs": [],
   "source": [
    "# 1s -> 0s in diagonals\n",
    "corrmat_nodiag = corrmat - np.diagflat(corrmat.diagonal())\n",
    "print(\"max corr:\",corrmat_nodiag.max(), \", min corr: \", corrmat_nodiag.min(),)\n",
    "# we see that correlations are indeed very close to 0"
   ]
  },
  {
   "cell_type": "code",
   "execution_count": null,
   "metadata": {},
   "outputs": [],
   "source": [
    "#Applying selected components to the test data - 16 components\n",
    "df_test_pca = pca_final.transform(X_test)\n",
    "df_test_pca.shape"
   ]
  },
  {
   "cell_type": "code",
   "execution_count": null,
   "metadata": {},
   "outputs": [],
   "source": [
    "#Training the model on the train data\n",
    "from sklearn.linear_model import LogisticRegression\n",
    "from sklearn import metrics\n",
    "\n",
    "learner_pca = LogisticRegression()\n",
    "model_pca = learner_pca.fit(df_train_pca,y_train)"
   ]
  },
  {
   "cell_type": "code",
   "execution_count": null,
   "metadata": {},
   "outputs": [],
   "source": [
    "#Making prediction on the test data\n",
    "pred_probs_train = model_pca.predict_proba(df_train_pca)[:,1]\n",
    "\"{:2.2}\".format(metrics.roc_auc_score(y_train, pred_probs_train))"
   ]
  },
  {
   "cell_type": "code",
   "execution_count": null,
   "metadata": {},
   "outputs": [],
   "source": [
    "#Making prediction on the test data\n",
    "pred_probs_test = model_pca.predict_proba(df_test_pca)[:,1]\n",
    "\"{:2.2}\".format(metrics.roc_auc_score(y_test, pred_probs_test))"
   ]
  },
  {
   "cell_type": "code",
   "execution_count": null,
   "metadata": {},
   "outputs": [],
   "source": [
    "y_out_put_df=pd.DataFrame({\"y_test\":y_test, \"pred_probs_test\":pred_probs_test})"
   ]
  },
  {
   "cell_type": "code",
   "execution_count": null,
   "metadata": {},
   "outputs": [],
   "source": [
    "X_out_put_df=pd.DataFrame({\"y_train\":y_train, \"pred_probs_train\":pred_probs_train})"
   ]
  },
  {
   "cell_type": "code",
   "execution_count": null,
   "metadata": {},
   "outputs": [],
   "source": [
    "y_out_put_df['pred_probs_test']=y_out_put_df['pred_probs_test'].apply(lambda x: 1 if x>=0.3 else 0)"
   ]
  },
  {
   "cell_type": "code",
   "execution_count": null,
   "metadata": {},
   "outputs": [],
   "source": [
    "X_out_put_df['pred_probs_train']=X_out_put_df['pred_probs_train'].apply(lambda x: 1 if x>=0.3 else 0)"
   ]
  },
  {
   "cell_type": "code",
   "execution_count": null,
   "metadata": {},
   "outputs": [],
   "source": [
    "y_out_put_df.head()"
   ]
  },
  {
   "cell_type": "code",
   "execution_count": null,
   "metadata": {
    "scrolled": true
   },
   "outputs": [],
   "source": [
    "confusion_matrix(y_out_put_df.y_test,y_out_put_df.pred_probs_test)"
   ]
  },
  {
   "cell_type": "code",
   "execution_count": null,
   "metadata": {},
   "outputs": [],
   "source": [
    "X_out_put_df.head()"
   ]
  },
  {
   "cell_type": "code",
   "execution_count": null,
   "metadata": {},
   "outputs": [],
   "source": [
    "confusion_matrix(X_out_put_df.y_train,X_out_put_df.pred_probs_train)"
   ]
  },
  {
   "cell_type": "code",
   "execution_count": null,
   "metadata": {},
   "outputs": [],
   "source": []
  },
  {
   "cell_type": "code",
   "execution_count": null,
   "metadata": {},
   "outputs": [],
   "source": []
  }
 ],
 "metadata": {
  "kernelspec": {
   "display_name": "Python 3",
   "language": "python",
   "name": "python3"
  },
  "language_info": {
   "codemirror_mode": {
    "name": "ipython",
    "version": 3
   },
   "file_extension": ".py",
   "mimetype": "text/x-python",
   "name": "python",
   "nbconvert_exporter": "python",
   "pygments_lexer": "ipython3",
   "version": "3.7.3"
  }
 },
 "nbformat": 4,
 "nbformat_minor": 2
}
